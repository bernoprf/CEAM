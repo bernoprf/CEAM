{
 "cells": [
  {
   "cell_type": "markdown",
   "metadata": {},
   "source": [
    "Pre processing meteorological data"
   ]
  },
  {
   "cell_type": "markdown",
   "metadata": {},
   "source": [
    "# Intro"
   ]
  },
  {
   "cell_type": "markdown",
   "metadata": {},
   "source": [
    "## Libraries"
   ]
  },
  {
   "cell_type": "code",
   "execution_count": 1,
   "metadata": {
    "ExecuteTime": {
     "end_time": "2019-10-22T09:54:56.476987Z",
     "start_time": "2019-10-22T09:54:39.525907Z"
    }
   },
   "outputs": [],
   "source": [
    "import os\n",
    "import glob\n",
    "from datetime import datetime\n",
    "\n",
    "import pandas as pd\n",
    "import numpy as np\n",
    "from decimal import Decimal\n",
    "import collections\n",
    "import time\n",
    "\n",
    "from sklearn import datasets, linear_model\n",
    "import matplotlib\n",
    "import matplotlib.pyplot as plt\n",
    "import matplotlib.gridspec as gridspec\n",
    "%matplotlib inline\n",
    "\n",
    "import statsmodels.formula.api as sm\n",
    "from statsmodels.sandbox.regression.predstd import wls_prediction_std\n",
    "from brokenaxes import brokenaxes\n",
    "\n",
    "from scipy.stats import ttest_ind, ttest_ind_from_stats\n",
    "from scipy.special import stdtr\n",
    "\n",
    "from functools import reduce\n",
    "\n",
    "# from co2mpas.datasync import _get_interp_method"
   ]
  },
  {
   "cell_type": "markdown",
   "metadata": {},
   "source": [
    "## Input files"
   ]
  },
  {
   "cell_type": "code",
   "execution_count": 2,
   "metadata": {
    "ExecuteTime": {
     "end_time": "2019-10-22T09:54:57.048250Z",
     "start_time": "2019-10-22T09:54:56.490184Z"
    },
    "scrolled": true
   },
   "outputs": [],
   "source": [
    "# ESTACIONES 1\n",
    "\n",
    "path1 = r'C:/CicloHidrico/'         # directorio de las estaciones\n",
    "os.chdir(path1)\n",
    "\n",
    "estID1 = pd.read_csv(\"estaciones.csv\", sep=';', engine='python', index_col=1)                   # estaciones con ID number\n",
    "estRang1 = pd.read_excel(\"EstacionesTermoPluvio.xlsx\", header=1, sep=';', usecols=range(1, 10)) # estaciones con rango de fecha\n",
    "\n",
    "# print(os.getcwd())\n",
    "# # Display all of the files found in your current working directory\n",
    "# print(os.listdir(os.getcwd()))"
   ]
  },
  {
   "cell_type": "code",
   "execution_count": 3,
   "metadata": {
    "ExecuteTime": {
     "end_time": "2019-10-22T09:54:57.301014Z",
     "start_time": "2019-10-22T09:54:57.074465Z"
    }
   },
   "outputs": [],
   "source": [
    "# ESTACIONES 2 (nuevas de CU, AB, TE)\n",
    "\n",
    "path2 = r'C:/CicloHidrico/AemetBernat'      # directorio de los datos\n",
    "os.chdir(path2)\n",
    "\n",
    "estUTM2 = pd.read_excel(\"Existencias_estaciones_climatologicas_CuAbTe.xls\", header=0, sep=';', index_col=0) # 636 con UTM\n",
    "\n",
    "path3 = r'C:/CicloHidrico/DB_Paco'      # directorio de los datos\n",
    "os.chdir(path3)\n",
    "\n",
    "estnew2 = pd.read_csv(\"estacions_AEMET_Bernat.csv\", sep=';', engine='python', index_col=0)    # estaciones con ID number"
   ]
  },
  {
   "cell_type": "code",
   "execution_count": 4,
   "metadata": {
    "ExecuteTime": {
     "end_time": "2019-10-22T09:55:10.309840Z",
     "start_time": "2019-10-22T09:55:04.258807Z"
    }
   },
   "outputs": [
    {
     "name": "stderr",
     "output_type": "stream",
     "text": [
      "C:\\Users\\ceam\\Anaconda3\\lib\\site-packages\\IPython\\core\\interactiveshell.py:3049: DtypeWarning: Columns (0) have mixed types. Specify dtype option on import or set low_memory=False.\n",
      "  interactivity=interactivity, compiler=compiler, result=result)\n"
     ]
    }
   ],
   "source": [
    "# DATOS PRECIPITACIÓN \n",
    "precipitacion = pd.read_csv(\"precipitacion_AEMET.csv\", sep=';',                # precipitacion total diaria DB\n",
    "                  names=[\"CodigoEst\", \"Fecha\", \"Precipitacion\", \"ValidPP\"],\n",
    "#                   index_col=0\n",
    "                           )   "
   ]
  },
  {
   "cell_type": "code",
   "execution_count": 5,
   "metadata": {
    "ExecuteTime": {
     "end_time": "2019-10-22T09:55:12.105295Z",
     "start_time": "2019-10-22T09:55:10.357351Z"
    }
   },
   "outputs": [],
   "source": [
    "precipitacion.drop(precipitacion[precipitacion.CodigoEst=='Codig'].index, inplace=True)"
   ]
  },
  {
   "cell_type": "code",
   "execution_count": 6,
   "metadata": {
    "ExecuteTime": {
     "end_time": "2019-10-22T09:55:15.587836Z",
     "start_time": "2019-10-22T09:55:12.153140Z"
    }
   },
   "outputs": [],
   "source": [
    "# DATOS TEMPERATURAS\n",
    "\n",
    "t_max = pd.read_csv(\"temperatura_max(1).csv\", sep=';',                         # temperaturas màximas diarias\n",
    "                    names=[\"CodigoEst\", \"Fecha\", \"Tmaxima\", \"ValidTmax\"],\n",
    "#                     index_col=0\n",
    "                   )      \n",
    "\n",
    "t_min = pd.read_csv(\"temperatura_min(1).csv\", sep=';',                         # temperaturas mínimas diarias \n",
    "                    names=[\"CodigoEst\", \"Fecha\", \"Tminima\", \"ValidTmin\"],\n",
    "#                     index_col=0\n",
    "                   )                                               "
   ]
  },
  {
   "cell_type": "code",
   "execution_count": 69,
   "metadata": {
    "ExecuteTime": {
     "end_time": "2019-09-02T08:33:48.630607Z",
     "start_time": "2019-09-02T08:33:48.622598Z"
    }
   },
   "outputs": [
    {
     "data": {
      "text/html": [
       "<div>\n",
       "<style scoped>\n",
       "    .dataframe tbody tr th:only-of-type {\n",
       "        vertical-align: middle;\n",
       "    }\n",
       "\n",
       "    .dataframe tbody tr th {\n",
       "        vertical-align: top;\n",
       "    }\n",
       "\n",
       "    .dataframe thead th {\n",
       "        text-align: right;\n",
       "    }\n",
       "</style>\n",
       "<table border=\"1\" class=\"dataframe\">\n",
       "  <thead>\n",
       "    <tr style=\"text-align: right;\">\n",
       "      <th></th>\n",
       "      <th>CodigoEst</th>\n",
       "      <th>Fecha</th>\n",
       "      <th>Tmaxima</th>\n",
       "      <th>ValidTmax</th>\n",
       "    </tr>\n",
       "  </thead>\n",
       "  <tbody>\n",
       "    <tr>\n",
       "      <th>0</th>\n",
       "      <td>7031</td>\n",
       "      <td>1958-01-01</td>\n",
       "      <td>14.5</td>\n",
       "      <td>S</td>\n",
       "    </tr>\n",
       "    <tr>\n",
       "      <th>1</th>\n",
       "      <td>7031</td>\n",
       "      <td>1958-01-02</td>\n",
       "      <td>16.0</td>\n",
       "      <td>S</td>\n",
       "    </tr>\n",
       "    <tr>\n",
       "      <th>2</th>\n",
       "      <td>7031</td>\n",
       "      <td>1958-01-03</td>\n",
       "      <td>15.0</td>\n",
       "      <td>S</td>\n",
       "    </tr>\n",
       "    <tr>\n",
       "      <th>3</th>\n",
       "      <td>7031</td>\n",
       "      <td>1958-01-04</td>\n",
       "      <td>13.5</td>\n",
       "      <td>S</td>\n",
       "    </tr>\n",
       "    <tr>\n",
       "      <th>4</th>\n",
       "      <td>7031</td>\n",
       "      <td>1958-01-05</td>\n",
       "      <td>18.0</td>\n",
       "      <td>S</td>\n",
       "    </tr>\n",
       "  </tbody>\n",
       "</table>\n",
       "</div>"
      ],
      "text/plain": [
       "  CodigoEst       Fecha  Tmaxima ValidTmax\n",
       "0      7031  1958-01-01     14.5         S\n",
       "1      7031  1958-01-02     16.0         S\n",
       "2      7031  1958-01-03     15.0         S\n",
       "3      7031  1958-01-04     13.5         S\n",
       "4      7031  1958-01-05     18.0         S"
      ]
     },
     "execution_count": 69,
     "metadata": {},
     "output_type": "execute_result"
    }
   ],
   "source": [
    "t_max.head()"
   ]
  },
  {
   "cell_type": "markdown",
   "metadata": {},
   "source": [
    "# Pre processing"
   ]
  },
  {
   "cell_type": "markdown",
   "metadata": {},
   "source": [
    "## Datos de las estaciones"
   ]
  },
  {
   "cell_type": "markdown",
   "metadata": {},
   "source": [
    "### Formato del Código"
   ]
  },
  {
   "cell_type": "code",
   "execution_count": 7,
   "metadata": {
    "ExecuteTime": {
     "end_time": "2019-10-22T10:43:20.856460Z",
     "start_time": "2019-10-22T10:43:20.277008Z"
    }
   },
   "outputs": [],
   "source": [
    "# Todos los códigos son strings\n",
    "\n",
    "estID1.index = estID1.index.astype('str')\n",
    "estUTM2.index = estUTM2.index.astype('str')\n",
    "estnew2.index = estnew2.index.astype('str')\n",
    "precipitacion.CodigoEst = precipitacion.CodigoEst.astype('str')\n",
    "t_max.CodigoEst = t_max.CodigoEst.astype('str')\n",
    "t_min.CodigoEst = t_min.CodigoEst.astype('str')"
   ]
  },
  {
   "cell_type": "markdown",
   "metadata": {},
   "source": [
    "### Unir estaciones 1"
   ]
  },
  {
   "cell_type": "code",
   "execution_count": 8,
   "metadata": {
    "ExecuteTime": {
     "end_time": "2019-10-22T10:43:28.343654Z",
     "start_time": "2019-10-22T10:43:28.336702Z"
    }
   },
   "outputs": [],
   "source": [
    "estID1 = estID1.reset_index().drop(columns=['Unnamed: 0']) # CódigoEst fuera del índice"
   ]
  },
  {
   "cell_type": "code",
   "execution_count": 10,
   "metadata": {
    "ExecuteTime": {
     "end_time": "2019-10-22T10:44:05.925837Z",
     "start_time": "2019-10-22T10:44:05.913840Z"
    }
   },
   "outputs": [
    {
     "data": {
      "text/html": [
       "<div>\n",
       "<style scoped>\n",
       "    .dataframe tbody tr th:only-of-type {\n",
       "        vertical-align: middle;\n",
       "    }\n",
       "\n",
       "    .dataframe tbody tr th {\n",
       "        vertical-align: top;\n",
       "    }\n",
       "\n",
       "    .dataframe thead th {\n",
       "        text-align: right;\n",
       "    }\n",
       "</style>\n",
       "<table border=\"1\" class=\"dataframe\">\n",
       "  <thead>\n",
       "    <tr style=\"text-align: right;\">\n",
       "      <th></th>\n",
       "      <th>ESTACIÓN</th>\n",
       "      <th>Longitud</th>\n",
       "      <th>Latitud</th>\n",
       "      <th>Altura</th>\n",
       "      <th>Provincia</th>\n",
       "      <th>Cobertura Temperatura</th>\n",
       "      <th>Cobertura Precipitación</th>\n",
       "      <th>Temp</th>\n",
       "      <th>Pluv</th>\n",
       "    </tr>\n",
       "  </thead>\n",
       "  <tbody>\n",
       "    <tr>\n",
       "      <th>0</th>\n",
       "      <td>A CORUNYA (ESTACION COMPLETA)</td>\n",
       "      <td>-8.42</td>\n",
       "      <td>43.37</td>\n",
       "      <td>58</td>\n",
       "      <td>AC</td>\n",
       "      <td>&lt;-&gt;</td>\n",
       "      <td>1930-10-01&lt;-&gt;2010-10-31</td>\n",
       "      <td>NO</td>\n",
       "      <td>SI</td>\n",
       "    </tr>\n",
       "    <tr>\n",
       "      <th>1</th>\n",
       "      <td>ABABUJ</td>\n",
       "      <td>-1.28</td>\n",
       "      <td>40.56</td>\n",
       "      <td>1368</td>\n",
       "      <td>TE</td>\n",
       "      <td>&lt;-&gt;</td>\n",
       "      <td>&lt;-&gt;</td>\n",
       "      <td>NO</td>\n",
       "      <td>NO</td>\n",
       "    </tr>\n",
       "    <tr>\n",
       "      <th>2</th>\n",
       "      <td>ABANILLA, CHS</td>\n",
       "      <td>-1.03</td>\n",
       "      <td>38.20</td>\n",
       "      <td>222</td>\n",
       "      <td>MU</td>\n",
       "      <td>1958-01-01&lt;-&gt;2010-10-31</td>\n",
       "      <td>1958-01-01&lt;-&gt;2010-10-31</td>\n",
       "      <td>SI</td>\n",
       "      <td>SI</td>\n",
       "    </tr>\n",
       "    <tr>\n",
       "      <th>3</th>\n",
       "      <td>ABARAN (SIERRA DE LA PILA)</td>\n",
       "      <td>-1.32</td>\n",
       "      <td>38.25</td>\n",
       "      <td>300</td>\n",
       "      <td>MU</td>\n",
       "      <td>2007-10-01&lt;-&gt;2010-10-31</td>\n",
       "      <td>1961-04-01&lt;-&gt;2010-10-31</td>\n",
       "      <td>SI</td>\n",
       "      <td>SI</td>\n",
       "    </tr>\n",
       "    <tr>\n",
       "      <th>4</th>\n",
       "      <td>ABARAN (SIERRA DEL ORO)</td>\n",
       "      <td>-1.42</td>\n",
       "      <td>38.18</td>\n",
       "      <td>400</td>\n",
       "      <td>MU</td>\n",
       "      <td>2007-10-01&lt;-&gt;2010-10-31</td>\n",
       "      <td>1957-04-01&lt;-&gt;2010-10-31</td>\n",
       "      <td>SI</td>\n",
       "      <td>SI</td>\n",
       "    </tr>\n",
       "  </tbody>\n",
       "</table>\n",
       "</div>"
      ],
      "text/plain": [
       "                        ESTACIÓN  Longitud  Latitud  Altura Provincia  \\\n",
       "0  A CORUNYA (ESTACION COMPLETA)     -8.42    43.37      58        AC   \n",
       "1                         ABABUJ     -1.28    40.56    1368        TE   \n",
       "2                  ABANILLA, CHS     -1.03    38.20     222        MU   \n",
       "3     ABARAN (SIERRA DE LA PILA)     -1.32    38.25     300        MU   \n",
       "4        ABARAN (SIERRA DEL ORO)     -1.42    38.18     400        MU   \n",
       "\n",
       "     Cobertura Temperatura  Cobertura Precipitación Temp Pluv  \n",
       "0                      <->  1930-10-01<->2010-10-31   NO   SI  \n",
       "1                      <->                      <->   NO   NO  \n",
       "2  1958-01-01<->2010-10-31  1958-01-01<->2010-10-31   SI   SI  \n",
       "3  2007-10-01<->2010-10-31  1961-04-01<->2010-10-31   SI   SI  \n",
       "4  2007-10-01<->2010-10-31  1957-04-01<->2010-10-31   SI   SI  "
      ]
     },
     "execution_count": 10,
     "metadata": {},
     "output_type": "execute_result"
    }
   ],
   "source": [
    "estRang1.head()"
   ]
  },
  {
   "cell_type": "code",
   "execution_count": 11,
   "metadata": {
    "ExecuteTime": {
     "end_time": "2019-10-22T10:44:14.309310Z",
     "start_time": "2019-10-22T10:44:14.289337Z"
    }
   },
   "outputs": [
    {
     "data": {
      "text/html": [
       "<div>\n",
       "<style scoped>\n",
       "    .dataframe tbody tr th:only-of-type {\n",
       "        vertical-align: middle;\n",
       "    }\n",
       "\n",
       "    .dataframe tbody tr th {\n",
       "        vertical-align: top;\n",
       "    }\n",
       "\n",
       "    .dataframe thead th {\n",
       "        text-align: right;\n",
       "    }\n",
       "</style>\n",
       "<table border=\"1\" class=\"dataframe\">\n",
       "  <thead>\n",
       "    <tr style=\"text-align: right;\">\n",
       "      <th></th>\n",
       "      <th>CodigoEst</th>\n",
       "      <th>Estacion</th>\n",
       "      <th>Tipo</th>\n",
       "      <th>Longitud</th>\n",
       "      <th>Latitud</th>\n",
       "      <th>Altitud</th>\n",
       "      <th>Xutm</th>\n",
       "      <th>Yutm</th>\n",
       "      <th>Provincia</th>\n",
       "      <th>Umbral_20_40_km_costa</th>\n",
       "      <th>ESTACIÓN</th>\n",
       "      <th>Long</th>\n",
       "      <th>Lat</th>\n",
       "      <th>Altura</th>\n",
       "      <th>Prov</th>\n",
       "      <th>Cobertura Temperatura</th>\n",
       "      <th>Cobertura Precipitación</th>\n",
       "      <th>Temp</th>\n",
       "      <th>Pluv</th>\n",
       "    </tr>\n",
       "  </thead>\n",
       "  <tbody>\n",
       "    <tr>\n",
       "      <th>0</th>\n",
       "      <td>1104</td>\n",
       "      <td>MIRONES</td>\n",
       "      <td>INMman</td>\n",
       "      <td>#¡CAMPO!</td>\n",
       "      <td>43.52</td>\n",
       "      <td>200</td>\n",
       "      <td>442832</td>\n",
       "      <td>4793841</td>\n",
       "      <td>CN</td>\n",
       "      <td>2</td>\n",
       "      <td>MIRONES</td>\n",
       "      <td>-3.71</td>\n",
       "      <td>43.52</td>\n",
       "      <td>200</td>\n",
       "      <td>CN</td>\n",
       "      <td>&lt;-&gt;</td>\n",
       "      <td>1968-01-01&lt;-&gt;2010-10-31</td>\n",
       "      <td>NO</td>\n",
       "      <td>SI</td>\n",
       "    </tr>\n",
       "    <tr>\n",
       "      <th>1</th>\n",
       "      <td>1212E</td>\n",
       "      <td>RANON (AEROPUERTO DE ASTURIAS)</td>\n",
       "      <td>INMman</td>\n",
       "      <td>#¡CAMPO!</td>\n",
       "      <td>43.79</td>\n",
       "      <td>127</td>\n",
       "      <td>255062</td>\n",
       "      <td>4828087</td>\n",
       "      <td>AS</td>\n",
       "      <td>1</td>\n",
       "      <td>RANON (AEROPUERTO DE ASTURIAS)</td>\n",
       "      <td>-6.04</td>\n",
       "      <td>43.79</td>\n",
       "      <td>127</td>\n",
       "      <td>AS</td>\n",
       "      <td>&lt;-&gt;</td>\n",
       "      <td>1968-08-01&lt;-&gt;2010-10-31</td>\n",
       "      <td>NO</td>\n",
       "      <td>SI</td>\n",
       "    </tr>\n",
       "    <tr>\n",
       "      <th>2</th>\n",
       "      <td>1259</td>\n",
       "      <td>GENESTOSO</td>\n",
       "      <td>INMman</td>\n",
       "      <td>#¡CAMPO!</td>\n",
       "      <td>43.28</td>\n",
       "      <td>1180</td>\n",
       "      <td>223429</td>\n",
       "      <td>4773596</td>\n",
       "      <td>AS</td>\n",
       "      <td>3</td>\n",
       "      <td>GENESTOSO</td>\n",
       "      <td>-6.40</td>\n",
       "      <td>43.28</td>\n",
       "      <td>1180</td>\n",
       "      <td>AS</td>\n",
       "      <td>&lt;-&gt;</td>\n",
       "      <td>1961-01-01&lt;-&gt;2010-10-31</td>\n",
       "      <td>NO</td>\n",
       "      <td>SI</td>\n",
       "    </tr>\n",
       "    <tr>\n",
       "      <th>3</th>\n",
       "      <td>1387</td>\n",
       "      <td>A CORUNYA (ESTACION COMPLETA)</td>\n",
       "      <td>INMman</td>\n",
       "      <td>#¡CAMPO!</td>\n",
       "      <td>43.37</td>\n",
       "      <td>58</td>\n",
       "      <td>59149</td>\n",
       "      <td>4791283</td>\n",
       "      <td>AC</td>\n",
       "      <td>1</td>\n",
       "      <td>A CORUNYA (ESTACION COMPLETA)</td>\n",
       "      <td>-8.42</td>\n",
       "      <td>43.37</td>\n",
       "      <td>58</td>\n",
       "      <td>AC</td>\n",
       "      <td>&lt;-&gt;</td>\n",
       "      <td>1930-10-01&lt;-&gt;2010-10-31</td>\n",
       "      <td>NO</td>\n",
       "      <td>SI</td>\n",
       "    </tr>\n",
       "    <tr>\n",
       "      <th>4</th>\n",
       "      <td>1428</td>\n",
       "      <td>SANTIAGO COMPOSTELA (LABACOLLA</td>\n",
       "      <td>INMman</td>\n",
       "      <td>#¡CAMPO!</td>\n",
       "      <td>42.90</td>\n",
       "      <td>364</td>\n",
       "      <td>55186</td>\n",
       "      <td>4739467</td>\n",
       "      <td>AC</td>\n",
       "      <td>2</td>\n",
       "      <td>SANTIAGO COMPOSTELA (LABACOLLA</td>\n",
       "      <td>-8.43</td>\n",
       "      <td>42.90</td>\n",
       "      <td>364</td>\n",
       "      <td>AC</td>\n",
       "      <td>&lt;-&gt;</td>\n",
       "      <td>1943-11-01&lt;-&gt;2010-10-31</td>\n",
       "      <td>NO</td>\n",
       "      <td>SI</td>\n",
       "    </tr>\n",
       "  </tbody>\n",
       "</table>\n",
       "</div>"
      ],
      "text/plain": [
       "  CodigoEst                        Estacion    Tipo  Longitud  Latitud  \\\n",
       "0      1104                         MIRONES  INMman  #¡CAMPO!    43.52   \n",
       "1     1212E  RANON (AEROPUERTO DE ASTURIAS)  INMman  #¡CAMPO!    43.79   \n",
       "2      1259                       GENESTOSO  INMman  #¡CAMPO!    43.28   \n",
       "3      1387   A CORUNYA (ESTACION COMPLETA)  INMman  #¡CAMPO!    43.37   \n",
       "4      1428  SANTIAGO COMPOSTELA (LABACOLLA  INMman  #¡CAMPO!    42.90   \n",
       "\n",
       "   Altitud    Xutm     Yutm Provincia  Umbral_20_40_km_costa  \\\n",
       "0      200  442832  4793841        CN                      2   \n",
       "1      127  255062  4828087        AS                      1   \n",
       "2     1180  223429  4773596        AS                      3   \n",
       "3       58   59149  4791283        AC                      1   \n",
       "4      364   55186  4739467        AC                      2   \n",
       "\n",
       "                         ESTACIÓN  Long    Lat  Altura Prov  \\\n",
       "0                         MIRONES -3.71  43.52     200   CN   \n",
       "1  RANON (AEROPUERTO DE ASTURIAS) -6.04  43.79     127   AS   \n",
       "2                       GENESTOSO -6.40  43.28    1180   AS   \n",
       "3   A CORUNYA (ESTACION COMPLETA) -8.42  43.37      58   AC   \n",
       "4  SANTIAGO COMPOSTELA (LABACOLLA -8.43  42.90     364   AC   \n",
       "\n",
       "  Cobertura Temperatura  Cobertura Precipitación Temp Pluv  \n",
       "0                   <->  1968-01-01<->2010-10-31   NO   SI  \n",
       "1                   <->  1968-08-01<->2010-10-31   NO   SI  \n",
       "2                   <->  1961-01-01<->2010-10-31   NO   SI  \n",
       "3                   <->  1930-10-01<->2010-10-31   NO   SI  \n",
       "4                   <->  1943-11-01<->2010-10-31   NO   SI  "
      ]
     },
     "execution_count": 11,
     "metadata": {},
     "output_type": "execute_result"
    }
   ],
   "source": [
    "estRang1 = estRang1.rename(columns={'Longitud': 'Long', 'Latitud': 'Lat', 'Provincia':'Prov'}) # evita columnas con mismo nombre\n",
    "estaciones1 = pd.merge(estID1, estRang1, left_on='Estacion', right_on='ESTACIÓN', how='inner')                                                            # concatena DFs\n",
    "\n",
    "estaciones1.head()"
   ]
  },
  {
   "cell_type": "code",
   "execution_count": 12,
   "metadata": {
    "ExecuteTime": {
     "end_time": "2019-10-22T10:44:36.170161Z",
     "start_time": "2019-10-22T10:44:36.162186Z"
    }
   },
   "outputs": [],
   "source": [
    "estaciones1 = pd.merge(estID1, estRang1, left_on='Estacion', right_on='ESTACIÓN', how='inner')                 # concatena DFs"
   ]
  },
  {
   "cell_type": "code",
   "execution_count": 13,
   "metadata": {
    "ExecuteTime": {
     "end_time": "2019-10-22T10:45:10.105531Z",
     "start_time": "2019-10-22T10:45:10.097556Z"
    }
   },
   "outputs": [],
   "source": [
    "estaciones1 = estaciones1.drop_duplicates(subset='CodigoEst').reset_index(drop=True) "
   ]
  },
  {
   "cell_type": "code",
   "execution_count": 14,
   "metadata": {
    "ExecuteTime": {
     "end_time": "2019-10-22T10:45:22.295141Z",
     "start_time": "2019-10-22T10:45:22.281182Z"
    }
   },
   "outputs": [
    {
     "data": {
      "text/html": [
       "<div>\n",
       "<style scoped>\n",
       "    .dataframe tbody tr th:only-of-type {\n",
       "        vertical-align: middle;\n",
       "    }\n",
       "\n",
       "    .dataframe tbody tr th {\n",
       "        vertical-align: top;\n",
       "    }\n",
       "\n",
       "    .dataframe thead th {\n",
       "        text-align: right;\n",
       "    }\n",
       "</style>\n",
       "<table border=\"1\" class=\"dataframe\">\n",
       "  <thead>\n",
       "    <tr style=\"text-align: right;\">\n",
       "      <th></th>\n",
       "      <th>CodigoEst</th>\n",
       "      <th>Estacion</th>\n",
       "      <th>Tipo</th>\n",
       "      <th>Longitud</th>\n",
       "      <th>Latitud</th>\n",
       "      <th>Altitud</th>\n",
       "      <th>Xutm</th>\n",
       "      <th>Yutm</th>\n",
       "      <th>Provincia</th>\n",
       "      <th>Umbral_20_40_km_costa</th>\n",
       "      <th>ESTACIÓN</th>\n",
       "      <th>Long</th>\n",
       "      <th>Lat</th>\n",
       "      <th>Altura</th>\n",
       "      <th>Prov</th>\n",
       "      <th>Cobertura Temperatura</th>\n",
       "      <th>Cobertura Precipitación</th>\n",
       "      <th>Temp</th>\n",
       "      <th>Pluv</th>\n",
       "    </tr>\n",
       "  </thead>\n",
       "  <tbody>\n",
       "    <tr>\n",
       "      <th>897</th>\n",
       "      <td>IVI47</td>\n",
       "      <td>CREVILLENT, IVIA</td>\n",
       "      <td>IVIAaut</td>\n",
       "      <td>#¡CAMPO!</td>\n",
       "      <td>38.22</td>\n",
       "      <td>84</td>\n",
       "      <td>692560</td>\n",
       "      <td>4234063</td>\n",
       "      <td>A</td>\n",
       "      <td>1</td>\n",
       "      <td>CREVILLENT, IVIA</td>\n",
       "      <td>-0.80</td>\n",
       "      <td>38.22</td>\n",
       "      <td>84</td>\n",
       "      <td>A</td>\n",
       "      <td>2001-07-16&lt;-&gt;2004-03-11</td>\n",
       "      <td>2001-07-16&lt;-&gt;2004-03-11</td>\n",
       "      <td>SI</td>\n",
       "      <td>SI</td>\n",
       "    </tr>\n",
       "    <tr>\n",
       "      <th>898</th>\n",
       "      <td>IVI48</td>\n",
       "      <td>ALMORADI, IVIA</td>\n",
       "      <td>IVIAaut</td>\n",
       "      <td>#¡CAMPO!</td>\n",
       "      <td>38.11</td>\n",
       "      <td>9</td>\n",
       "      <td>695790</td>\n",
       "      <td>4221185</td>\n",
       "      <td>A</td>\n",
       "      <td>1</td>\n",
       "      <td>ALMORADI, IVIA</td>\n",
       "      <td>-0.77</td>\n",
       "      <td>38.11</td>\n",
       "      <td>9</td>\n",
       "      <td>A</td>\n",
       "      <td>2001-07-16&lt;-&gt;2004-03-11</td>\n",
       "      <td>2001-07-16&lt;-&gt;2004-03-11</td>\n",
       "      <td>SI</td>\n",
       "      <td>SI</td>\n",
       "    </tr>\n",
       "    <tr>\n",
       "      <th>899</th>\n",
       "      <td>IVI49</td>\n",
       "      <td>CATRAL, IVIA</td>\n",
       "      <td>IVIAaut</td>\n",
       "      <td>#¡CAMPO!</td>\n",
       "      <td>38.15</td>\n",
       "      <td>9</td>\n",
       "      <td>689858</td>\n",
       "      <td>4224746</td>\n",
       "      <td>A</td>\n",
       "      <td>1</td>\n",
       "      <td>CATRAL, IVIA</td>\n",
       "      <td>-0.83</td>\n",
       "      <td>38.15</td>\n",
       "      <td>9</td>\n",
       "      <td>A</td>\n",
       "      <td>2001-06-28&lt;-&gt;2004-03-11</td>\n",
       "      <td>2001-06-28&lt;-&gt;2004-03-11</td>\n",
       "      <td>SI</td>\n",
       "      <td>SI</td>\n",
       "    </tr>\n",
       "    <tr>\n",
       "      <th>900</th>\n",
       "      <td>IVI50</td>\n",
       "      <td>ORIHUELA, LA MURADA, IVIA</td>\n",
       "      <td>IVIAaut</td>\n",
       "      <td>#¡CAMPO!</td>\n",
       "      <td>38.18</td>\n",
       "      <td>86</td>\n",
       "      <td>678092</td>\n",
       "      <td>4228180</td>\n",
       "      <td>A</td>\n",
       "      <td>2</td>\n",
       "      <td>ORIHUELA, LA MURADA, IVIA</td>\n",
       "      <td>-0.97</td>\n",
       "      <td>38.18</td>\n",
       "      <td>86</td>\n",
       "      <td>A</td>\n",
       "      <td>2001-06-28&lt;-&gt;2004-03-11</td>\n",
       "      <td>2001-06-28&lt;-&gt;2004-03-11</td>\n",
       "      <td>SI</td>\n",
       "      <td>SI</td>\n",
       "    </tr>\n",
       "    <tr>\n",
       "      <th>901</th>\n",
       "      <td>IVI51</td>\n",
       "      <td>PILAR DE LA HORADADA, IVIA</td>\n",
       "      <td>IVIAaut</td>\n",
       "      <td>#¡CAMPO!</td>\n",
       "      <td>37.87</td>\n",
       "      <td>10</td>\n",
       "      <td>694990</td>\n",
       "      <td>4193406</td>\n",
       "      <td>A</td>\n",
       "      <td>1</td>\n",
       "      <td>PILAR DE LA HORADADA, IVIA</td>\n",
       "      <td>-0.78</td>\n",
       "      <td>37.87</td>\n",
       "      <td>10</td>\n",
       "      <td>A</td>\n",
       "      <td>2001-06-28&lt;-&gt;2004-03-11</td>\n",
       "      <td>2001-06-28&lt;-&gt;2004-03-11</td>\n",
       "      <td>SI</td>\n",
       "      <td>SI</td>\n",
       "    </tr>\n",
       "  </tbody>\n",
       "</table>\n",
       "</div>"
      ],
      "text/plain": [
       "    CodigoEst                    Estacion     Tipo  Longitud  Latitud  \\\n",
       "897     IVI47            CREVILLENT, IVIA  IVIAaut  #¡CAMPO!    38.22   \n",
       "898     IVI48              ALMORADI, IVIA  IVIAaut  #¡CAMPO!    38.11   \n",
       "899     IVI49                CATRAL, IVIA  IVIAaut  #¡CAMPO!    38.15   \n",
       "900     IVI50   ORIHUELA, LA MURADA, IVIA  IVIAaut  #¡CAMPO!    38.18   \n",
       "901     IVI51  PILAR DE LA HORADADA, IVIA  IVIAaut  #¡CAMPO!    37.87   \n",
       "\n",
       "     Altitud    Xutm     Yutm Provincia  Umbral_20_40_km_costa  \\\n",
       "897       84  692560  4234063         A                      1   \n",
       "898        9  695790  4221185         A                      1   \n",
       "899        9  689858  4224746         A                      1   \n",
       "900       86  678092  4228180         A                      2   \n",
       "901       10  694990  4193406         A                      1   \n",
       "\n",
       "                       ESTACIÓN  Long    Lat  Altura Prov  \\\n",
       "897            CREVILLENT, IVIA -0.80  38.22      84    A   \n",
       "898              ALMORADI, IVIA -0.77  38.11       9    A   \n",
       "899                CATRAL, IVIA -0.83  38.15       9    A   \n",
       "900   ORIHUELA, LA MURADA, IVIA -0.97  38.18      86    A   \n",
       "901  PILAR DE LA HORADADA, IVIA -0.78  37.87      10    A   \n",
       "\n",
       "       Cobertura Temperatura  Cobertura Precipitación Temp Pluv  \n",
       "897  2001-07-16<->2004-03-11  2001-07-16<->2004-03-11   SI   SI  \n",
       "898  2001-07-16<->2004-03-11  2001-07-16<->2004-03-11   SI   SI  \n",
       "899  2001-06-28<->2004-03-11  2001-06-28<->2004-03-11   SI   SI  \n",
       "900  2001-06-28<->2004-03-11  2001-06-28<->2004-03-11   SI   SI  \n",
       "901  2001-06-28<->2004-03-11  2001-06-28<->2004-03-11   SI   SI  "
      ]
     },
     "execution_count": 14,
     "metadata": {},
     "output_type": "execute_result"
    }
   ],
   "source": [
    "estaciones1.tail()"
   ]
  },
  {
   "cell_type": "markdown",
   "metadata": {},
   "source": [
    "### Unir estaciones 2"
   ]
  },
  {
   "cell_type": "code",
   "execution_count": 15,
   "metadata": {
    "ExecuteTime": {
     "end_time": "2019-10-22T10:45:38.327771Z",
     "start_time": "2019-10-22T10:45:38.320790Z"
    }
   },
   "outputs": [],
   "source": [
    "estaciones2 = pd.merge(estnew2, estUTM2, left_index=True, right_index=True)"
   ]
  },
  {
   "cell_type": "code",
   "execution_count": 16,
   "metadata": {
    "ExecuteTime": {
     "end_time": "2019-10-22T10:45:38.710022Z",
     "start_time": "2019-10-22T10:45:38.704024Z"
    }
   },
   "outputs": [],
   "source": [
    "estaciones2 = estaciones2.reset_index().rename(columns={'index':'CodigoEst'})"
   ]
  },
  {
   "cell_type": "code",
   "execution_count": 17,
   "metadata": {
    "ExecuteTime": {
     "end_time": "2019-10-22T10:45:39.079440Z",
     "start_time": "2019-10-22T10:45:39.058502Z"
    }
   },
   "outputs": [
    {
     "data": {
      "text/html": [
       "<div>\n",
       "<style scoped>\n",
       "    .dataframe tbody tr th:only-of-type {\n",
       "        vertical-align: middle;\n",
       "    }\n",
       "\n",
       "    .dataframe tbody tr th {\n",
       "        vertical-align: top;\n",
       "    }\n",
       "\n",
       "    .dataframe thead th {\n",
       "        text-align: right;\n",
       "    }\n",
       "</style>\n",
       "<table border=\"1\" class=\"dataframe\">\n",
       "  <thead>\n",
       "    <tr style=\"text-align: right;\">\n",
       "      <th></th>\n",
       "      <th>CodigoEst</th>\n",
       "      <th>Estacion</th>\n",
       "      <th>Tipo</th>\n",
       "      <th>Longitud_x</th>\n",
       "      <th>Latitud_x</th>\n",
       "      <th>Altitud</th>\n",
       "      <th>Xutm</th>\n",
       "      <th>Yutm</th>\n",
       "      <th>Provincia_x</th>\n",
       "      <th>Umbral_20_40_km_costa</th>\n",
       "      <th>...</th>\n",
       "      <th>Provincia_y</th>\n",
       "      <th>Fec.Ini</th>\n",
       "      <th>Fec.Fin</th>\n",
       "      <th>Meses</th>\n",
       "      <th>AÃ±os C.</th>\n",
       "      <th>AÃ±os I.</th>\n",
       "      <th>Serie</th>\n",
       "      <th>Sig.Serie</th>\n",
       "      <th>UTM X</th>\n",
       "      <th>UTM Y</th>\n",
       "    </tr>\n",
       "  </thead>\n",
       "  <tbody>\n",
       "    <tr>\n",
       "      <th>0</th>\n",
       "      <td>3010</td>\n",
       "      <td>RODENAS</td>\n",
       "      <td>INMman</td>\n",
       "      <td>-15.169.444.444.444.400</td>\n",
       "      <td>4.063.916.666.666.660</td>\n",
       "      <td>1370</td>\n",
       "      <td>0</td>\n",
       "      <td>0</td>\n",
       "      <td>TE</td>\n",
       "      <td>NaN</td>\n",
       "      <td>...</td>\n",
       "      <td>TERUEL</td>\n",
       "      <td>1968</td>\n",
       "      <td>2019</td>\n",
       "      <td>554</td>\n",
       "      <td>36</td>\n",
       "      <td>15</td>\n",
       "      <td>1992 2001</td>\n",
       "      <td>1974 1983</td>\n",
       "      <td>625401</td>\n",
       "      <td>4499756</td>\n",
       "    </tr>\n",
       "    <tr>\n",
       "      <th>1</th>\n",
       "      <td>3042</td>\n",
       "      <td>VEGA DEL CODORNO</td>\n",
       "      <td>INMman</td>\n",
       "      <td>-1.932.222.222.222.220</td>\n",
       "      <td>4.043.222.222.222.220</td>\n",
       "      <td>1345</td>\n",
       "      <td>0</td>\n",
       "      <td>0</td>\n",
       "      <td>CU</td>\n",
       "      <td>NaN</td>\n",
       "      <td>...</td>\n",
       "      <td>CUENCA</td>\n",
       "      <td>1956</td>\n",
       "      <td>2019</td>\n",
       "      <td>739</td>\n",
       "      <td>53</td>\n",
       "      <td>10</td>\n",
       "      <td>1956 1994</td>\n",
       "      <td>1999 2004</td>\n",
       "      <td>590563</td>\n",
       "      <td>4476275</td>\n",
       "    </tr>\n",
       "    <tr>\n",
       "      <th>2</th>\n",
       "      <td>3051</td>\n",
       "      <td>POYATOS (TEJADILLOS) C.F.</td>\n",
       "      <td>INMman</td>\n",
       "      <td>-1.986.388.888.888.880</td>\n",
       "      <td>4.039.472.222.222.220</td>\n",
       "      <td>1150</td>\n",
       "      <td>0</td>\n",
       "      <td>0</td>\n",
       "      <td>CU</td>\n",
       "      <td>NaN</td>\n",
       "      <td>...</td>\n",
       "      <td>CUENCA</td>\n",
       "      <td>1952</td>\n",
       "      <td>2005</td>\n",
       "      <td>612</td>\n",
       "      <td>41</td>\n",
       "      <td>13</td>\n",
       "      <td>1952 1974</td>\n",
       "      <td>1981 1987</td>\n",
       "      <td>586016</td>\n",
       "      <td>4472058</td>\n",
       "    </tr>\n",
       "    <tr>\n",
       "      <th>3</th>\n",
       "      <td>3058</td>\n",
       "      <td>TORRECILLA</td>\n",
       "      <td>INMman</td>\n",
       "      <td>-2.207.222.222.222.220</td>\n",
       "      <td>4.029.194.444.444.440</td>\n",
       "      <td>969</td>\n",
       "      <td>0</td>\n",
       "      <td>0</td>\n",
       "      <td>CU</td>\n",
       "      <td>NaN</td>\n",
       "      <td>...</td>\n",
       "      <td>CUENCA</td>\n",
       "      <td>1955</td>\n",
       "      <td>2019</td>\n",
       "      <td>708</td>\n",
       "      <td>51</td>\n",
       "      <td>11</td>\n",
       "      <td>1957 1979</td>\n",
       "      <td>2008 2018</td>\n",
       "      <td>567376</td>\n",
       "      <td>4460458</td>\n",
       "    </tr>\n",
       "    <tr>\n",
       "      <th>4</th>\n",
       "      <td>3059</td>\n",
       "      <td>ALBALATE DE LAS NOGUERAS</td>\n",
       "      <td>INMman</td>\n",
       "      <td>-22.780.555.555.555.500</td>\n",
       "      <td>4.036.555.555.555.550</td>\n",
       "      <td>855</td>\n",
       "      <td>0</td>\n",
       "      <td>0</td>\n",
       "      <td>CU</td>\n",
       "      <td>NaN</td>\n",
       "      <td>...</td>\n",
       "      <td>CUENCA</td>\n",
       "      <td>1940</td>\n",
       "      <td>2019</td>\n",
       "      <td>845</td>\n",
       "      <td>57</td>\n",
       "      <td>19</td>\n",
       "      <td>1962 1982</td>\n",
       "      <td>1998 2011</td>\n",
       "      <td>561288</td>\n",
       "      <td>4468577</td>\n",
       "    </tr>\n",
       "  </tbody>\n",
       "</table>\n",
       "<p>5 rows × 23 columns</p>\n",
       "</div>"
      ],
      "text/plain": [
       "  CodigoEst                   Estacion    Tipo               Longitud_x  \\\n",
       "0      3010                    RODENAS  INMman  -15.169.444.444.444.400   \n",
       "1      3042           VEGA DEL CODORNO  INMman   -1.932.222.222.222.220   \n",
       "2      3051  POYATOS (TEJADILLOS) C.F.  INMman   -1.986.388.888.888.880   \n",
       "3      3058                 TORRECILLA  INMman   -2.207.222.222.222.220   \n",
       "4      3059   ALBALATE DE LAS NOGUERAS  INMman  -22.780.555.555.555.500   \n",
       "\n",
       "               Latitud_x  Altitud  Xutm  Yutm Provincia_x  \\\n",
       "0  4.063.916.666.666.660     1370     0     0          TE   \n",
       "1  4.043.222.222.222.220     1345     0     0          CU   \n",
       "2  4.039.472.222.222.220     1150     0     0          CU   \n",
       "3  4.029.194.444.444.440      969     0     0          CU   \n",
       "4  4.036.555.555.555.550      855     0     0          CU   \n",
       "\n",
       "   Umbral_20_40_km_costa  ... Provincia_y  Fec.Ini  Fec.Fin Meses  AÃ±os C.  \\\n",
       "0                    NaN  ...      TERUEL     1968     2019   554        36   \n",
       "1                    NaN  ...      CUENCA     1956     2019   739        53   \n",
       "2                    NaN  ...      CUENCA     1952     2005   612        41   \n",
       "3                    NaN  ...      CUENCA     1955     2019   708        51   \n",
       "4                    NaN  ...      CUENCA     1940     2019   845        57   \n",
       "\n",
       "   AÃ±os I.      Serie  Sig.Serie   UTM X    UTM Y  \n",
       "0        15  1992 2001  1974 1983  625401  4499756  \n",
       "1        10  1956 1994  1999 2004  590563  4476275  \n",
       "2        13  1952 1974  1981 1987  586016  4472058  \n",
       "3        11  1957 1979  2008 2018  567376  4460458  \n",
       "4        19  1962 1982  1998 2011  561288  4468577  \n",
       "\n",
       "[5 rows x 23 columns]"
      ]
     },
     "execution_count": 17,
     "metadata": {},
     "output_type": "execute_result"
    }
   ],
   "source": [
    "estaciones2.head()"
   ]
  },
  {
   "cell_type": "markdown",
   "metadata": {},
   "source": [
    "### Unir estaciones 1 y 2"
   ]
  },
  {
   "cell_type": "code",
   "execution_count": 18,
   "metadata": {
    "ExecuteTime": {
     "end_time": "2019-10-22T10:46:59.299566Z",
     "start_time": "2019-10-22T10:46:59.289590Z"
    }
   },
   "outputs": [],
   "source": [
    "estaciones = pd.merge(estaciones1[['Estacion','CodigoEst','Tipo','Xutm','Yutm','Altura','Provincia','Umbral_20_40_km_costa']],\n",
    "                      estaciones2[['Estacion','CodigoEst','Tipo','UTM X','UTM Y','Altitud','Provincia_x']],\n",
    "                      on='CodigoEst', how='outer')  # se queda con todas las estaciones y rellana con NaN lo que no tiene"
   ]
  },
  {
   "cell_type": "code",
   "execution_count": 19,
   "metadata": {
    "ExecuteTime": {
     "end_time": "2019-10-22T10:47:10.469669Z",
     "start_time": "2019-10-22T10:47:10.455706Z"
    },
    "scrolled": true
   },
   "outputs": [],
   "source": [
    "values = {'Estacion_x': estaciones.Estacion_y, 'Estacion_y':estaciones.Estacion_x,\n",
    "          'Tipo_x':estaciones.Tipo_y,'Tipo_y':estaciones.Tipo_x,\n",
    "          'Xutm':estaciones['UTM X'], 'Yutm':estaciones['UTM Y'],'UTM X':estaciones['Xutm'], 'UTM Y':estaciones['Yutm'],\n",
    "          'Altura':estaciones.Altitud,'Altitud':estaciones.Altura,\n",
    "          'Provincia':estaciones.Provincia_x, 'Provincia_x':estaciones.Provincia,\n",
    "          'Umbral_20_40_km_costa':3 # NaN umbral corresponden a CU, AB y TE --> 3\n",
    "         }\n",
    "estaciones = estaciones.fillna(value=values) # rellena los NaN en modo 'espejo'\n",
    "estaciones = estaciones.drop(columns=['Estacion_y','Tipo_y','UTM X','UTM Y','Altitud','Provincia_x']) # elimina medio espejo\n",
    "estaciones.columns = ['Estacion','CodigoEst','Tipo','Xutm','Yutm','Altura','Provincia','Umbral_20_40_km_costa']\n"
   ]
  },
  {
   "cell_type": "code",
   "execution_count": 20,
   "metadata": {
    "ExecuteTime": {
     "end_time": "2019-10-22T10:47:28.412997Z",
     "start_time": "2019-10-22T10:47:28.403025Z"
    }
   },
   "outputs": [
    {
     "data": {
      "text/html": [
       "<div>\n",
       "<style scoped>\n",
       "    .dataframe tbody tr th:only-of-type {\n",
       "        vertical-align: middle;\n",
       "    }\n",
       "\n",
       "    .dataframe tbody tr th {\n",
       "        vertical-align: top;\n",
       "    }\n",
       "\n",
       "    .dataframe thead th {\n",
       "        text-align: right;\n",
       "    }\n",
       "</style>\n",
       "<table border=\"1\" class=\"dataframe\">\n",
       "  <thead>\n",
       "    <tr style=\"text-align: right;\">\n",
       "      <th></th>\n",
       "      <th>Estacion</th>\n",
       "      <th>CodigoEst</th>\n",
       "      <th>Tipo</th>\n",
       "      <th>Xutm</th>\n",
       "      <th>Yutm</th>\n",
       "      <th>Altura</th>\n",
       "      <th>Provincia</th>\n",
       "      <th>Umbral_20_40_km_costa</th>\n",
       "    </tr>\n",
       "  </thead>\n",
       "  <tbody>\n",
       "    <tr>\n",
       "      <th>940</th>\n",
       "      <td>ALIAGA (COMARCAL)</td>\n",
       "      <td>9556U</td>\n",
       "      <td>INMman</td>\n",
       "      <td>693955.0</td>\n",
       "      <td>4504500.0</td>\n",
       "      <td>1115.0</td>\n",
       "      <td>TE</td>\n",
       "      <td>3.0</td>\n",
       "    </tr>\n",
       "    <tr>\n",
       "      <th>941</th>\n",
       "      <td>ALIAGA-SANTA BÁRBARA</td>\n",
       "      <td>9557B</td>\n",
       "      <td>INMman</td>\n",
       "      <td>692954.0</td>\n",
       "      <td>4505280.0</td>\n",
       "      <td>1105.0</td>\n",
       "      <td>TE</td>\n",
       "      <td>3.0</td>\n",
       "    </tr>\n",
       "    <tr>\n",
       "      <th>942</th>\n",
       "      <td>VALDERROBRES (COMARCAL)</td>\n",
       "      <td>9935A</td>\n",
       "      <td>INMman</td>\n",
       "      <td>765138.0</td>\n",
       "      <td>4529462.0</td>\n",
       "      <td>482.0</td>\n",
       "      <td>TE</td>\n",
       "      <td>3.0</td>\n",
       "    </tr>\n",
       "  </tbody>\n",
       "</table>\n",
       "</div>"
      ],
      "text/plain": [
       "                    Estacion CodigoEst    Tipo      Xutm       Yutm  Altura  \\\n",
       "940        ALIAGA (COMARCAL)     9556U  INMman  693955.0  4504500.0  1115.0   \n",
       "941     ALIAGA-SANTA BÁRBARA     9557B  INMman  692954.0  4505280.0  1105.0   \n",
       "942  VALDERROBRES (COMARCAL)     9935A  INMman  765138.0  4529462.0   482.0   \n",
       "\n",
       "    Provincia  Umbral_20_40_km_costa  \n",
       "940        TE                    3.0  \n",
       "941        TE                    3.0  \n",
       "942        TE                    3.0  "
      ]
     },
     "execution_count": 20,
     "metadata": {},
     "output_type": "execute_result"
    }
   ],
   "source": [
    "estaciones.tail(3)"
   ]
  },
  {
   "cell_type": "markdown",
   "metadata": {},
   "source": [
    "### Datos duplicados"
   ]
  },
  {
   "cell_type": "code",
   "execution_count": 166,
   "metadata": {
    "ExecuteTime": {
     "end_time": "2019-08-02T10:52:29.810645Z",
     "start_time": "2019-08-02T10:52:29.807683Z"
    },
    "hide_input": false,
    "scrolled": true
   },
   "outputs": [],
   "source": [
    "# \"\"\"\n",
    "# Estaciones con el nombre repetido, con el Código repetido o con las coordenadas geográficas repetidas\n",
    "# \"\"\"\n",
    "# # duplicateRowsDF = estaciones1.Estacion[estaciones1.duplicated(['Estacion'])==True]\n",
    "# duplicateRowsDF = estaciones.Estacion[estaciones.duplicated(['CodigoEst'])==True]\n",
    "\n",
    "# # duplicateRowsDF = estaciones1.Estacion[estaciones1.duplicated(['Altitud','Xutm','Yutm'])==True] \n",
    "# print(\"Duplicate Rows except first occurrence based on geographic coordinates are :\")\n",
    "# print(duplicateRowsDF)"
   ]
  },
  {
   "cell_type": "code",
   "execution_count": 21,
   "metadata": {
    "ExecuteTime": {
     "end_time": "2019-10-22T10:48:00.103903Z",
     "start_time": "2019-10-22T10:48:00.077973Z"
    }
   },
   "outputs": [
    {
     "data": {
      "text/html": [
       "<div>\n",
       "<style scoped>\n",
       "    .dataframe tbody tr th:only-of-type {\n",
       "        vertical-align: middle;\n",
       "    }\n",
       "\n",
       "    .dataframe tbody tr th {\n",
       "        vertical-align: top;\n",
       "    }\n",
       "\n",
       "    .dataframe thead th {\n",
       "        text-align: right;\n",
       "    }\n",
       "</style>\n",
       "<table border=\"1\" class=\"dataframe\">\n",
       "  <thead>\n",
       "    <tr style=\"text-align: right;\">\n",
       "      <th></th>\n",
       "      <th>Estacion</th>\n",
       "      <th>CodigoEst</th>\n",
       "      <th>Tipo</th>\n",
       "      <th>Xutm</th>\n",
       "      <th>Yutm</th>\n",
       "      <th>Altura</th>\n",
       "      <th>Provincia</th>\n",
       "      <th>Umbral_20_40_km_costa</th>\n",
       "    </tr>\n",
       "  </thead>\n",
       "  <tbody>\n",
       "    <tr>\n",
       "      <th>0</th>\n",
       "      <td>MIRONES</td>\n",
       "      <td>1104</td>\n",
       "      <td>INMman</td>\n",
       "      <td>442832.0</td>\n",
       "      <td>4793841.0</td>\n",
       "      <td>200.0</td>\n",
       "      <td>CN</td>\n",
       "      <td>2.0</td>\n",
       "    </tr>\n",
       "    <tr>\n",
       "      <th>1</th>\n",
       "      <td>RANON (AEROPUERTO DE ASTURIAS)</td>\n",
       "      <td>1212E</td>\n",
       "      <td>INMman</td>\n",
       "      <td>255062.0</td>\n",
       "      <td>4828087.0</td>\n",
       "      <td>127.0</td>\n",
       "      <td>AS</td>\n",
       "      <td>1.0</td>\n",
       "    </tr>\n",
       "    <tr>\n",
       "      <th>2</th>\n",
       "      <td>GENESTOSO</td>\n",
       "      <td>1259</td>\n",
       "      <td>INMman</td>\n",
       "      <td>223429.0</td>\n",
       "      <td>4773596.0</td>\n",
       "      <td>1180.0</td>\n",
       "      <td>AS</td>\n",
       "      <td>3.0</td>\n",
       "    </tr>\n",
       "    <tr>\n",
       "      <th>3</th>\n",
       "      <td>A CORUNYA (ESTACION COMPLETA)</td>\n",
       "      <td>1387</td>\n",
       "      <td>INMman</td>\n",
       "      <td>59149.0</td>\n",
       "      <td>4791283.0</td>\n",
       "      <td>58.0</td>\n",
       "      <td>AC</td>\n",
       "      <td>1.0</td>\n",
       "    </tr>\n",
       "    <tr>\n",
       "      <th>4</th>\n",
       "      <td>SANTIAGO COMPOSTELA (LABACOLLA</td>\n",
       "      <td>1428</td>\n",
       "      <td>INMman</td>\n",
       "      <td>55186.0</td>\n",
       "      <td>4739467.0</td>\n",
       "      <td>364.0</td>\n",
       "      <td>AC</td>\n",
       "      <td>2.0</td>\n",
       "    </tr>\n",
       "    <tr>\n",
       "      <th>5</th>\n",
       "      <td>VIGO (PEINADOR)</td>\n",
       "      <td>1495</td>\n",
       "      <td>INMman</td>\n",
       "      <td>33443.0</td>\n",
       "      <td>4665653.0</td>\n",
       "      <td>255.0</td>\n",
       "      <td>PO</td>\n",
       "      <td>1.0</td>\n",
       "    </tr>\n",
       "    <tr>\n",
       "      <th>6</th>\n",
       "      <td>PONFERRADA</td>\n",
       "      <td>1549</td>\n",
       "      <td>INMman</td>\n",
       "      <td>204473.0</td>\n",
       "      <td>4718756.0</td>\n",
       "      <td>534.0</td>\n",
       "      <td>LE</td>\n",
       "      <td>3.0</td>\n",
       "    </tr>\n",
       "    <tr>\n",
       "      <th>7</th>\n",
       "      <td>NAVALENO</td>\n",
       "      <td>2080</td>\n",
       "      <td>INMman</td>\n",
       "      <td>499608.0</td>\n",
       "      <td>4631816.0</td>\n",
       "      <td>1105.0</td>\n",
       "      <td>SO</td>\n",
       "      <td>3.0</td>\n",
       "    </tr>\n",
       "    <tr>\n",
       "      <th>8</th>\n",
       "      <td>RIAZA</td>\n",
       "      <td>2125</td>\n",
       "      <td>INMman</td>\n",
       "      <td>459823.0</td>\n",
       "      <td>4569785.0</td>\n",
       "      <td>1180.0</td>\n",
       "      <td>SG</td>\n",
       "      <td>3.0</td>\n",
       "    </tr>\n",
       "    <tr>\n",
       "      <th>9</th>\n",
       "      <td>PANTANO DE REQUEJADA</td>\n",
       "      <td>2232</td>\n",
       "      <td>INMman</td>\n",
       "      <td>375123.0</td>\n",
       "      <td>4751856.0</td>\n",
       "      <td>1024.0</td>\n",
       "      <td>PA</td>\n",
       "      <td>3.0</td>\n",
       "    </tr>\n",
       "    <tr>\n",
       "      <th>10</th>\n",
       "      <td>BURGOS (VILLAFRIA)</td>\n",
       "      <td>2331</td>\n",
       "      <td>INMman</td>\n",
       "      <td>447831.0</td>\n",
       "      <td>4665155.0</td>\n",
       "      <td>890.0</td>\n",
       "      <td>BU</td>\n",
       "      <td>3.0</td>\n",
       "    </tr>\n",
       "    <tr>\n",
       "      <th>11</th>\n",
       "      <td>NAVACERRADA (PUERTO)</td>\n",
       "      <td>2462</td>\n",
       "      <td>INMman</td>\n",
       "      <td>414748.0</td>\n",
       "      <td>4514967.0</td>\n",
       "      <td>1890.0</td>\n",
       "      <td>M</td>\n",
       "      <td>3.0</td>\n",
       "    </tr>\n",
       "    <tr>\n",
       "      <th>12</th>\n",
       "      <td>LEON (VIRGEN DEL CAMINO)</td>\n",
       "      <td>2661</td>\n",
       "      <td>INMman</td>\n",
       "      <td>282270.0</td>\n",
       "      <td>4694159.0</td>\n",
       "      <td>916.0</td>\n",
       "      <td>LE</td>\n",
       "      <td>3.0</td>\n",
       "    </tr>\n",
       "    <tr>\n",
       "      <th>13</th>\n",
       "      <td>PANTANO DE STA. TERESA</td>\n",
       "      <td>2843</td>\n",
       "      <td>INMman</td>\n",
       "      <td>280071.0</td>\n",
       "      <td>4505706.0</td>\n",
       "      <td>840.0</td>\n",
       "      <td>SL</td>\n",
       "      <td>3.0</td>\n",
       "    </tr>\n",
       "    <tr>\n",
       "      <th>14</th>\n",
       "      <td>SALAMANCA (MATACAN)</td>\n",
       "      <td>2867</td>\n",
       "      <td>INMman</td>\n",
       "      <td>289585.0</td>\n",
       "      <td>4511731.0</td>\n",
       "      <td>790.0</td>\n",
       "      <td>SL</td>\n",
       "      <td>3.0</td>\n",
       "    </tr>\n",
       "    <tr>\n",
       "      <th>15</th>\n",
       "      <td>OREA, VALDEMORALES</td>\n",
       "      <td>3006</td>\n",
       "      <td>INMman</td>\n",
       "      <td>608200.0</td>\n",
       "      <td>4490310.0</td>\n",
       "      <td>1485.0</td>\n",
       "      <td>CU</td>\n",
       "      <td>3.0</td>\n",
       "    </tr>\n",
       "    <tr>\n",
       "      <th>16</th>\n",
       "      <td>RODENAS</td>\n",
       "      <td>3010</td>\n",
       "      <td>INMman</td>\n",
       "      <td>625505.0</td>\n",
       "      <td>4499962.0</td>\n",
       "      <td>1370.0</td>\n",
       "      <td>TE</td>\n",
       "      <td>3.0</td>\n",
       "    </tr>\n",
       "    <tr>\n",
       "      <th>17</th>\n",
       "      <td>MOLINA DE ARAGON</td>\n",
       "      <td>3013</td>\n",
       "      <td>INMman</td>\n",
       "      <td>593975.0</td>\n",
       "      <td>4522166.0</td>\n",
       "      <td>1063.0</td>\n",
       "      <td>GU</td>\n",
       "      <td>3.0</td>\n",
       "    </tr>\n",
       "    <tr>\n",
       "      <th>18</th>\n",
       "      <td>VEGA DEL CODORNO</td>\n",
       "      <td>3042</td>\n",
       "      <td>INMman</td>\n",
       "      <td>590666.0</td>\n",
       "      <td>4476481.0</td>\n",
       "      <td>1345.0</td>\n",
       "      <td>CU</td>\n",
       "      <td>3.0</td>\n",
       "    </tr>\n",
       "    <tr>\n",
       "      <th>19</th>\n",
       "      <td>POYATOS, TEJADILLOS CF</td>\n",
       "      <td>3051</td>\n",
       "      <td>INMman</td>\n",
       "      <td>586119.0</td>\n",
       "      <td>4472264.0</td>\n",
       "      <td>1150.0</td>\n",
       "      <td>CU</td>\n",
       "      <td>3.0</td>\n",
       "    </tr>\n",
       "    <tr>\n",
       "      <th>20</th>\n",
       "      <td>TORRECILLA</td>\n",
       "      <td>3058</td>\n",
       "      <td>INMman</td>\n",
       "      <td>567479.0</td>\n",
       "      <td>4460664.0</td>\n",
       "      <td>969.0</td>\n",
       "      <td>CU</td>\n",
       "      <td>3.0</td>\n",
       "    </tr>\n",
       "    <tr>\n",
       "      <th>21</th>\n",
       "      <td>ALBALATE DE LAS NOGUERAS</td>\n",
       "      <td>3059</td>\n",
       "      <td>INMman</td>\n",
       "      <td>561391.0</td>\n",
       "      <td>4468783.0</td>\n",
       "      <td>855.0</td>\n",
       "      <td>CU</td>\n",
       "      <td>3.0</td>\n",
       "    </tr>\n",
       "    <tr>\n",
       "      <th>22</th>\n",
       "      <td>VILLAR DEL SAZ DE NAVALON</td>\n",
       "      <td>3070</td>\n",
       "      <td>INMman</td>\n",
       "      <td>555202.0</td>\n",
       "      <td>4444375.0</td>\n",
       "      <td>984.0</td>\n",
       "      <td>CU</td>\n",
       "      <td>3.0</td>\n",
       "    </tr>\n",
       "    <tr>\n",
       "      <th>23</th>\n",
       "      <td>VILLAR DE DOMINGO GARCIA</td>\n",
       "      <td>3076</td>\n",
       "      <td>INMman</td>\n",
       "      <td>559971.0</td>\n",
       "      <td>4454587.0</td>\n",
       "      <td>942.0</td>\n",
       "      <td>CU</td>\n",
       "      <td>3.0</td>\n",
       "    </tr>\n",
       "    <tr>\n",
       "      <th>24</th>\n",
       "      <td>MADRID, RETIRO</td>\n",
       "      <td>3195</td>\n",
       "      <td>INMman</td>\n",
       "      <td>442467.0</td>\n",
       "      <td>4473686.0</td>\n",
       "      <td>667.0</td>\n",
       "      <td>M</td>\n",
       "      <td>3.0</td>\n",
       "    </tr>\n",
       "    <tr>\n",
       "      <th>25</th>\n",
       "      <td>DOSBARRIOS</td>\n",
       "      <td>3246E</td>\n",
       "      <td>INMman</td>\n",
       "      <td>458503.0</td>\n",
       "      <td>4414688.0</td>\n",
       "      <td>708.0</td>\n",
       "      <td>TO</td>\n",
       "      <td>3.0</td>\n",
       "    </tr>\n",
       "    <tr>\n",
       "      <th>26</th>\n",
       "      <td>SAN PABLO DE LOS MONTES (GEOFI</td>\n",
       "      <td>3298B</td>\n",
       "      <td>INMman</td>\n",
       "      <td>383835.0</td>\n",
       "      <td>4378607.0</td>\n",
       "      <td>917.0</td>\n",
       "      <td>TO</td>\n",
       "      <td>3.0</td>\n",
       "    </tr>\n",
       "    <tr>\n",
       "      <th>27</th>\n",
       "      <td>TALAVAN</td>\n",
       "      <td>3450</td>\n",
       "      <td>INMman</td>\n",
       "      <td>218622.0</td>\n",
       "      <td>4401847.0</td>\n",
       "      <td>367.0</td>\n",
       "      <td>CA</td>\n",
       "      <td>3.0</td>\n",
       "    </tr>\n",
       "    <tr>\n",
       "      <th>28</th>\n",
       "      <td>BERZOCANA</td>\n",
       "      <td>3453</td>\n",
       "      <td>INMman</td>\n",
       "      <td>288137.0</td>\n",
       "      <td>4368295.0</td>\n",
       "      <td>728.0</td>\n",
       "      <td>CC</td>\n",
       "      <td>3.0</td>\n",
       "    </tr>\n",
       "    <tr>\n",
       "      <th>29</th>\n",
       "      <td>EL TORNO</td>\n",
       "      <td>3517</td>\n",
       "      <td>INMman</td>\n",
       "      <td>249204.0</td>\n",
       "      <td>4447096.0</td>\n",
       "      <td>769.0</td>\n",
       "      <td>CC</td>\n",
       "      <td>3.0</td>\n",
       "    </tr>\n",
       "    <tr>\n",
       "      <th>...</th>\n",
       "      <td>...</td>\n",
       "      <td>...</td>\n",
       "      <td>...</td>\n",
       "      <td>...</td>\n",
       "      <td>...</td>\n",
       "      <td>...</td>\n",
       "      <td>...</td>\n",
       "      <td>...</td>\n",
       "    </tr>\n",
       "    <tr>\n",
       "      <th>913</th>\n",
       "      <td>MOTILLA DEL PALANCAR</td>\n",
       "      <td>8155Y</td>\n",
       "      <td>INMman</td>\n",
       "      <td>593190.0</td>\n",
       "      <td>4378992.0</td>\n",
       "      <td>830.0</td>\n",
       "      <td>CU</td>\n",
       "      <td>3.0</td>\n",
       "    </tr>\n",
       "    <tr>\n",
       "      <th>914</th>\n",
       "      <td>CHINCHILLA/CENAD</td>\n",
       "      <td>8177A</td>\n",
       "      <td>INMman</td>\n",
       "      <td>616136.0</td>\n",
       "      <td>4310502.0</td>\n",
       "      <td>880.0</td>\n",
       "      <td>AB</td>\n",
       "      <td>3.0</td>\n",
       "    </tr>\n",
       "    <tr>\n",
       "      <th>915</th>\n",
       "      <td>ALBACETE,OBS.</td>\n",
       "      <td>8178D</td>\n",
       "      <td>INMman</td>\n",
       "      <td>598516.0</td>\n",
       "      <td>4318009.0</td>\n",
       "      <td>676.0</td>\n",
       "      <td>AB</td>\n",
       "      <td>3.0</td>\n",
       "    </tr>\n",
       "    <tr>\n",
       "      <th>916</th>\n",
       "      <td>INIESTA, COLEGIO</td>\n",
       "      <td>8184A</td>\n",
       "      <td>INMman</td>\n",
       "      <td>607047.0</td>\n",
       "      <td>4367325.0</td>\n",
       "      <td>868.0</td>\n",
       "      <td>CU</td>\n",
       "      <td>3.0</td>\n",
       "    </tr>\n",
       "    <tr>\n",
       "      <th>917</th>\n",
       "      <td>ALMANSA</td>\n",
       "      <td>8198Y</td>\n",
       "      <td>INMman</td>\n",
       "      <td>668083.0</td>\n",
       "      <td>4301976.0</td>\n",
       "      <td>710.0</td>\n",
       "      <td>AB</td>\n",
       "      <td>3.0</td>\n",
       "    </tr>\n",
       "    <tr>\n",
       "      <th>918</th>\n",
       "      <td>SALVACAÑETE</td>\n",
       "      <td>8210Y</td>\n",
       "      <td>INMman</td>\n",
       "      <td>627542.0</td>\n",
       "      <td>4440269.0</td>\n",
       "      <td>1160.0</td>\n",
       "      <td>CU</td>\n",
       "      <td>3.0</td>\n",
       "    </tr>\n",
       "    <tr>\n",
       "      <th>919</th>\n",
       "      <td>CAÑETE</td>\n",
       "      <td>8218</td>\n",
       "      <td>INMman</td>\n",
       "      <td>615140.0</td>\n",
       "      <td>4433126.0</td>\n",
       "      <td>1074.0</td>\n",
       "      <td>CU</td>\n",
       "      <td>3.0</td>\n",
       "    </tr>\n",
       "    <tr>\n",
       "      <th>920</th>\n",
       "      <td>CAÑETE, C.H.J.</td>\n",
       "      <td>8218A</td>\n",
       "      <td>INMman</td>\n",
       "      <td>615140.0</td>\n",
       "      <td>4433126.0</td>\n",
       "      <td>1070.0</td>\n",
       "      <td>CU</td>\n",
       "      <td>3.0</td>\n",
       "    </tr>\n",
       "    <tr>\n",
       "      <th>921</th>\n",
       "      <td>MIRA</td>\n",
       "      <td>8245Y</td>\n",
       "      <td>INMman</td>\n",
       "      <td>633503.0</td>\n",
       "      <td>4397224.0</td>\n",
       "      <td>815.0</td>\n",
       "      <td>CU</td>\n",
       "      <td>3.0</td>\n",
       "    </tr>\n",
       "    <tr>\n",
       "      <th>922</th>\n",
       "      <td>CASAS IBAÑEZ (POLIDEPORTIVO)</td>\n",
       "      <td>8262B</td>\n",
       "      <td>INMman</td>\n",
       "      <td>632215.0</td>\n",
       "      <td>4349518.0</td>\n",
       "      <td>707.0</td>\n",
       "      <td>AB</td>\n",
       "      <td>3.0</td>\n",
       "    </tr>\n",
       "    <tr>\n",
       "      <th>923</th>\n",
       "      <td>GUADALAVIAR</td>\n",
       "      <td>8345</td>\n",
       "      <td>INMman</td>\n",
       "      <td>608899.0</td>\n",
       "      <td>4471276.0</td>\n",
       "      <td>1519.0</td>\n",
       "      <td>TE</td>\n",
       "      <td>3.0</td>\n",
       "    </tr>\n",
       "    <tr>\n",
       "      <th>924</th>\n",
       "      <td>FRIAS DE ALBARRACIN D.G.A.</td>\n",
       "      <td>8350A</td>\n",
       "      <td>INMman</td>\n",
       "      <td>617472.0</td>\n",
       "      <td>4466008.0</td>\n",
       "      <td>1462.0</td>\n",
       "      <td>TE</td>\n",
       "      <td>3.0</td>\n",
       "    </tr>\n",
       "    <tr>\n",
       "      <th>925</th>\n",
       "      <td>ALBARRACIN, COMARCAL</td>\n",
       "      <td>8354X</td>\n",
       "      <td>INMman</td>\n",
       "      <td>632227.0</td>\n",
       "      <td>4475511.0</td>\n",
       "      <td>1130.0</td>\n",
       "      <td>TE</td>\n",
       "      <td>3.0</td>\n",
       "    </tr>\n",
       "    <tr>\n",
       "      <th>926</th>\n",
       "      <td>PERALES DE ALFABRA (D.G.A.)</td>\n",
       "      <td>8363A</td>\n",
       "      <td>INMman</td>\n",
       "      <td>668708.0</td>\n",
       "      <td>4499996.0</td>\n",
       "      <td>1162.0</td>\n",
       "      <td>TE</td>\n",
       "      <td>3.0</td>\n",
       "    </tr>\n",
       "    <tr>\n",
       "      <th>927</th>\n",
       "      <td>TERUEL</td>\n",
       "      <td>8368U</td>\n",
       "      <td>INMman</td>\n",
       "      <td>659303.0</td>\n",
       "      <td>4468356.0</td>\n",
       "      <td>900.0</td>\n",
       "      <td>TE</td>\n",
       "      <td>3.0</td>\n",
       "    </tr>\n",
       "    <tr>\n",
       "      <th>928</th>\n",
       "      <td>VILLEL (D.G.A.)</td>\n",
       "      <td>8370H</td>\n",
       "      <td>INMman</td>\n",
       "      <td>653974.0</td>\n",
       "      <td>4455192.0</td>\n",
       "      <td>838.0</td>\n",
       "      <td>TE</td>\n",
       "      <td>3.0</td>\n",
       "    </tr>\n",
       "    <tr>\n",
       "      <th>929</th>\n",
       "      <td>JAVALAMBRE ESQUÍ</td>\n",
       "      <td>8374B</td>\n",
       "      <td>INMman</td>\n",
       "      <td>668758.0</td>\n",
       "      <td>4442402.0</td>\n",
       "      <td>1855.0</td>\n",
       "      <td>TE</td>\n",
       "      <td>3.0</td>\n",
       "    </tr>\n",
       "    <tr>\n",
       "      <th>930</th>\n",
       "      <td>ALCALA DE LA SELVA (SOLANO DE LA VEGA)</td>\n",
       "      <td>8459U</td>\n",
       "      <td>INMman</td>\n",
       "      <td>695280.0</td>\n",
       "      <td>4469942.0</td>\n",
       "      <td>1400.0</td>\n",
       "      <td>TE</td>\n",
       "      <td>3.0</td>\n",
       "    </tr>\n",
       "    <tr>\n",
       "      <th>931</th>\n",
       "      <td>MANZANERA P F E</td>\n",
       "      <td>8463A</td>\n",
       "      <td>INMman</td>\n",
       "      <td>685009.0</td>\n",
       "      <td>4436359.0</td>\n",
       "      <td>994.0</td>\n",
       "      <td>TE</td>\n",
       "      <td>3.0</td>\n",
       "    </tr>\n",
       "    <tr>\n",
       "      <th>932</th>\n",
       "      <td>SARRION</td>\n",
       "      <td>8463O</td>\n",
       "      <td>INMman</td>\n",
       "      <td>685966.0</td>\n",
       "      <td>4445638.0</td>\n",
       "      <td>981.0</td>\n",
       "      <td>TE</td>\n",
       "      <td>3.0</td>\n",
       "    </tr>\n",
       "    <tr>\n",
       "      <th>933</th>\n",
       "      <td>RUBIELOS DE MORA (DGA)</td>\n",
       "      <td>8470A</td>\n",
       "      <td>INMman</td>\n",
       "      <td>699490.0</td>\n",
       "      <td>4451815.0</td>\n",
       "      <td>950.0</td>\n",
       "      <td>TE</td>\n",
       "      <td>3.0</td>\n",
       "    </tr>\n",
       "    <tr>\n",
       "      <th>934</th>\n",
       "      <td>VALDELINARES-ESQUÍ</td>\n",
       "      <td>8478E</td>\n",
       "      <td>INMman</td>\n",
       "      <td>700803.0</td>\n",
       "      <td>4472838.0</td>\n",
       "      <td>1955.0</td>\n",
       "      <td>TE</td>\n",
       "      <td>3.0</td>\n",
       "    </tr>\n",
       "    <tr>\n",
       "      <th>935</th>\n",
       "      <td>MOSQUERUELA, DEPOSITO</td>\n",
       "      <td>8486X</td>\n",
       "      <td>INMman</td>\n",
       "      <td>716146.0</td>\n",
       "      <td>4471104.0</td>\n",
       "      <td>1515.0</td>\n",
       "      <td>TE</td>\n",
       "      <td>3.0</td>\n",
       "    </tr>\n",
       "    <tr>\n",
       "      <th>936</th>\n",
       "      <td>SANTA EULALIA DEL CAMPO 'COMARCAL'</td>\n",
       "      <td>9374U</td>\n",
       "      <td>INMman</td>\n",
       "      <td>642163.0</td>\n",
       "      <td>4491975.0</td>\n",
       "      <td>1000.0</td>\n",
       "      <td>TE</td>\n",
       "      <td>3.0</td>\n",
       "    </tr>\n",
       "    <tr>\n",
       "      <th>937</th>\n",
       "      <td>SANTA EULALIA DEL CAMPO, COMARCAL</td>\n",
       "      <td>9374X</td>\n",
       "      <td>INMman</td>\n",
       "      <td>642145.0</td>\n",
       "      <td>4492010.0</td>\n",
       "      <td>1000.0</td>\n",
       "      <td>TE</td>\n",
       "      <td>3.0</td>\n",
       "    </tr>\n",
       "    <tr>\n",
       "      <th>938</th>\n",
       "      <td>MONTALBÁN</td>\n",
       "      <td>9531X</td>\n",
       "      <td>INMman</td>\n",
       "      <td>686094.0</td>\n",
       "      <td>4522076.0</td>\n",
       "      <td>895.0</td>\n",
       "      <td>TE</td>\n",
       "      <td>3.0</td>\n",
       "    </tr>\n",
       "    <tr>\n",
       "      <th>939</th>\n",
       "      <td>MONTALBÁN, DGA</td>\n",
       "      <td>9531Y</td>\n",
       "      <td>INMman</td>\n",
       "      <td>686094.0</td>\n",
       "      <td>4522076.0</td>\n",
       "      <td>895.0</td>\n",
       "      <td>TE</td>\n",
       "      <td>3.0</td>\n",
       "    </tr>\n",
       "    <tr>\n",
       "      <th>940</th>\n",
       "      <td>ALIAGA (COMARCAL)</td>\n",
       "      <td>9556U</td>\n",
       "      <td>INMman</td>\n",
       "      <td>693955.0</td>\n",
       "      <td>4504500.0</td>\n",
       "      <td>1115.0</td>\n",
       "      <td>TE</td>\n",
       "      <td>3.0</td>\n",
       "    </tr>\n",
       "    <tr>\n",
       "      <th>941</th>\n",
       "      <td>ALIAGA-SANTA BÁRBARA</td>\n",
       "      <td>9557B</td>\n",
       "      <td>INMman</td>\n",
       "      <td>692954.0</td>\n",
       "      <td>4505280.0</td>\n",
       "      <td>1105.0</td>\n",
       "      <td>TE</td>\n",
       "      <td>3.0</td>\n",
       "    </tr>\n",
       "    <tr>\n",
       "      <th>942</th>\n",
       "      <td>VALDERROBRES (COMARCAL)</td>\n",
       "      <td>9935A</td>\n",
       "      <td>INMman</td>\n",
       "      <td>765138.0</td>\n",
       "      <td>4529462.0</td>\n",
       "      <td>482.0</td>\n",
       "      <td>TE</td>\n",
       "      <td>3.0</td>\n",
       "    </tr>\n",
       "  </tbody>\n",
       "</table>\n",
       "<p>943 rows × 8 columns</p>\n",
       "</div>"
      ],
      "text/plain": [
       "                                   Estacion CodigoEst    Tipo      Xutm  \\\n",
       "0                                   MIRONES      1104  INMman  442832.0   \n",
       "1            RANON (AEROPUERTO DE ASTURIAS)     1212E  INMman  255062.0   \n",
       "2                                 GENESTOSO      1259  INMman  223429.0   \n",
       "3             A CORUNYA (ESTACION COMPLETA)      1387  INMman   59149.0   \n",
       "4            SANTIAGO COMPOSTELA (LABACOLLA      1428  INMman   55186.0   \n",
       "5                           VIGO (PEINADOR)      1495  INMman   33443.0   \n",
       "6                                PONFERRADA      1549  INMman  204473.0   \n",
       "7                                  NAVALENO      2080  INMman  499608.0   \n",
       "8                                     RIAZA      2125  INMman  459823.0   \n",
       "9                      PANTANO DE REQUEJADA      2232  INMman  375123.0   \n",
       "10                       BURGOS (VILLAFRIA)      2331  INMman  447831.0   \n",
       "11                     NAVACERRADA (PUERTO)      2462  INMman  414748.0   \n",
       "12                 LEON (VIRGEN DEL CAMINO)      2661  INMman  282270.0   \n",
       "13                   PANTANO DE STA. TERESA      2843  INMman  280071.0   \n",
       "14                      SALAMANCA (MATACAN)      2867  INMman  289585.0   \n",
       "15                       OREA, VALDEMORALES      3006  INMman  608200.0   \n",
       "16                                  RODENAS      3010  INMman  625505.0   \n",
       "17                         MOLINA DE ARAGON      3013  INMman  593975.0   \n",
       "18                         VEGA DEL CODORNO      3042  INMman  590666.0   \n",
       "19                   POYATOS, TEJADILLOS CF      3051  INMman  586119.0   \n",
       "20                               TORRECILLA      3058  INMman  567479.0   \n",
       "21                 ALBALATE DE LAS NOGUERAS      3059  INMman  561391.0   \n",
       "22                VILLAR DEL SAZ DE NAVALON      3070  INMman  555202.0   \n",
       "23                 VILLAR DE DOMINGO GARCIA      3076  INMman  559971.0   \n",
       "24                           MADRID, RETIRO      3195  INMman  442467.0   \n",
       "25                               DOSBARRIOS     3246E  INMman  458503.0   \n",
       "26           SAN PABLO DE LOS MONTES (GEOFI     3298B  INMman  383835.0   \n",
       "27                                  TALAVAN      3450  INMman  218622.0   \n",
       "28                                BERZOCANA      3453  INMman  288137.0   \n",
       "29                                 EL TORNO      3517  INMman  249204.0   \n",
       "..                                      ...       ...     ...       ...   \n",
       "913                    MOTILLA DEL PALANCAR     8155Y  INMman  593190.0   \n",
       "914                        CHINCHILLA/CENAD     8177A  INMman  616136.0   \n",
       "915                           ALBACETE,OBS.     8178D  INMman  598516.0   \n",
       "916                        INIESTA, COLEGIO     8184A  INMman  607047.0   \n",
       "917                                 ALMANSA     8198Y  INMman  668083.0   \n",
       "918                             SALVACAÑETE     8210Y  INMman  627542.0   \n",
       "919                                  CAÑETE      8218  INMman  615140.0   \n",
       "920                          CAÑETE, C.H.J.     8218A  INMman  615140.0   \n",
       "921                                    MIRA     8245Y  INMman  633503.0   \n",
       "922            CASAS IBAÑEZ (POLIDEPORTIVO)     8262B  INMman  632215.0   \n",
       "923                             GUADALAVIAR      8345  INMman  608899.0   \n",
       "924              FRIAS DE ALBARRACIN D.G.A.     8350A  INMman  617472.0   \n",
       "925                    ALBARRACIN, COMARCAL     8354X  INMman  632227.0   \n",
       "926             PERALES DE ALFABRA (D.G.A.)     8363A  INMman  668708.0   \n",
       "927                                  TERUEL     8368U  INMman  659303.0   \n",
       "928                         VILLEL (D.G.A.)     8370H  INMman  653974.0   \n",
       "929                        JAVALAMBRE ESQUÍ     8374B  INMman  668758.0   \n",
       "930  ALCALA DE LA SELVA (SOLANO DE LA VEGA)     8459U  INMman  695280.0   \n",
       "931                         MANZANERA P F E     8463A  INMman  685009.0   \n",
       "932                                 SARRION     8463O  INMman  685966.0   \n",
       "933                  RUBIELOS DE MORA (DGA)     8470A  INMman  699490.0   \n",
       "934                      VALDELINARES-ESQUÍ     8478E  INMman  700803.0   \n",
       "935                   MOSQUERUELA, DEPOSITO     8486X  INMman  716146.0   \n",
       "936      SANTA EULALIA DEL CAMPO 'COMARCAL'     9374U  INMman  642163.0   \n",
       "937       SANTA EULALIA DEL CAMPO, COMARCAL     9374X  INMman  642145.0   \n",
       "938                               MONTALBÁN     9531X  INMman  686094.0   \n",
       "939                          MONTALBÁN, DGA     9531Y  INMman  686094.0   \n",
       "940                       ALIAGA (COMARCAL)     9556U  INMman  693955.0   \n",
       "941                    ALIAGA-SANTA BÁRBARA     9557B  INMman  692954.0   \n",
       "942                 VALDERROBRES (COMARCAL)     9935A  INMman  765138.0   \n",
       "\n",
       "          Yutm  Altura Provincia  Umbral_20_40_km_costa  \n",
       "0    4793841.0   200.0        CN                    2.0  \n",
       "1    4828087.0   127.0        AS                    1.0  \n",
       "2    4773596.0  1180.0        AS                    3.0  \n",
       "3    4791283.0    58.0        AC                    1.0  \n",
       "4    4739467.0   364.0        AC                    2.0  \n",
       "5    4665653.0   255.0        PO                    1.0  \n",
       "6    4718756.0   534.0        LE                    3.0  \n",
       "7    4631816.0  1105.0        SO                    3.0  \n",
       "8    4569785.0  1180.0        SG                    3.0  \n",
       "9    4751856.0  1024.0        PA                    3.0  \n",
       "10   4665155.0   890.0        BU                    3.0  \n",
       "11   4514967.0  1890.0         M                    3.0  \n",
       "12   4694159.0   916.0        LE                    3.0  \n",
       "13   4505706.0   840.0        SL                    3.0  \n",
       "14   4511731.0   790.0        SL                    3.0  \n",
       "15   4490310.0  1485.0        CU                    3.0  \n",
       "16   4499962.0  1370.0        TE                    3.0  \n",
       "17   4522166.0  1063.0        GU                    3.0  \n",
       "18   4476481.0  1345.0        CU                    3.0  \n",
       "19   4472264.0  1150.0        CU                    3.0  \n",
       "20   4460664.0   969.0        CU                    3.0  \n",
       "21   4468783.0   855.0        CU                    3.0  \n",
       "22   4444375.0   984.0        CU                    3.0  \n",
       "23   4454587.0   942.0        CU                    3.0  \n",
       "24   4473686.0   667.0         M                    3.0  \n",
       "25   4414688.0   708.0        TO                    3.0  \n",
       "26   4378607.0   917.0        TO                    3.0  \n",
       "27   4401847.0   367.0        CA                    3.0  \n",
       "28   4368295.0   728.0        CC                    3.0  \n",
       "29   4447096.0   769.0        CC                    3.0  \n",
       "..         ...     ...       ...                    ...  \n",
       "913  4378992.0   830.0        CU                    3.0  \n",
       "914  4310502.0   880.0        AB                    3.0  \n",
       "915  4318009.0   676.0        AB                    3.0  \n",
       "916  4367325.0   868.0        CU                    3.0  \n",
       "917  4301976.0   710.0        AB                    3.0  \n",
       "918  4440269.0  1160.0        CU                    3.0  \n",
       "919  4433126.0  1074.0        CU                    3.0  \n",
       "920  4433126.0  1070.0        CU                    3.0  \n",
       "921  4397224.0   815.0        CU                    3.0  \n",
       "922  4349518.0   707.0        AB                    3.0  \n",
       "923  4471276.0  1519.0        TE                    3.0  \n",
       "924  4466008.0  1462.0        TE                    3.0  \n",
       "925  4475511.0  1130.0        TE                    3.0  \n",
       "926  4499996.0  1162.0        TE                    3.0  \n",
       "927  4468356.0   900.0        TE                    3.0  \n",
       "928  4455192.0   838.0        TE                    3.0  \n",
       "929  4442402.0  1855.0        TE                    3.0  \n",
       "930  4469942.0  1400.0        TE                    3.0  \n",
       "931  4436359.0   994.0        TE                    3.0  \n",
       "932  4445638.0   981.0        TE                    3.0  \n",
       "933  4451815.0   950.0        TE                    3.0  \n",
       "934  4472838.0  1955.0        TE                    3.0  \n",
       "935  4471104.0  1515.0        TE                    3.0  \n",
       "936  4491975.0  1000.0        TE                    3.0  \n",
       "937  4492010.0  1000.0        TE                    3.0  \n",
       "938  4522076.0   895.0        TE                    3.0  \n",
       "939  4522076.0   895.0        TE                    3.0  \n",
       "940  4504500.0  1115.0        TE                    3.0  \n",
       "941  4505280.0  1105.0        TE                    3.0  \n",
       "942  4529462.0   482.0        TE                    3.0  \n",
       "\n",
       "[943 rows x 8 columns]"
      ]
     },
     "execution_count": 21,
     "metadata": {},
     "output_type": "execute_result"
    }
   ],
   "source": [
    "estaciones.drop_duplicates(subset='CodigoEst') # comprobar que no hay duplicados"
   ]
  },
  {
   "cell_type": "markdown",
   "metadata": {},
   "source": [
    "## Merge DB"
   ]
  },
  {
   "cell_type": "code",
   "execution_count": 22,
   "metadata": {
    "ExecuteTime": {
     "end_time": "2019-10-22T10:49:00.746707Z",
     "start_time": "2019-10-22T10:49:00.737760Z"
    }
   },
   "outputs": [
    {
     "data": {
      "text/html": [
       "<div>\n",
       "<style scoped>\n",
       "    .dataframe tbody tr th:only-of-type {\n",
       "        vertical-align: middle;\n",
       "    }\n",
       "\n",
       "    .dataframe tbody tr th {\n",
       "        vertical-align: top;\n",
       "    }\n",
       "\n",
       "    .dataframe thead th {\n",
       "        text-align: right;\n",
       "    }\n",
       "</style>\n",
       "<table border=\"1\" class=\"dataframe\">\n",
       "  <thead>\n",
       "    <tr style=\"text-align: right;\">\n",
       "      <th></th>\n",
       "      <th>CodigoEst</th>\n",
       "      <th>Fecha</th>\n",
       "      <th>Precipitacion</th>\n",
       "      <th>ValidPP</th>\n",
       "    </tr>\n",
       "  </thead>\n",
       "  <tbody>\n",
       "    <tr>\n",
       "      <th>11109837</th>\n",
       "      <td>3010</td>\n",
       "      <td>1997-03-01</td>\n",
       "      <td>0.0</td>\n",
       "      <td>S</td>\n",
       "    </tr>\n",
       "    <tr>\n",
       "      <th>11109838</th>\n",
       "      <td>3010</td>\n",
       "      <td>1997-02-01</td>\n",
       "      <td>0.0</td>\n",
       "      <td>S</td>\n",
       "    </tr>\n",
       "    <tr>\n",
       "      <th>11109839</th>\n",
       "      <td>3010</td>\n",
       "      <td>1997-01-01</td>\n",
       "      <td>15.0</td>\n",
       "      <td>S</td>\n",
       "    </tr>\n",
       "  </tbody>\n",
       "</table>\n",
       "</div>"
      ],
      "text/plain": [
       "         CodigoEst       Fecha  Precipitacion ValidPP\n",
       "11109837      3010  1997-03-01            0.0       S\n",
       "11109838      3010  1997-02-01            0.0       S\n",
       "11109839      3010  1997-01-01           15.0       S"
      ]
     },
     "execution_count": 22,
     "metadata": {},
     "output_type": "execute_result"
    }
   ],
   "source": [
    "precipitacion.tail(3)"
   ]
  },
  {
   "cell_type": "code",
   "execution_count": 23,
   "metadata": {
    "ExecuteTime": {
     "end_time": "2019-10-22T10:49:07.189090Z",
     "start_time": "2019-10-22T10:49:06.880914Z"
    },
    "hide_input": true
   },
   "outputs": [
    {
     "data": {
      "text/plain": [
       "905"
      ]
     },
     "execution_count": 23,
     "metadata": {},
     "output_type": "execute_result"
    }
   ],
   "source": [
    "len(precipitacion.CodigoEst.unique())"
   ]
  },
  {
   "cell_type": "code",
   "execution_count": 24,
   "metadata": {
    "ExecuteTime": {
     "end_time": "2019-10-22T10:49:21.325888Z",
     "start_time": "2019-10-22T10:49:21.320926Z"
    }
   },
   "outputs": [
    {
     "data": {
      "text/plain": [
       "943"
      ]
     },
     "execution_count": 24,
     "metadata": {},
     "output_type": "execute_result"
    }
   ],
   "source": [
    "len(estaciones.CodigoEst.unique())"
   ]
  },
  {
   "cell_type": "code",
   "execution_count": 77,
   "metadata": {
    "ExecuteTime": {
     "end_time": "2019-09-02T08:39:09.167148Z",
     "start_time": "2019-09-02T08:39:09.158144Z"
    }
   },
   "outputs": [
    {
     "data": {
      "text/html": [
       "<div>\n",
       "<style scoped>\n",
       "    .dataframe tbody tr th:only-of-type {\n",
       "        vertical-align: middle;\n",
       "    }\n",
       "\n",
       "    .dataframe tbody tr th {\n",
       "        vertical-align: top;\n",
       "    }\n",
       "\n",
       "    .dataframe thead th {\n",
       "        text-align: right;\n",
       "    }\n",
       "</style>\n",
       "<table border=\"1\" class=\"dataframe\">\n",
       "  <thead>\n",
       "    <tr style=\"text-align: right;\">\n",
       "      <th></th>\n",
       "      <th>Estacion</th>\n",
       "      <th>CodigoEst</th>\n",
       "      <th>Tipo</th>\n",
       "      <th>Xutm</th>\n",
       "      <th>Yutm</th>\n",
       "      <th>Altura</th>\n",
       "      <th>Provincia</th>\n",
       "      <th>Umbral_20_40_km_costa</th>\n",
       "    </tr>\n",
       "  </thead>\n",
       "  <tbody>\n",
       "    <tr>\n",
       "      <th>940</th>\n",
       "      <td>ALIAGA (COMARCAL)</td>\n",
       "      <td>9556U</td>\n",
       "      <td>INMman</td>\n",
       "      <td>693955.0</td>\n",
       "      <td>4504500.0</td>\n",
       "      <td>1115.0</td>\n",
       "      <td>TE</td>\n",
       "      <td>3.0</td>\n",
       "    </tr>\n",
       "    <tr>\n",
       "      <th>941</th>\n",
       "      <td>ALIAGA-SANTA BÁRBARA</td>\n",
       "      <td>9557B</td>\n",
       "      <td>INMman</td>\n",
       "      <td>692954.0</td>\n",
       "      <td>4505280.0</td>\n",
       "      <td>1105.0</td>\n",
       "      <td>TE</td>\n",
       "      <td>3.0</td>\n",
       "    </tr>\n",
       "    <tr>\n",
       "      <th>942</th>\n",
       "      <td>VALDERROBRES (COMARCAL)</td>\n",
       "      <td>9935A</td>\n",
       "      <td>INMman</td>\n",
       "      <td>765138.0</td>\n",
       "      <td>4529462.0</td>\n",
       "      <td>482.0</td>\n",
       "      <td>TE</td>\n",
       "      <td>3.0</td>\n",
       "    </tr>\n",
       "  </tbody>\n",
       "</table>\n",
       "</div>"
      ],
      "text/plain": [
       "                    Estacion CodigoEst    Tipo      Xutm       Yutm  Altura  \\\n",
       "940        ALIAGA (COMARCAL)     9556U  INMman  693955.0  4504500.0  1115.0   \n",
       "941     ALIAGA-SANTA BÁRBARA     9557B  INMman  692954.0  4505280.0  1105.0   \n",
       "942  VALDERROBRES (COMARCAL)     9935A  INMman  765138.0  4529462.0   482.0   \n",
       "\n",
       "    Provincia  Umbral_20_40_km_costa  \n",
       "940        TE                    3.0  \n",
       "941        TE                    3.0  \n",
       "942        TE                    3.0  "
      ]
     },
     "execution_count": 77,
     "metadata": {},
     "output_type": "execute_result"
    }
   ],
   "source": [
    "estaciones.tail(3)"
   ]
  },
  {
   "cell_type": "code",
   "execution_count": 78,
   "metadata": {
    "ExecuteTime": {
     "end_time": "2019-09-02T08:39:21.024400Z",
     "start_time": "2019-09-02T08:39:20.981515Z"
    }
   },
   "outputs": [
    {
     "data": {
      "text/plain": [
       "array(['CN', 'AS', 'AC', 'PO', 'LE', 'SO', 'SG', 'PA', 'BU', 'M', 'SL',\n",
       "       'CU', 'TE', 'GU', 'TO', 'CA', 'CC', 'AB', 'BZ', 'HU', 'MU', 'JA',\n",
       "       'CO', 'GR', 'CZ', 'A', 'V', 'C', 'TA'], dtype=object)"
      ]
     },
     "execution_count": 78,
     "metadata": {},
     "output_type": "execute_result"
    }
   ],
   "source": [
    "estaciones.Provincia.unique()"
   ]
  },
  {
   "cell_type": "code",
   "execution_count": 27,
   "metadata": {
    "ExecuteTime": {
     "end_time": "2019-10-22T11:03:57.225831Z",
     "start_time": "2019-10-22T11:03:53.402493Z"
    }
   },
   "outputs": [],
   "source": [
    "# une datos de las estaciones a la DB de precipitación\n",
    "dataPP = pd.merge(precipitacion,\n",
    "                estaciones[['Estacion','CodigoEst','Tipo','Xutm','Yutm','Altura','Provincia','Umbral_20_40_km_costa']],\n",
    "                on='CodigoEst', how='left')"
   ]
  },
  {
   "cell_type": "code",
   "execution_count": 28,
   "metadata": {
    "ExecuteTime": {
     "end_time": "2019-10-22T11:04:04.704366Z",
     "start_time": "2019-10-22T11:03:57.355457Z"
    }
   },
   "outputs": [
    {
     "data": {
      "text/html": [
       "<div>\n",
       "<style scoped>\n",
       "    .dataframe tbody tr th:only-of-type {\n",
       "        vertical-align: middle;\n",
       "    }\n",
       "\n",
       "    .dataframe tbody tr th {\n",
       "        vertical-align: top;\n",
       "    }\n",
       "\n",
       "    .dataframe thead th {\n",
       "        text-align: right;\n",
       "    }\n",
       "</style>\n",
       "<table border=\"1\" class=\"dataframe\">\n",
       "  <thead>\n",
       "    <tr style=\"text-align: right;\">\n",
       "      <th></th>\n",
       "      <th>CodigoEst</th>\n",
       "      <th>Fecha</th>\n",
       "      <th>Precipitacion</th>\n",
       "      <th>ValidPP</th>\n",
       "      <th>Estacion</th>\n",
       "      <th>Tipo</th>\n",
       "      <th>Xutm</th>\n",
       "      <th>Yutm</th>\n",
       "      <th>Altura</th>\n",
       "      <th>Provincia</th>\n",
       "      <th>Umbral_20_40_km_costa</th>\n",
       "    </tr>\n",
       "  </thead>\n",
       "  <tbody>\n",
       "    <tr>\n",
       "      <th>count</th>\n",
       "      <td>11109840</td>\n",
       "      <td>11109840</td>\n",
       "      <td>1.110984e+07</td>\n",
       "      <td>11109840</td>\n",
       "      <td>11023530</td>\n",
       "      <td>11023530</td>\n",
       "      <td>1.102353e+07</td>\n",
       "      <td>1.102353e+07</td>\n",
       "      <td>1.102353e+07</td>\n",
       "      <td>11023530</td>\n",
       "      <td>1.102353e+07</td>\n",
       "    </tr>\n",
       "    <tr>\n",
       "      <th>unique</th>\n",
       "      <td>905</td>\n",
       "      <td>41777</td>\n",
       "      <td>NaN</td>\n",
       "      <td>3</td>\n",
       "      <td>889</td>\n",
       "      <td>4</td>\n",
       "      <td>NaN</td>\n",
       "      <td>NaN</td>\n",
       "      <td>NaN</td>\n",
       "      <td>29</td>\n",
       "      <td>NaN</td>\n",
       "    </tr>\n",
       "    <tr>\n",
       "      <th>top</th>\n",
       "      <td>9981A</td>\n",
       "      <td>2003-04-27</td>\n",
       "      <td>NaN</td>\n",
       "      <td>S</td>\n",
       "      <td>TORTOSA, OBSER. DEL EBRO</td>\n",
       "      <td>INMman</td>\n",
       "      <td>NaN</td>\n",
       "      <td>NaN</td>\n",
       "      <td>NaN</td>\n",
       "      <td>V</td>\n",
       "      <td>NaN</td>\n",
       "    </tr>\n",
       "    <tr>\n",
       "      <th>freq</th>\n",
       "      <td>36012</td>\n",
       "      <td>568</td>\n",
       "      <td>NaN</td>\n",
       "      <td>10589726</td>\n",
       "      <td>36012</td>\n",
       "      <td>10862482</td>\n",
       "      <td>NaN</td>\n",
       "      <td>NaN</td>\n",
       "      <td>NaN</td>\n",
       "      <td>2707979</td>\n",
       "      <td>NaN</td>\n",
       "    </tr>\n",
       "    <tr>\n",
       "      <th>mean</th>\n",
       "      <td>NaN</td>\n",
       "      <td>NaN</td>\n",
       "      <td>-2.719756e+00</td>\n",
       "      <td>NaN</td>\n",
       "      <td>NaN</td>\n",
       "      <td>NaN</td>\n",
       "      <td>6.525144e+05</td>\n",
       "      <td>4.357964e+06</td>\n",
       "      <td>5.465995e+02</td>\n",
       "      <td>NaN</td>\n",
       "      <td>2.265195e+00</td>\n",
       "    </tr>\n",
       "    <tr>\n",
       "      <th>std</th>\n",
       "      <td>NaN</td>\n",
       "      <td>NaN</td>\n",
       "      <td>2.097545e+01</td>\n",
       "      <td>NaN</td>\n",
       "      <td>NaN</td>\n",
       "      <td>NaN</td>\n",
       "      <td>1.080324e+05</td>\n",
       "      <td>1.101267e+05</td>\n",
       "      <td>4.191672e+02</td>\n",
       "      <td>NaN</td>\n",
       "      <td>8.566887e-01</td>\n",
       "    </tr>\n",
       "    <tr>\n",
       "      <th>min</th>\n",
       "      <td>NaN</td>\n",
       "      <td>NaN</td>\n",
       "      <td>-9.990000e+01</td>\n",
       "      <td>NaN</td>\n",
       "      <td>NaN</td>\n",
       "      <td>NaN</td>\n",
       "      <td>3.344300e+04</td>\n",
       "      <td>4.075366e+06</td>\n",
       "      <td>1.000000e+00</td>\n",
       "      <td>NaN</td>\n",
       "      <td>1.000000e+00</td>\n",
       "    </tr>\n",
       "    <tr>\n",
       "      <th>25%</th>\n",
       "      <td>NaN</td>\n",
       "      <td>NaN</td>\n",
       "      <td>0.000000e+00</td>\n",
       "      <td>NaN</td>\n",
       "      <td>NaN</td>\n",
       "      <td>NaN</td>\n",
       "      <td>6.127520e+05</td>\n",
       "      <td>4.277626e+06</td>\n",
       "      <td>1.270000e+02</td>\n",
       "      <td>NaN</td>\n",
       "      <td>1.000000e+00</td>\n",
       "    </tr>\n",
       "    <tr>\n",
       "      <th>50%</th>\n",
       "      <td>NaN</td>\n",
       "      <td>NaN</td>\n",
       "      <td>0.000000e+00</td>\n",
       "      <td>NaN</td>\n",
       "      <td>NaN</td>\n",
       "      <td>NaN</td>\n",
       "      <td>6.808070e+05</td>\n",
       "      <td>4.366168e+06</td>\n",
       "      <td>5.500000e+02</td>\n",
       "      <td>NaN</td>\n",
       "      <td>3.000000e+00</td>\n",
       "    </tr>\n",
       "    <tr>\n",
       "      <th>75%</th>\n",
       "      <td>NaN</td>\n",
       "      <td>NaN</td>\n",
       "      <td>0.000000e+00</td>\n",
       "      <td>NaN</td>\n",
       "      <td>NaN</td>\n",
       "      <td>NaN</td>\n",
       "      <td>7.198980e+05</td>\n",
       "      <td>4.427472e+06</td>\n",
       "      <td>8.880000e+02</td>\n",
       "      <td>NaN</td>\n",
       "      <td>3.000000e+00</td>\n",
       "    </tr>\n",
       "    <tr>\n",
       "      <th>max</th>\n",
       "      <td>NaN</td>\n",
       "      <td>NaN</td>\n",
       "      <td>8.780000e+02</td>\n",
       "      <td>NaN</td>\n",
       "      <td>NaN</td>\n",
       "      <td>NaN</td>\n",
       "      <td>8.150770e+05</td>\n",
       "      <td>4.828087e+06</td>\n",
       "      <td>1.955000e+03</td>\n",
       "      <td>NaN</td>\n",
       "      <td>3.000000e+00</td>\n",
       "    </tr>\n",
       "  </tbody>\n",
       "</table>\n",
       "</div>"
      ],
      "text/plain": [
       "       CodigoEst       Fecha  Precipitacion   ValidPP  \\\n",
       "count   11109840    11109840   1.110984e+07  11109840   \n",
       "unique       905       41777            NaN         3   \n",
       "top        9981A  2003-04-27            NaN         S   \n",
       "freq       36012         568            NaN  10589726   \n",
       "mean         NaN         NaN  -2.719756e+00       NaN   \n",
       "std          NaN         NaN   2.097545e+01       NaN   \n",
       "min          NaN         NaN  -9.990000e+01       NaN   \n",
       "25%          NaN         NaN   0.000000e+00       NaN   \n",
       "50%          NaN         NaN   0.000000e+00       NaN   \n",
       "75%          NaN         NaN   0.000000e+00       NaN   \n",
       "max          NaN         NaN   8.780000e+02       NaN   \n",
       "\n",
       "                        Estacion      Tipo          Xutm          Yutm  \\\n",
       "count                   11023530  11023530  1.102353e+07  1.102353e+07   \n",
       "unique                       889         4           NaN           NaN   \n",
       "top     TORTOSA, OBSER. DEL EBRO    INMman           NaN           NaN   \n",
       "freq                       36012  10862482           NaN           NaN   \n",
       "mean                         NaN       NaN  6.525144e+05  4.357964e+06   \n",
       "std                          NaN       NaN  1.080324e+05  1.101267e+05   \n",
       "min                          NaN       NaN  3.344300e+04  4.075366e+06   \n",
       "25%                          NaN       NaN  6.127520e+05  4.277626e+06   \n",
       "50%                          NaN       NaN  6.808070e+05  4.366168e+06   \n",
       "75%                          NaN       NaN  7.198980e+05  4.427472e+06   \n",
       "max                          NaN       NaN  8.150770e+05  4.828087e+06   \n",
       "\n",
       "              Altura Provincia  Umbral_20_40_km_costa  \n",
       "count   1.102353e+07  11023530           1.102353e+07  \n",
       "unique           NaN        29                    NaN  \n",
       "top              NaN         V                    NaN  \n",
       "freq             NaN   2707979                    NaN  \n",
       "mean    5.465995e+02       NaN           2.265195e+00  \n",
       "std     4.191672e+02       NaN           8.566887e-01  \n",
       "min     1.000000e+00       NaN           1.000000e+00  \n",
       "25%     1.270000e+02       NaN           1.000000e+00  \n",
       "50%     5.500000e+02       NaN           3.000000e+00  \n",
       "75%     8.880000e+02       NaN           3.000000e+00  \n",
       "max     1.955000e+03       NaN           3.000000e+00  "
      ]
     },
     "execution_count": 28,
     "metadata": {},
     "output_type": "execute_result"
    }
   ],
   "source": [
    "dataPP.describe(include='all')"
   ]
  },
  {
   "cell_type": "code",
   "execution_count": 29,
   "metadata": {
    "ExecuteTime": {
     "end_time": "2019-10-22T11:05:59.366427Z",
     "start_time": "2019-10-22T11:05:59.073082Z"
    }
   },
   "outputs": [
    {
     "data": {
      "text/plain": [
       "array(['A', 'V', nan, 'AB', 'CU', 'C', 'TE', 'MU', 'CO', 'JA', 'M', 'CZ',\n",
       "       'GR', 'TA', 'BU', 'CA', 'LE', 'SL', 'AC', 'PO', 'CN', 'AS', 'SO',\n",
       "       'SG', 'PA', 'GU', 'TO', 'CC', 'BZ', 'HU'], dtype=object)"
      ]
     },
     "execution_count": 29,
     "metadata": {},
     "output_type": "execute_result"
    }
   ],
   "source": [
    "dataPP.Provincia.unique()"
   ]
  },
  {
   "cell_type": "code",
   "execution_count": 30,
   "metadata": {
    "ExecuteTime": {
     "end_time": "2019-10-22T11:06:44.684452Z",
     "start_time": "2019-10-22T11:06:44.376275Z"
    }
   },
   "outputs": [
    {
     "data": {
      "text/plain": [
       "905"
      ]
     },
     "execution_count": 30,
     "metadata": {},
     "output_type": "execute_result"
    }
   ],
   "source": [
    "len(dataPP.CodigoEst.unique())"
   ]
  },
  {
   "cell_type": "code",
   "execution_count": 31,
   "metadata": {
    "ExecuteTime": {
     "end_time": "2019-10-22T11:06:48.992592Z",
     "start_time": "2019-10-22T11:06:48.703945Z"
    }
   },
   "outputs": [
    {
     "data": {
      "text/plain": [
       "890"
      ]
     },
     "execution_count": 31,
     "metadata": {},
     "output_type": "execute_result"
    }
   ],
   "source": [
    "len(dataPP.Estacion.unique())"
   ]
  },
  {
   "cell_type": "code",
   "execution_count": 32,
   "metadata": {
    "ExecuteTime": {
     "end_time": "2019-10-22T11:08:01.763386Z",
     "start_time": "2019-10-22T11:07:47.063641Z"
    }
   },
   "outputs": [],
   "source": [
    "# une las temperaturas máx y mín a la DB precipitaciones\n",
    "\n",
    "from functools import reduce\n",
    "\n",
    "data_raw = reduce(lambda x,y: pd.merge(x,y, on=['CodigoEst','Fecha'], how='left'), [dataPP, t_max, t_min])"
   ]
  },
  {
   "cell_type": "code",
   "execution_count": 33,
   "metadata": {
    "ExecuteTime": {
     "end_time": "2019-10-22T11:08:12.403022Z",
     "start_time": "2019-10-22T11:08:02.273244Z"
    },
    "scrolled": true
   },
   "outputs": [
    {
     "data": {
      "text/html": [
       "<div>\n",
       "<style scoped>\n",
       "    .dataframe tbody tr th:only-of-type {\n",
       "        vertical-align: middle;\n",
       "    }\n",
       "\n",
       "    .dataframe tbody tr th {\n",
       "        vertical-align: top;\n",
       "    }\n",
       "\n",
       "    .dataframe thead th {\n",
       "        text-align: right;\n",
       "    }\n",
       "</style>\n",
       "<table border=\"1\" class=\"dataframe\">\n",
       "  <thead>\n",
       "    <tr style=\"text-align: right;\">\n",
       "      <th></th>\n",
       "      <th>CodigoEst</th>\n",
       "      <th>Fecha</th>\n",
       "      <th>Precipitacion</th>\n",
       "      <th>ValidPP</th>\n",
       "      <th>Estacion</th>\n",
       "      <th>Tipo</th>\n",
       "      <th>Xutm</th>\n",
       "      <th>Yutm</th>\n",
       "      <th>Altura</th>\n",
       "      <th>Provincia</th>\n",
       "      <th>Umbral_20_40_km_costa</th>\n",
       "      <th>Tmaxima</th>\n",
       "      <th>ValidTmax</th>\n",
       "      <th>Tminima</th>\n",
       "      <th>ValidTmin</th>\n",
       "    </tr>\n",
       "  </thead>\n",
       "  <tbody>\n",
       "    <tr>\n",
       "      <th>count</th>\n",
       "      <td>11109840</td>\n",
       "      <td>11109840</td>\n",
       "      <td>1.110984e+07</td>\n",
       "      <td>11109840</td>\n",
       "      <td>11023530</td>\n",
       "      <td>11023530</td>\n",
       "      <td>1.102353e+07</td>\n",
       "      <td>1.102353e+07</td>\n",
       "      <td>1.102353e+07</td>\n",
       "      <td>11023530</td>\n",
       "      <td>1.102353e+07</td>\n",
       "      <td>3.931106e+06</td>\n",
       "      <td>3931106</td>\n",
       "      <td>3.929750e+06</td>\n",
       "      <td>3929750</td>\n",
       "    </tr>\n",
       "    <tr>\n",
       "      <th>unique</th>\n",
       "      <td>905</td>\n",
       "      <td>41777</td>\n",
       "      <td>NaN</td>\n",
       "      <td>3</td>\n",
       "      <td>889</td>\n",
       "      <td>4</td>\n",
       "      <td>NaN</td>\n",
       "      <td>NaN</td>\n",
       "      <td>NaN</td>\n",
       "      <td>29</td>\n",
       "      <td>NaN</td>\n",
       "      <td>NaN</td>\n",
       "      <td>2</td>\n",
       "      <td>NaN</td>\n",
       "      <td>2</td>\n",
       "    </tr>\n",
       "    <tr>\n",
       "      <th>top</th>\n",
       "      <td>9981A</td>\n",
       "      <td>2003-04-27</td>\n",
       "      <td>NaN</td>\n",
       "      <td>S</td>\n",
       "      <td>TORTOSA, OBSER. DEL EBRO</td>\n",
       "      <td>INMman</td>\n",
       "      <td>NaN</td>\n",
       "      <td>NaN</td>\n",
       "      <td>NaN</td>\n",
       "      <td>V</td>\n",
       "      <td>NaN</td>\n",
       "      <td>NaN</td>\n",
       "      <td>S</td>\n",
       "      <td>NaN</td>\n",
       "      <td>S</td>\n",
       "    </tr>\n",
       "    <tr>\n",
       "      <th>freq</th>\n",
       "      <td>36012</td>\n",
       "      <td>568</td>\n",
       "      <td>NaN</td>\n",
       "      <td>10589726</td>\n",
       "      <td>36012</td>\n",
       "      <td>10862482</td>\n",
       "      <td>NaN</td>\n",
       "      <td>NaN</td>\n",
       "      <td>NaN</td>\n",
       "      <td>2707979</td>\n",
       "      <td>NaN</td>\n",
       "      <td>NaN</td>\n",
       "      <td>3729738</td>\n",
       "      <td>NaN</td>\n",
       "      <td>3737798</td>\n",
       "    </tr>\n",
       "    <tr>\n",
       "      <th>mean</th>\n",
       "      <td>NaN</td>\n",
       "      <td>NaN</td>\n",
       "      <td>-2.719756e+00</td>\n",
       "      <td>NaN</td>\n",
       "      <td>NaN</td>\n",
       "      <td>NaN</td>\n",
       "      <td>6.525144e+05</td>\n",
       "      <td>4.357964e+06</td>\n",
       "      <td>5.465995e+02</td>\n",
       "      <td>NaN</td>\n",
       "      <td>2.265195e+00</td>\n",
       "      <td>2.051037e+01</td>\n",
       "      <td>NaN</td>\n",
       "      <td>9.608066e+00</td>\n",
       "      <td>NaN</td>\n",
       "    </tr>\n",
       "    <tr>\n",
       "      <th>std</th>\n",
       "      <td>NaN</td>\n",
       "      <td>NaN</td>\n",
       "      <td>2.097545e+01</td>\n",
       "      <td>NaN</td>\n",
       "      <td>NaN</td>\n",
       "      <td>NaN</td>\n",
       "      <td>1.080324e+05</td>\n",
       "      <td>1.101267e+05</td>\n",
       "      <td>4.191672e+02</td>\n",
       "      <td>NaN</td>\n",
       "      <td>8.566887e-01</td>\n",
       "      <td>8.698109e+00</td>\n",
       "      <td>NaN</td>\n",
       "      <td>6.936874e+00</td>\n",
       "      <td>NaN</td>\n",
       "    </tr>\n",
       "    <tr>\n",
       "      <th>min</th>\n",
       "      <td>NaN</td>\n",
       "      <td>NaN</td>\n",
       "      <td>-9.990000e+01</td>\n",
       "      <td>NaN</td>\n",
       "      <td>NaN</td>\n",
       "      <td>NaN</td>\n",
       "      <td>3.344300e+04</td>\n",
       "      <td>4.075366e+06</td>\n",
       "      <td>1.000000e+00</td>\n",
       "      <td>NaN</td>\n",
       "      <td>1.000000e+00</td>\n",
       "      <td>-9.900000e+01</td>\n",
       "      <td>NaN</td>\n",
       "      <td>-9.900000e+01</td>\n",
       "      <td>NaN</td>\n",
       "    </tr>\n",
       "    <tr>\n",
       "      <th>25%</th>\n",
       "      <td>NaN</td>\n",
       "      <td>NaN</td>\n",
       "      <td>0.000000e+00</td>\n",
       "      <td>NaN</td>\n",
       "      <td>NaN</td>\n",
       "      <td>NaN</td>\n",
       "      <td>6.127520e+05</td>\n",
       "      <td>4.277626e+06</td>\n",
       "      <td>1.270000e+02</td>\n",
       "      <td>NaN</td>\n",
       "      <td>1.000000e+00</td>\n",
       "      <td>1.500000e+01</td>\n",
       "      <td>NaN</td>\n",
       "      <td>4.500000e+00</td>\n",
       "      <td>NaN</td>\n",
       "    </tr>\n",
       "    <tr>\n",
       "      <th>50%</th>\n",
       "      <td>NaN</td>\n",
       "      <td>NaN</td>\n",
       "      <td>0.000000e+00</td>\n",
       "      <td>NaN</td>\n",
       "      <td>NaN</td>\n",
       "      <td>NaN</td>\n",
       "      <td>6.808070e+05</td>\n",
       "      <td>4.366168e+06</td>\n",
       "      <td>5.500000e+02</td>\n",
       "      <td>NaN</td>\n",
       "      <td>3.000000e+00</td>\n",
       "      <td>2.100000e+01</td>\n",
       "      <td>NaN</td>\n",
       "      <td>9.600000e+00</td>\n",
       "      <td>NaN</td>\n",
       "    </tr>\n",
       "    <tr>\n",
       "      <th>75%</th>\n",
       "      <td>NaN</td>\n",
       "      <td>NaN</td>\n",
       "      <td>0.000000e+00</td>\n",
       "      <td>NaN</td>\n",
       "      <td>NaN</td>\n",
       "      <td>NaN</td>\n",
       "      <td>7.198980e+05</td>\n",
       "      <td>4.427472e+06</td>\n",
       "      <td>8.880000e+02</td>\n",
       "      <td>NaN</td>\n",
       "      <td>3.000000e+00</td>\n",
       "      <td>2.700000e+01</td>\n",
       "      <td>NaN</td>\n",
       "      <td>1.500000e+01</td>\n",
       "      <td>NaN</td>\n",
       "    </tr>\n",
       "    <tr>\n",
       "      <th>max</th>\n",
       "      <td>NaN</td>\n",
       "      <td>NaN</td>\n",
       "      <td>8.780000e+02</td>\n",
       "      <td>NaN</td>\n",
       "      <td>NaN</td>\n",
       "      <td>NaN</td>\n",
       "      <td>8.150770e+05</td>\n",
       "      <td>4.828087e+06</td>\n",
       "      <td>1.955000e+03</td>\n",
       "      <td>NaN</td>\n",
       "      <td>3.000000e+00</td>\n",
       "      <td>5.270000e+01</td>\n",
       "      <td>NaN</td>\n",
       "      <td>3.810000e+01</td>\n",
       "      <td>NaN</td>\n",
       "    </tr>\n",
       "  </tbody>\n",
       "</table>\n",
       "</div>"
      ],
      "text/plain": [
       "       CodigoEst       Fecha  Precipitacion   ValidPP  \\\n",
       "count   11109840    11109840   1.110984e+07  11109840   \n",
       "unique       905       41777            NaN         3   \n",
       "top        9981A  2003-04-27            NaN         S   \n",
       "freq       36012         568            NaN  10589726   \n",
       "mean         NaN         NaN  -2.719756e+00       NaN   \n",
       "std          NaN         NaN   2.097545e+01       NaN   \n",
       "min          NaN         NaN  -9.990000e+01       NaN   \n",
       "25%          NaN         NaN   0.000000e+00       NaN   \n",
       "50%          NaN         NaN   0.000000e+00       NaN   \n",
       "75%          NaN         NaN   0.000000e+00       NaN   \n",
       "max          NaN         NaN   8.780000e+02       NaN   \n",
       "\n",
       "                        Estacion      Tipo          Xutm          Yutm  \\\n",
       "count                   11023530  11023530  1.102353e+07  1.102353e+07   \n",
       "unique                       889         4           NaN           NaN   \n",
       "top     TORTOSA, OBSER. DEL EBRO    INMman           NaN           NaN   \n",
       "freq                       36012  10862482           NaN           NaN   \n",
       "mean                         NaN       NaN  6.525144e+05  4.357964e+06   \n",
       "std                          NaN       NaN  1.080324e+05  1.101267e+05   \n",
       "min                          NaN       NaN  3.344300e+04  4.075366e+06   \n",
       "25%                          NaN       NaN  6.127520e+05  4.277626e+06   \n",
       "50%                          NaN       NaN  6.808070e+05  4.366168e+06   \n",
       "75%                          NaN       NaN  7.198980e+05  4.427472e+06   \n",
       "max                          NaN       NaN  8.150770e+05  4.828087e+06   \n",
       "\n",
       "              Altura Provincia  Umbral_20_40_km_costa       Tmaxima ValidTmax  \\\n",
       "count   1.102353e+07  11023530           1.102353e+07  3.931106e+06   3931106   \n",
       "unique           NaN        29                    NaN           NaN         2   \n",
       "top              NaN         V                    NaN           NaN         S   \n",
       "freq             NaN   2707979                    NaN           NaN   3729738   \n",
       "mean    5.465995e+02       NaN           2.265195e+00  2.051037e+01       NaN   \n",
       "std     4.191672e+02       NaN           8.566887e-01  8.698109e+00       NaN   \n",
       "min     1.000000e+00       NaN           1.000000e+00 -9.900000e+01       NaN   \n",
       "25%     1.270000e+02       NaN           1.000000e+00  1.500000e+01       NaN   \n",
       "50%     5.500000e+02       NaN           3.000000e+00  2.100000e+01       NaN   \n",
       "75%     8.880000e+02       NaN           3.000000e+00  2.700000e+01       NaN   \n",
       "max     1.955000e+03       NaN           3.000000e+00  5.270000e+01       NaN   \n",
       "\n",
       "             Tminima ValidTmin  \n",
       "count   3.929750e+06   3929750  \n",
       "unique           NaN         2  \n",
       "top              NaN         S  \n",
       "freq             NaN   3737798  \n",
       "mean    9.608066e+00       NaN  \n",
       "std     6.936874e+00       NaN  \n",
       "min    -9.900000e+01       NaN  \n",
       "25%     4.500000e+00       NaN  \n",
       "50%     9.600000e+00       NaN  \n",
       "75%     1.500000e+01       NaN  \n",
       "max     3.810000e+01       NaN  "
      ]
     },
     "execution_count": 33,
     "metadata": {},
     "output_type": "execute_result"
    }
   ],
   "source": [
    "data_raw.describe(include='all')"
   ]
  },
  {
   "cell_type": "markdown",
   "metadata": {
    "ExecuteTime": {
     "end_time": "2019-06-10T14:50:55.189281Z",
     "start_time": "2019-06-10T14:50:55.119702Z"
    }
   },
   "source": [
    "## Limpieza de datos"
   ]
  },
  {
   "cell_type": "markdown",
   "metadata": {},
   "source": [
    "### Índices no válidos"
   ]
  },
  {
   "cell_type": "code",
   "execution_count": null,
   "metadata": {},
   "outputs": [],
   "source": []
  },
  {
   "cell_type": "markdown",
   "metadata": {},
   "source": [
    "### Días sin precipitación"
   ]
  },
  {
   "cell_type": "code",
   "execution_count": 35,
   "metadata": {
    "ExecuteTime": {
     "end_time": "2019-10-22T11:14:25.602897Z",
     "start_time": "2019-10-22T11:14:20.762396Z"
    },
    "collapsed": true
   },
   "outputs": [
    {
     "data": {
      "text/html": [
       "<div>\n",
       "<style scoped>\n",
       "    .dataframe tbody tr th:only-of-type {\n",
       "        vertical-align: middle;\n",
       "    }\n",
       "\n",
       "    .dataframe tbody tr th {\n",
       "        vertical-align: top;\n",
       "    }\n",
       "\n",
       "    .dataframe thead th {\n",
       "        text-align: right;\n",
       "    }\n",
       "</style>\n",
       "<table border=\"1\" class=\"dataframe\">\n",
       "  <thead>\n",
       "    <tr style=\"text-align: right;\">\n",
       "      <th></th>\n",
       "      <th>Precipitacion</th>\n",
       "      <th>Xutm</th>\n",
       "      <th>Yutm</th>\n",
       "      <th>Altura</th>\n",
       "      <th>Umbral_20_40_km_costa</th>\n",
       "      <th>Tmaxima</th>\n",
       "      <th>Tminima</th>\n",
       "    </tr>\n",
       "  </thead>\n",
       "  <tbody>\n",
       "    <tr>\n",
       "      <th>count</th>\n",
       "      <td>1.110984e+07</td>\n",
       "      <td>1.102353e+07</td>\n",
       "      <td>1.102353e+07</td>\n",
       "      <td>1.102353e+07</td>\n",
       "      <td>1.102353e+07</td>\n",
       "      <td>3.931106e+06</td>\n",
       "      <td>3.929750e+06</td>\n",
       "    </tr>\n",
       "    <tr>\n",
       "      <th>mean</th>\n",
       "      <td>-2.719756e+00</td>\n",
       "      <td>6.525144e+05</td>\n",
       "      <td>4.357964e+06</td>\n",
       "      <td>5.465995e+02</td>\n",
       "      <td>2.265195e+00</td>\n",
       "      <td>2.051037e+01</td>\n",
       "      <td>9.608066e+00</td>\n",
       "    </tr>\n",
       "    <tr>\n",
       "      <th>std</th>\n",
       "      <td>2.097545e+01</td>\n",
       "      <td>1.080324e+05</td>\n",
       "      <td>1.101267e+05</td>\n",
       "      <td>4.191672e+02</td>\n",
       "      <td>8.566887e-01</td>\n",
       "      <td>8.698109e+00</td>\n",
       "      <td>6.936874e+00</td>\n",
       "    </tr>\n",
       "    <tr>\n",
       "      <th>min</th>\n",
       "      <td>-9.990000e+01</td>\n",
       "      <td>3.344300e+04</td>\n",
       "      <td>4.075366e+06</td>\n",
       "      <td>1.000000e+00</td>\n",
       "      <td>1.000000e+00</td>\n",
       "      <td>-9.900000e+01</td>\n",
       "      <td>-9.900000e+01</td>\n",
       "    </tr>\n",
       "    <tr>\n",
       "      <th>25%</th>\n",
       "      <td>0.000000e+00</td>\n",
       "      <td>6.127520e+05</td>\n",
       "      <td>4.277626e+06</td>\n",
       "      <td>1.270000e+02</td>\n",
       "      <td>1.000000e+00</td>\n",
       "      <td>1.500000e+01</td>\n",
       "      <td>4.500000e+00</td>\n",
       "    </tr>\n",
       "    <tr>\n",
       "      <th>50%</th>\n",
       "      <td>0.000000e+00</td>\n",
       "      <td>6.808070e+05</td>\n",
       "      <td>4.366168e+06</td>\n",
       "      <td>5.500000e+02</td>\n",
       "      <td>3.000000e+00</td>\n",
       "      <td>2.100000e+01</td>\n",
       "      <td>9.600000e+00</td>\n",
       "    </tr>\n",
       "    <tr>\n",
       "      <th>75%</th>\n",
       "      <td>0.000000e+00</td>\n",
       "      <td>7.198980e+05</td>\n",
       "      <td>4.427472e+06</td>\n",
       "      <td>8.880000e+02</td>\n",
       "      <td>3.000000e+00</td>\n",
       "      <td>2.700000e+01</td>\n",
       "      <td>1.500000e+01</td>\n",
       "    </tr>\n",
       "    <tr>\n",
       "      <th>max</th>\n",
       "      <td>8.780000e+02</td>\n",
       "      <td>8.150770e+05</td>\n",
       "      <td>4.828087e+06</td>\n",
       "      <td>1.955000e+03</td>\n",
       "      <td>3.000000e+00</td>\n",
       "      <td>5.270000e+01</td>\n",
       "      <td>3.810000e+01</td>\n",
       "    </tr>\n",
       "  </tbody>\n",
       "</table>\n",
       "</div>"
      ],
      "text/plain": [
       "       Precipitacion          Xutm          Yutm        Altura  \\\n",
       "count   1.110984e+07  1.102353e+07  1.102353e+07  1.102353e+07   \n",
       "mean   -2.719756e+00  6.525144e+05  4.357964e+06  5.465995e+02   \n",
       "std     2.097545e+01  1.080324e+05  1.101267e+05  4.191672e+02   \n",
       "min    -9.990000e+01  3.344300e+04  4.075366e+06  1.000000e+00   \n",
       "25%     0.000000e+00  6.127520e+05  4.277626e+06  1.270000e+02   \n",
       "50%     0.000000e+00  6.808070e+05  4.366168e+06  5.500000e+02   \n",
       "75%     0.000000e+00  7.198980e+05  4.427472e+06  8.880000e+02   \n",
       "max     8.780000e+02  8.150770e+05  4.828087e+06  1.955000e+03   \n",
       "\n",
       "       Umbral_20_40_km_costa       Tmaxima       Tminima  \n",
       "count           1.102353e+07  3.931106e+06  3.929750e+06  \n",
       "mean            2.265195e+00  2.051037e+01  9.608066e+00  \n",
       "std             8.566887e-01  8.698109e+00  6.936874e+00  \n",
       "min             1.000000e+00 -9.900000e+01 -9.900000e+01  \n",
       "25%             1.000000e+00  1.500000e+01  4.500000e+00  \n",
       "50%             3.000000e+00  2.100000e+01  9.600000e+00  \n",
       "75%             3.000000e+00  2.700000e+01  1.500000e+01  \n",
       "max             3.000000e+00  5.270000e+01  3.810000e+01  "
      ]
     },
     "execution_count": 35,
     "metadata": {},
     "output_type": "execute_result"
    }
   ],
   "source": [
    "# no hay NaN en las precipitaciones (la londitud después de aplicar el dropna es la misma)\n",
    "data_halfraw = data_raw.dropna(subset=['Precipitacion','ValidPP']) # elimina las filas que no tienen datos de precipitacion\n",
    "data_halfraw.describe()"
   ]
  },
  {
   "cell_type": "markdown",
   "metadata": {},
   "source": [
    "### Datos de estaciones desconocidas"
   ]
  },
  {
   "cell_type": "code",
   "execution_count": 36,
   "metadata": {
    "ExecuteTime": {
     "end_time": "2019-10-22T11:15:31.137205Z",
     "start_time": "2019-10-22T11:15:27.409126Z"
    }
   },
   "outputs": [
    {
     "data": {
      "text/plain": [
       "CodigoEst                      0\n",
       "Fecha                          0\n",
       "Precipitacion                  0\n",
       "ValidPP                        0\n",
       "Estacion                   86310\n",
       "Tipo                       86310\n",
       "Xutm                       86310\n",
       "Yutm                       86310\n",
       "Altura                     86310\n",
       "Provincia                  86310\n",
       "Umbral_20_40_km_costa      86310\n",
       "Tmaxima                  7178734\n",
       "ValidTmax                7178734\n",
       "Tminima                  7180090\n",
       "ValidTmin                7180090\n",
       "dtype: int64"
      ]
     },
     "execution_count": 36,
     "metadata": {},
     "output_type": "execute_result"
    }
   ],
   "source": [
    "data_halfraw.isnull().sum()    # no NaN data in Precipitacion, only in Temperatures"
   ]
  },
  {
   "cell_type": "code",
   "execution_count": 45,
   "metadata": {
    "ExecuteTime": {
     "end_time": "2019-10-22T11:38:44.823242Z",
     "start_time": "2019-10-22T11:38:44.531052Z"
    }
   },
   "outputs": [
    {
     "data": {
      "text/plain": [
       "array(['8041A', '8041C', '8040C', '8411C', '8041', '8008A', '8325C'],\n",
       "      dtype=object)"
      ]
     },
     "execution_count": 45,
     "metadata": {},
     "output_type": "execute_result"
    }
   ],
   "source": [
    "# estaciones desconocidas con pp\n",
    "data_halfraw.CodigoEst[data_halfraw.Estacion.isnull()==True].unique()"
   ]
  },
  {
   "cell_type": "code",
   "execution_count": 48,
   "metadata": {
    "ExecuteTime": {
     "end_time": "2019-10-22T11:54:01.265391Z",
     "start_time": "2019-10-22T11:53:59.886823Z"
    }
   },
   "outputs": [],
   "source": [
    "data_halfraw = data_halfraw[~data_halfraw.CodigoEst.\n",
    "                               isin(['8041A', '8041C', '8040C', '8411C', '8041', '8008A', '8325C'])\n",
    "                              ]"
   ]
  },
  {
   "cell_type": "code",
   "execution_count": 49,
   "metadata": {
    "ExecuteTime": {
     "end_time": "2019-10-22T11:55:08.712166Z",
     "start_time": "2019-10-22T11:55:08.400001Z"
    }
   },
   "outputs": [
    {
     "data": {
      "text/plain": [
       "898"
      ]
     },
     "execution_count": 49,
     "metadata": {},
     "output_type": "execute_result"
    }
   ],
   "source": [
    "len(data_halfraw.CodigoEst.unique())"
   ]
  },
  {
   "cell_type": "markdown",
   "metadata": {},
   "source": [
    "### Datos de precipitación NO válidos"
   ]
  },
  {
   "cell_type": "code",
   "execution_count": 50,
   "metadata": {
    "ExecuteTime": {
     "end_time": "2019-10-22T11:59:16.575787Z",
     "start_time": "2019-10-22T11:59:16.303516Z"
    }
   },
   "outputs": [
    {
     "data": {
      "text/plain": [
       "array(['S', 'N', 'A'], dtype=object)"
      ]
     },
     "execution_count": 50,
     "metadata": {},
     "output_type": "execute_result"
    }
   ],
   "source": [
    "data_halfraw.ValidPP.unique()           #  ValidPP, a parte de S(í) y N(o), hay un campo A(cumulado)"
   ]
  },
  {
   "cell_type": "code",
   "execution_count": 61,
   "metadata": {
    "ExecuteTime": {
     "end_time": "2019-10-22T14:03:18.698842Z",
     "start_time": "2019-10-22T14:03:12.391738Z"
    },
    "hide_input": true,
    "scrolled": false
   },
   "outputs": [
    {
     "name": "stdout",
     "output_type": "stream",
     "text": [
      "--- Validez de la precipitación ---\n",
      "\n",
      "\n",
      "Hay 43555 casos con validez N , de los cuales 0 tienen precipitacion > 0\n",
      "    Cuando la validez es N y la cantidad es -99.9 mm, hay 0 casos\n",
      "    Cuando la validez es N y la cantidad es -0.4 mm, hay 0 casos\n",
      "    Cuando la validez es N y la cantidad es -0.3 mm, hay 43555 casos\n",
      "    Cuando la validez es N y la cantidad es 0 mm, hay 0 casos\n",
      "\n",
      "\n",
      "Hay 6 casos con validez A , de los cuales 0 tienen precipitacion > 0\n",
      "    Cuando la validez es A y la cantidad es -99.9 mm, hay 0 casos\n",
      "    Cuando la validez es A y la cantidad es -0.4 mm, hay 0 casos\n",
      "    Cuando la validez es A y la cantidad es -0.3 mm, hay 6 casos\n",
      "    Cuando la validez es A y la cantidad es 0 mm, hay 0 casos\n",
      "\n",
      "\n"
     ]
    }
   ],
   "source": [
    "# Input\n",
    "ValidPP = ['N', 'A']          # casos con validez diferente a 'S'\n",
    "value = [-99.9, -0.4,-0.3, 0] # valores concretos con precipitación menor que 0\n",
    "\n",
    "print ('--- Validez de la precipitación ---')\n",
    "print(\"\\n\")\n",
    "\n",
    "for each1 in ValidPP:\n",
    "    lentot = len(data_halfraw[(data_halfraw.ValidPP == each1)])\n",
    "    lenpos = len(data_halfraw[(data_halfraw.ValidPP == each1) & (data_halfraw.Precipitacion > 0)])\n",
    "    print ('Hay '+str(lentot)+' casos con validez '+ each1+' , de los cuales '+str(lenpos) +' tienen precipitacion > 0')\n",
    "    for each2 in value:\n",
    "        lenneg = len(data_halfraw[(data_halfraw.ValidPP == each1) & (data_halfraw.Precipitacion == each2)])\n",
    "        print('    Cuando la validez es '+ each1 +' y la cantidad es ' + str(each2)+' mm, hay '+ str(lenneg) +' casos' )\n",
    "    print(\"\\n\")"
   ]
  },
  {
   "cell_type": "code",
   "execution_count": 60,
   "metadata": {
    "ExecuteTime": {
     "end_time": "2019-10-22T14:02:21.615583Z",
     "start_time": "2019-10-22T14:02:17.588651Z"
    }
   },
   "outputs": [
    {
     "data": {
      "text/plain": [
       "560040"
      ]
     },
     "execution_count": 60,
     "metadata": {},
     "output_type": "execute_result"
    }
   ],
   "source": [
    "# elimina validez N (linea 1) y elimina validez A solo en el caso que pp = -99.9 mm \n",
    "\n",
    "data_halfraw = data_halfraw.drop(data_halfraw[(data_halfraw['ValidPP'] == 'N') & (data_halfraw.Precipitacion != (-0.3)) |    \n",
    "                                (data_halfraw['ValidPP'] == 'A') & (data_halfraw.Precipitacion != (-0.3))].index)"
   ]
  },
  {
   "cell_type": "code",
   "execution_count": null,
   "metadata": {},
   "outputs": [],
   "source": [
    "len(data_raw)-len(data_halfraw)"
   ]
  },
  {
   "cell_type": "markdown",
   "metadata": {},
   "source": [
    "### Conversión lluvia insignificante (-0.3 a 0)"
   ]
  },
  {
   "cell_type": "code",
   "execution_count": 67,
   "metadata": {
    "ExecuteTime": {
     "end_time": "2019-10-22T14:07:51.257143Z",
     "start_time": "2019-10-22T14:07:48.235154Z"
    }
   },
   "outputs": [
    {
     "name": "stderr",
     "output_type": "stream",
     "text": [
      "C:\\Users\\ceam\\Anaconda3\\lib\\site-packages\\ipykernel_launcher.py:1: SettingWithCopyWarning: \n",
      "A value is trying to be set on a copy of a slice from a DataFrame\n",
      "\n",
      "See the caveats in the documentation: http://pandas.pydata.org/pandas-docs/stable/indexing.html#indexing-view-versus-copy\n",
      "  \"\"\"Entry point for launching an IPython kernel.\n"
     ]
    }
   ],
   "source": [
    "data_halfraw.Precipitacion[data_halfraw.Precipitacion == (-0.3)] = 0"
   ]
  },
  {
   "cell_type": "code",
   "execution_count": 68,
   "metadata": {
    "ExecuteTime": {
     "end_time": "2019-10-22T14:08:16.017609Z",
     "start_time": "2019-10-22T14:08:14.906553Z"
    }
   },
   "outputs": [
    {
     "data": {
      "text/plain": [
       "8857075"
      ]
     },
     "execution_count": 68,
     "metadata": {},
     "output_type": "execute_result"
    }
   ],
   "source": [
    "len(data_halfraw[data_halfraw.Precipitacion == 0])"
   ]
  },
  {
   "cell_type": "code",
   "execution_count": 69,
   "metadata": {
    "ExecuteTime": {
     "end_time": "2019-10-22T14:08:28.526719Z",
     "start_time": "2019-10-22T14:08:28.505791Z"
    }
   },
   "outputs": [
    {
     "data": {
      "text/plain": [
       "0"
      ]
     },
     "execution_count": 69,
     "metadata": {},
     "output_type": "execute_result"
    }
   ],
   "source": [
    "len(data_halfraw[(data_halfraw.Precipitacion == (-0.3))])"
   ]
  },
  {
   "cell_type": "markdown",
   "metadata": {},
   "source": [
    "### Datos de temperatura NO válidos"
   ]
  },
  {
   "cell_type": "code",
   "execution_count": 70,
   "metadata": {
    "ExecuteTime": {
     "end_time": "2019-10-22T14:10:26.565097Z",
     "start_time": "2019-10-22T14:10:25.747315Z"
    }
   },
   "outputs": [
    {
     "name": "stderr",
     "output_type": "stream",
     "text": [
      "C:\\Users\\ceam\\Anaconda3\\lib\\site-packages\\ipykernel_launcher.py:3: SettingWithCopyWarning: \n",
      "A value is trying to be set on a copy of a slice from a DataFrame\n",
      "\n",
      "See the caveats in the documentation: http://pandas.pydata.org/pandas-docs/stable/indexing.html#indexing-view-versus-copy\n",
      "  This is separate from the ipykernel package so we can avoid doing imports until\n",
      "C:\\Users\\ceam\\Anaconda3\\lib\\site-packages\\ipykernel_launcher.py:4: SettingWithCopyWarning: \n",
      "A value is trying to be set on a copy of a slice from a DataFrame\n",
      "\n",
      "See the caveats in the documentation: http://pandas.pydata.org/pandas-docs/stable/indexing.html#indexing-view-versus-copy\n",
      "  after removing the cwd from sys.path.\n"
     ]
    }
   ],
   "source": [
    "# elimina SOLO las temperaturas cuando el dato no es válido, deja el resto de la fila\n",
    "\n",
    "data_halfraw.Tmaxima[data_halfraw['ValidTmax'] == 'N'] = np.nan\n",
    "data_halfraw.Tminima[data_halfraw['ValidTmin'] == 'N'] = np.nan"
   ]
  },
  {
   "cell_type": "markdown",
   "metadata": {},
   "source": [
    "### Datos de fecha fuera de rango"
   ]
  },
  {
   "cell_type": "code",
   "execution_count": 71,
   "metadata": {
    "ExecuteTime": {
     "end_time": "2019-10-22T14:12:47.234322Z",
     "start_time": "2019-10-22T14:12:45.635315Z"
    }
   },
   "outputs": [
    {
     "data": {
      "text/plain": [
       "0"
      ]
     },
     "execution_count": 71,
     "metadata": {},
     "output_type": "execute_result"
    }
   ],
   "source": [
    "# con la anterior limpieza (por ValidPP), ha desaparecido también los errores de fecha (out of range)\n",
    "\n",
    "len(data_halfraw[data_halfraw.Fecha>'2019-06-30'])                     # datos en 2019: 1805, todos de enero\n",
    "len(data_halfraw.CodigoEst[data_halfraw.Fecha>'2018-12-31'].unique())  # número de estaciones con datos en 2019: 60\n",
    "\n",
    "len(data_halfraw[(data_halfraw.Fecha<'1900-01-01') & (data_halfraw.Fecha>'2019-06-30')]) # no data out of range"
   ]
  },
  {
   "cell_type": "code",
   "execution_count": 72,
   "metadata": {
    "ExecuteTime": {
     "end_time": "2019-10-22T14:14:05.281193Z",
     "start_time": "2019-10-22T14:14:04.579173Z"
    }
   },
   "outputs": [
    {
     "data": {
      "text/plain": [
       "array(['8008A', '8040C', '8041', '8041A', '8041C', '8325C', '8411C'],\n",
       "      dtype=object)"
      ]
     },
     "execution_count": 72,
     "metadata": {},
     "output_type": "execute_result"
    }
   ],
   "source": [
    "# número de estaciones cuyos datos fueron todos eliminados por validez de precipitación\n",
    "\n",
    "a = data_halfraw.CodigoEst.unique() # estaciones con datos válidos\n",
    "b = data_raw.CodigoEst.unique()     # estaciones con datos\n",
    "\n",
    "main_list = np.setdiff1d(b,a)\n",
    "main_list                            # lista de estaciones sin datos válidos (8096 = Cuenca)\n",
    "\n",
    "#len(b)-len(a)                     #  número estaciones sin datos válidos"
   ]
  },
  {
   "cell_type": "markdown",
   "metadata": {},
   "source": [
    "### Formatos uniformes"
   ]
  },
  {
   "cell_type": "code",
   "execution_count": 73,
   "metadata": {
    "ExecuteTime": {
     "end_time": "2019-10-22T14:14:38.135008Z",
     "start_time": "2019-10-22T14:14:35.867119Z"
    }
   },
   "outputs": [
    {
     "data": {
      "text/plain": [
       "count    10549800.0\n",
       "mean           10.0\n",
       "std             0.0\n",
       "min            10.0\n",
       "25%            10.0\n",
       "50%            10.0\n",
       "75%            10.0\n",
       "max            10.0\n",
       "Name: Fecha, dtype: float64"
      ]
     },
     "execution_count": 73,
     "metadata": {},
     "output_type": "execute_result"
    }
   ],
   "source": [
    "# longitud de cada uno de los items de una Serie (columna). para saber si uniforme, usar mean() o mejor, describe()\n",
    "\n",
    "data_halfraw.Fecha.str.len().describe()"
   ]
  },
  {
   "cell_type": "code",
   "execution_count": 74,
   "metadata": {
    "ExecuteTime": {
     "end_time": "2019-10-22T14:15:03.687094Z",
     "start_time": "2019-10-22T14:14:57.738005Z"
    },
    "scrolled": true
   },
   "outputs": [
    {
     "data": {
      "text/plain": [
       "count    1.054980e+07\n",
       "mean     7.993036e+00\n",
       "std      8.316130e-02\n",
       "min      7.000000e+00\n",
       "25%      8.000000e+00\n",
       "50%      8.000000e+00\n",
       "75%      8.000000e+00\n",
       "max      8.000000e+00\n",
       "Name: Xutm, dtype: float64"
      ]
     },
     "execution_count": 74,
     "metadata": {},
     "output_type": "execute_result"
    }
   ],
   "source": [
    "data_halfraw.Xutm.astype('str').str.len().describe()    # num de dígitos en Xutm"
   ]
  },
  {
   "cell_type": "code",
   "execution_count": 75,
   "metadata": {
    "ExecuteTime": {
     "end_time": "2019-10-22T14:15:30.056024Z",
     "start_time": "2019-10-22T14:15:24.387157Z"
    }
   },
   "outputs": [
    {
     "data": {
      "text/plain": [
       "array(['AC', 'PO'], dtype=object)"
      ]
     },
     "execution_count": 75,
     "metadata": {},
     "output_type": "execute_result"
    }
   ],
   "source": [
    "# longitud de Xutm = 7 en estacions de galicia (A Corunya, Vigo)\n",
    "data_halfraw.Provincia[data_halfraw.Xutm.astype('str').str.len()==7].unique()"
   ]
  },
  {
   "cell_type": "code",
   "execution_count": 76,
   "metadata": {
    "ExecuteTime": {
     "end_time": "2019-10-22T14:15:46.506070Z",
     "start_time": "2019-10-22T14:15:40.434108Z"
    }
   },
   "outputs": [
    {
     "data": {
      "text/plain": [
       "count    10549800.0\n",
       "mean            9.0\n",
       "std             0.0\n",
       "min             9.0\n",
       "25%             9.0\n",
       "50%             9.0\n",
       "75%             9.0\n",
       "max             9.0\n",
       "Name: Yutm, dtype: float64"
      ]
     },
     "execution_count": 76,
     "metadata": {},
     "output_type": "execute_result"
    }
   ],
   "source": [
    "data_halfraw.Yutm.astype('str').str.len().describe()    # num de dígitos en Yutm"
   ]
  },
  {
   "cell_type": "code",
   "execution_count": 76,
   "metadata": {
    "ExecuteTime": {
     "end_time": "2019-06-14T13:31:13.623098Z",
     "start_time": "2019-06-14T13:31:13.610132Z"
    },
    "collapsed": true
   },
   "outputs": [
    {
     "data": {
      "text/html": [
       "<div>\n",
       "<style scoped>\n",
       "    .dataframe tbody tr th:only-of-type {\n",
       "        vertical-align: middle;\n",
       "    }\n",
       "\n",
       "    .dataframe tbody tr th {\n",
       "        vertical-align: top;\n",
       "    }\n",
       "\n",
       "    .dataframe thead th {\n",
       "        text-align: right;\n",
       "    }\n",
       "</style>\n",
       "<table border=\"1\" class=\"dataframe\">\n",
       "  <thead>\n",
       "    <tr style=\"text-align: right;\">\n",
       "      <th></th>\n",
       "      <th>CodigoEst</th>\n",
       "      <th>Fecha</th>\n",
       "      <th>Precipitacion</th>\n",
       "      <th>ValidPP</th>\n",
       "      <th>Estacion</th>\n",
       "      <th>Tipo</th>\n",
       "      <th>Xutm</th>\n",
       "      <th>Yutm</th>\n",
       "      <th>Altura</th>\n",
       "      <th>Provincia</th>\n",
       "      <th>Umbral_20_40_km_costa</th>\n",
       "      <th>Tmaxima</th>\n",
       "      <th>ValidTmax</th>\n",
       "      <th>Tminima</th>\n",
       "      <th>ValidTmin</th>\n",
       "    </tr>\n",
       "  </thead>\n",
       "  <tbody>\n",
       "    <tr>\n",
       "      <th>3562254</th>\n",
       "      <td>8073</td>\n",
       "      <td>2018-11-26</td>\n",
       "      <td>0.0</td>\n",
       "      <td>S</td>\n",
       "      <td>XERESA</td>\n",
       "      <td>INMman</td>\n",
       "      <td>740848.0</td>\n",
       "      <td>4321455.0</td>\n",
       "      <td>25.0</td>\n",
       "      <td>V</td>\n",
       "      <td>1.0</td>\n",
       "      <td>NaN</td>\n",
       "      <td>NaN</td>\n",
       "      <td>NaN</td>\n",
       "      <td>NaN</td>\n",
       "    </tr>\n",
       "    <tr>\n",
       "      <th>3562239</th>\n",
       "      <td>8073</td>\n",
       "      <td>2018-11-27</td>\n",
       "      <td>0.0</td>\n",
       "      <td>S</td>\n",
       "      <td>XERESA</td>\n",
       "      <td>INMman</td>\n",
       "      <td>740848.0</td>\n",
       "      <td>4321455.0</td>\n",
       "      <td>25.0</td>\n",
       "      <td>V</td>\n",
       "      <td>1.0</td>\n",
       "      <td>NaN</td>\n",
       "      <td>NaN</td>\n",
       "      <td>NaN</td>\n",
       "      <td>NaN</td>\n",
       "    </tr>\n",
       "    <tr>\n",
       "      <th>3562224</th>\n",
       "      <td>8073</td>\n",
       "      <td>2018-11-28</td>\n",
       "      <td>0.0</td>\n",
       "      <td>S</td>\n",
       "      <td>XERESA</td>\n",
       "      <td>INMman</td>\n",
       "      <td>740848.0</td>\n",
       "      <td>4321455.0</td>\n",
       "      <td>25.0</td>\n",
       "      <td>V</td>\n",
       "      <td>1.0</td>\n",
       "      <td>NaN</td>\n",
       "      <td>NaN</td>\n",
       "      <td>NaN</td>\n",
       "      <td>NaN</td>\n",
       "    </tr>\n",
       "    <tr>\n",
       "      <th>3562210</th>\n",
       "      <td>8073</td>\n",
       "      <td>2018-11-29</td>\n",
       "      <td>0.0</td>\n",
       "      <td>S</td>\n",
       "      <td>XERESA</td>\n",
       "      <td>INMman</td>\n",
       "      <td>740848.0</td>\n",
       "      <td>4321455.0</td>\n",
       "      <td>25.0</td>\n",
       "      <td>V</td>\n",
       "      <td>1.0</td>\n",
       "      <td>NaN</td>\n",
       "      <td>NaN</td>\n",
       "      <td>NaN</td>\n",
       "      <td>NaN</td>\n",
       "    </tr>\n",
       "    <tr>\n",
       "      <th>3562196</th>\n",
       "      <td>8073</td>\n",
       "      <td>2018-11-30</td>\n",
       "      <td>0.0</td>\n",
       "      <td>S</td>\n",
       "      <td>XERESA</td>\n",
       "      <td>INMman</td>\n",
       "      <td>740848.0</td>\n",
       "      <td>4321455.0</td>\n",
       "      <td>25.0</td>\n",
       "      <td>V</td>\n",
       "      <td>1.0</td>\n",
       "      <td>NaN</td>\n",
       "      <td>NaN</td>\n",
       "      <td>NaN</td>\n",
       "      <td>NaN</td>\n",
       "    </tr>\n",
       "  </tbody>\n",
       "</table>\n",
       "</div>"
      ],
      "text/plain": [
       "        CodigoEst       Fecha  Precipitacion ValidPP Estacion    Tipo  \\\n",
       "3562254      8073  2018-11-26            0.0       S   XERESA  INMman   \n",
       "3562239      8073  2018-11-27            0.0       S   XERESA  INMman   \n",
       "3562224      8073  2018-11-28            0.0       S   XERESA  INMman   \n",
       "3562210      8073  2018-11-29            0.0       S   XERESA  INMman   \n",
       "3562196      8073  2018-11-30            0.0       S   XERESA  INMman   \n",
       "\n",
       "             Xutm       Yutm  Altura Provincia  Umbral_20_40_km_costa  \\\n",
       "3562254  740848.0  4321455.0    25.0         V                    1.0   \n",
       "3562239  740848.0  4321455.0    25.0         V                    1.0   \n",
       "3562224  740848.0  4321455.0    25.0         V                    1.0   \n",
       "3562210  740848.0  4321455.0    25.0         V                    1.0   \n",
       "3562196  740848.0  4321455.0    25.0         V                    1.0   \n",
       "\n",
       "         Tmaxima ValidTmax  Tminima ValidTmin  \n",
       "3562254      NaN       NaN      NaN       NaN  \n",
       "3562239      NaN       NaN      NaN       NaN  \n",
       "3562224      NaN       NaN      NaN       NaN  \n",
       "3562210      NaN       NaN      NaN       NaN  \n",
       "3562196      NaN       NaN      NaN       NaN  "
      ]
     },
     "execution_count": 76,
     "metadata": {},
     "output_type": "execute_result"
    }
   ],
   "source": [
    "data_halfraw.tail()"
   ]
  },
  {
   "cell_type": "code",
   "execution_count": 77,
   "metadata": {
    "ExecuteTime": {
     "end_time": "2019-10-22T14:25:15.850130Z",
     "start_time": "2019-10-22T14:25:15.843149Z"
    }
   },
   "outputs": [
    {
     "data": {
      "text/plain": [
       "CodigoEst                 object\n",
       "Fecha                     object\n",
       "Precipitacion            float64\n",
       "ValidPP                   object\n",
       "Estacion                  object\n",
       "Tipo                      object\n",
       "Xutm                     float64\n",
       "Yutm                     float64\n",
       "Altura                   float64\n",
       "Provincia                 object\n",
       "Umbral_20_40_km_costa    float64\n",
       "Tmaxima                  float64\n",
       "ValidTmax                 object\n",
       "Tminima                  float64\n",
       "ValidTmin                 object\n",
       "dtype: object"
      ]
     },
     "execution_count": 77,
     "metadata": {},
     "output_type": "execute_result"
    }
   ],
   "source": [
    "data_halfraw.dtypes                                     # formato de las columnas de mi DB"
   ]
  },
  {
   "cell_type": "markdown",
   "metadata": {},
   "source": [
    "### Estaciones fuera de rango geogràfico"
   ]
  },
  {
   "cell_type": "code",
   "execution_count": 78,
   "metadata": {
    "ExecuteTime": {
     "end_time": "2019-10-22T14:25:51.125057Z",
     "start_time": "2019-10-22T14:25:50.826845Z"
    }
   },
   "outputs": [
    {
     "data": {
      "text/plain": [
       "898"
      ]
     },
     "execution_count": 78,
     "metadata": {},
     "output_type": "execute_result"
    }
   ],
   "source": [
    "len(data_halfraw.CodigoEst.unique())"
   ]
  },
  {
   "cell_type": "code",
   "execution_count": 79,
   "metadata": {
    "ExecuteTime": {
     "end_time": "2019-10-22T14:25:58.649314Z",
     "start_time": "2019-10-22T14:25:57.457474Z"
    },
    "scrolled": true
   },
   "outputs": [],
   "source": [
    "# Eliminar datos de estaciones que no sean C, V, A, MU, AB, CU, TE\n",
    "\n",
    "data_halfraw = data_halfraw[data_halfraw.Provincia.isin(['CU', 'AB','MU','TE','C','V','A'])]"
   ]
  },
  {
   "cell_type": "code",
   "execution_count": 80,
   "metadata": {
    "ExecuteTime": {
     "end_time": "2019-10-22T14:26:02.778147Z",
     "start_time": "2019-10-22T14:26:02.505848Z"
    }
   },
   "outputs": [
    {
     "data": {
      "text/plain": [
       "862"
      ]
     },
     "execution_count": 80,
     "metadata": {},
     "output_type": "execute_result"
    }
   ],
   "source": [
    "len(data_halfraw.CodigoEst.unique())"
   ]
  },
  {
   "cell_type": "markdown",
   "metadata": {},
   "source": [
    "### Ordenar"
   ]
  },
  {
   "cell_type": "code",
   "execution_count": 81,
   "metadata": {
    "ExecuteTime": {
     "end_time": "2019-10-22T14:26:45.683339Z",
     "start_time": "2019-10-22T14:26:39.801930Z"
    }
   },
   "outputs": [],
   "source": [
    "### La jerarquía es: 1. Provincia, 2. Nombre de estación, 3. Código de la Est, 4. Fecha\n",
    "\n",
    "data_halfraw.sort_values(by=['Provincia','Estacion','CodigoEst','Fecha'], inplace=True)"
   ]
  },
  {
   "cell_type": "code",
   "execution_count": 83,
   "metadata": {
    "ExecuteTime": {
     "end_time": "2019-10-22T14:27:33.326121Z",
     "start_time": "2019-10-22T14:27:33.313156Z"
    },
    "scrolled": false
   },
   "outputs": [
    {
     "data": {
      "text/html": [
       "<div>\n",
       "<style scoped>\n",
       "    .dataframe tbody tr th:only-of-type {\n",
       "        vertical-align: middle;\n",
       "    }\n",
       "\n",
       "    .dataframe tbody tr th {\n",
       "        vertical-align: top;\n",
       "    }\n",
       "\n",
       "    .dataframe thead th {\n",
       "        text-align: right;\n",
       "    }\n",
       "</style>\n",
       "<table border=\"1\" class=\"dataframe\">\n",
       "  <thead>\n",
       "    <tr style=\"text-align: right;\">\n",
       "      <th></th>\n",
       "      <th>CodigoEst</th>\n",
       "      <th>Fecha</th>\n",
       "      <th>Precipitacion</th>\n",
       "      <th>ValidPP</th>\n",
       "      <th>Estacion</th>\n",
       "      <th>Tipo</th>\n",
       "      <th>Xutm</th>\n",
       "      <th>Yutm</th>\n",
       "      <th>Altura</th>\n",
       "      <th>Provincia</th>\n",
       "      <th>Umbral_20_40_km_costa</th>\n",
       "      <th>Tmaxima</th>\n",
       "      <th>ValidTmax</th>\n",
       "      <th>Tminima</th>\n",
       "      <th>ValidTmin</th>\n",
       "    </tr>\n",
       "  </thead>\n",
       "  <tbody>\n",
       "    <tr>\n",
       "      <th>10444025</th>\n",
       "      <td>8073</td>\n",
       "      <td>2018-11-26</td>\n",
       "      <td>0.0</td>\n",
       "      <td>S</td>\n",
       "      <td>XERESA</td>\n",
       "      <td>INMman</td>\n",
       "      <td>740848.0</td>\n",
       "      <td>4321455.0</td>\n",
       "      <td>25.0</td>\n",
       "      <td>V</td>\n",
       "      <td>1.0</td>\n",
       "      <td>NaN</td>\n",
       "      <td>NaN</td>\n",
       "      <td>NaN</td>\n",
       "      <td>NaN</td>\n",
       "    </tr>\n",
       "    <tr>\n",
       "      <th>10444010</th>\n",
       "      <td>8073</td>\n",
       "      <td>2018-11-27</td>\n",
       "      <td>0.0</td>\n",
       "      <td>S</td>\n",
       "      <td>XERESA</td>\n",
       "      <td>INMman</td>\n",
       "      <td>740848.0</td>\n",
       "      <td>4321455.0</td>\n",
       "      <td>25.0</td>\n",
       "      <td>V</td>\n",
       "      <td>1.0</td>\n",
       "      <td>NaN</td>\n",
       "      <td>NaN</td>\n",
       "      <td>NaN</td>\n",
       "      <td>NaN</td>\n",
       "    </tr>\n",
       "    <tr>\n",
       "      <th>10443995</th>\n",
       "      <td>8073</td>\n",
       "      <td>2018-11-28</td>\n",
       "      <td>0.0</td>\n",
       "      <td>S</td>\n",
       "      <td>XERESA</td>\n",
       "      <td>INMman</td>\n",
       "      <td>740848.0</td>\n",
       "      <td>4321455.0</td>\n",
       "      <td>25.0</td>\n",
       "      <td>V</td>\n",
       "      <td>1.0</td>\n",
       "      <td>NaN</td>\n",
       "      <td>NaN</td>\n",
       "      <td>NaN</td>\n",
       "      <td>NaN</td>\n",
       "    </tr>\n",
       "    <tr>\n",
       "      <th>10443981</th>\n",
       "      <td>8073</td>\n",
       "      <td>2018-11-29</td>\n",
       "      <td>0.0</td>\n",
       "      <td>S</td>\n",
       "      <td>XERESA</td>\n",
       "      <td>INMman</td>\n",
       "      <td>740848.0</td>\n",
       "      <td>4321455.0</td>\n",
       "      <td>25.0</td>\n",
       "      <td>V</td>\n",
       "      <td>1.0</td>\n",
       "      <td>NaN</td>\n",
       "      <td>NaN</td>\n",
       "      <td>NaN</td>\n",
       "      <td>NaN</td>\n",
       "    </tr>\n",
       "    <tr>\n",
       "      <th>10443967</th>\n",
       "      <td>8073</td>\n",
       "      <td>2018-11-30</td>\n",
       "      <td>0.0</td>\n",
       "      <td>S</td>\n",
       "      <td>XERESA</td>\n",
       "      <td>INMman</td>\n",
       "      <td>740848.0</td>\n",
       "      <td>4321455.0</td>\n",
       "      <td>25.0</td>\n",
       "      <td>V</td>\n",
       "      <td>1.0</td>\n",
       "      <td>NaN</td>\n",
       "      <td>NaN</td>\n",
       "      <td>NaN</td>\n",
       "      <td>NaN</td>\n",
       "    </tr>\n",
       "  </tbody>\n",
       "</table>\n",
       "</div>"
      ],
      "text/plain": [
       "         CodigoEst       Fecha  Precipitacion ValidPP Estacion    Tipo  \\\n",
       "10444025      8073  2018-11-26            0.0       S   XERESA  INMman   \n",
       "10444010      8073  2018-11-27            0.0       S   XERESA  INMman   \n",
       "10443995      8073  2018-11-28            0.0       S   XERESA  INMman   \n",
       "10443981      8073  2018-11-29            0.0       S   XERESA  INMman   \n",
       "10443967      8073  2018-11-30            0.0       S   XERESA  INMman   \n",
       "\n",
       "              Xutm       Yutm  Altura Provincia  Umbral_20_40_km_costa  \\\n",
       "10444025  740848.0  4321455.0    25.0         V                    1.0   \n",
       "10444010  740848.0  4321455.0    25.0         V                    1.0   \n",
       "10443995  740848.0  4321455.0    25.0         V                    1.0   \n",
       "10443981  740848.0  4321455.0    25.0         V                    1.0   \n",
       "10443967  740848.0  4321455.0    25.0         V                    1.0   \n",
       "\n",
       "          Tmaxima ValidTmax  Tminima ValidTmin  \n",
       "10444025      NaN       NaN      NaN       NaN  \n",
       "10444010      NaN       NaN      NaN       NaN  \n",
       "10443995      NaN       NaN      NaN       NaN  \n",
       "10443981      NaN       NaN      NaN       NaN  \n",
       "10443967      NaN       NaN      NaN       NaN  "
      ]
     },
     "execution_count": 83,
     "metadata": {},
     "output_type": "execute_result"
    }
   ],
   "source": [
    "data_halfraw.tail()"
   ]
  },
  {
   "cell_type": "markdown",
   "metadata": {},
   "source": [
    "### Dividir fecha en 3 columnas"
   ]
  },
  {
   "cell_type": "code",
   "execution_count": 84,
   "metadata": {
    "ExecuteTime": {
     "end_time": "2019-10-22T14:28:00.002886Z",
     "start_time": "2019-10-22T14:27:50.242624Z"
    }
   },
   "outputs": [
    {
     "data": {
      "text/html": [
       "<div>\n",
       "<style scoped>\n",
       "    .dataframe tbody tr th:only-of-type {\n",
       "        vertical-align: middle;\n",
       "    }\n",
       "\n",
       "    .dataframe tbody tr th {\n",
       "        vertical-align: top;\n",
       "    }\n",
       "\n",
       "    .dataframe thead th {\n",
       "        text-align: right;\n",
       "    }\n",
       "</style>\n",
       "<table border=\"1\" class=\"dataframe\">\n",
       "  <thead>\n",
       "    <tr style=\"text-align: right;\">\n",
       "      <th></th>\n",
       "      <th>CodigoEst</th>\n",
       "      <th>Fecha</th>\n",
       "      <th>Precipitacion</th>\n",
       "      <th>ValidPP</th>\n",
       "      <th>Estacion</th>\n",
       "      <th>Tipo</th>\n",
       "      <th>Xutm</th>\n",
       "      <th>Yutm</th>\n",
       "      <th>Altura</th>\n",
       "      <th>Provincia</th>\n",
       "      <th>Umbral_20_40_km_costa</th>\n",
       "      <th>Tmaxima</th>\n",
       "      <th>ValidTmax</th>\n",
       "      <th>Tminima</th>\n",
       "      <th>ValidTmin</th>\n",
       "      <th>Year</th>\n",
       "      <th>Month</th>\n",
       "      <th>Day</th>\n",
       "    </tr>\n",
       "  </thead>\n",
       "  <tbody>\n",
       "    <tr>\n",
       "      <th>10444025</th>\n",
       "      <td>8073</td>\n",
       "      <td>2018-11-26</td>\n",
       "      <td>0.0</td>\n",
       "      <td>S</td>\n",
       "      <td>XERESA</td>\n",
       "      <td>INMman</td>\n",
       "      <td>740848.0</td>\n",
       "      <td>4321455.0</td>\n",
       "      <td>25.0</td>\n",
       "      <td>V</td>\n",
       "      <td>1.0</td>\n",
       "      <td>NaN</td>\n",
       "      <td>NaN</td>\n",
       "      <td>NaN</td>\n",
       "      <td>NaN</td>\n",
       "      <td>2018</td>\n",
       "      <td>11</td>\n",
       "      <td>26</td>\n",
       "    </tr>\n",
       "    <tr>\n",
       "      <th>10444010</th>\n",
       "      <td>8073</td>\n",
       "      <td>2018-11-27</td>\n",
       "      <td>0.0</td>\n",
       "      <td>S</td>\n",
       "      <td>XERESA</td>\n",
       "      <td>INMman</td>\n",
       "      <td>740848.0</td>\n",
       "      <td>4321455.0</td>\n",
       "      <td>25.0</td>\n",
       "      <td>V</td>\n",
       "      <td>1.0</td>\n",
       "      <td>NaN</td>\n",
       "      <td>NaN</td>\n",
       "      <td>NaN</td>\n",
       "      <td>NaN</td>\n",
       "      <td>2018</td>\n",
       "      <td>11</td>\n",
       "      <td>27</td>\n",
       "    </tr>\n",
       "    <tr>\n",
       "      <th>10443995</th>\n",
       "      <td>8073</td>\n",
       "      <td>2018-11-28</td>\n",
       "      <td>0.0</td>\n",
       "      <td>S</td>\n",
       "      <td>XERESA</td>\n",
       "      <td>INMman</td>\n",
       "      <td>740848.0</td>\n",
       "      <td>4321455.0</td>\n",
       "      <td>25.0</td>\n",
       "      <td>V</td>\n",
       "      <td>1.0</td>\n",
       "      <td>NaN</td>\n",
       "      <td>NaN</td>\n",
       "      <td>NaN</td>\n",
       "      <td>NaN</td>\n",
       "      <td>2018</td>\n",
       "      <td>11</td>\n",
       "      <td>28</td>\n",
       "    </tr>\n",
       "    <tr>\n",
       "      <th>10443981</th>\n",
       "      <td>8073</td>\n",
       "      <td>2018-11-29</td>\n",
       "      <td>0.0</td>\n",
       "      <td>S</td>\n",
       "      <td>XERESA</td>\n",
       "      <td>INMman</td>\n",
       "      <td>740848.0</td>\n",
       "      <td>4321455.0</td>\n",
       "      <td>25.0</td>\n",
       "      <td>V</td>\n",
       "      <td>1.0</td>\n",
       "      <td>NaN</td>\n",
       "      <td>NaN</td>\n",
       "      <td>NaN</td>\n",
       "      <td>NaN</td>\n",
       "      <td>2018</td>\n",
       "      <td>11</td>\n",
       "      <td>29</td>\n",
       "    </tr>\n",
       "    <tr>\n",
       "      <th>10443967</th>\n",
       "      <td>8073</td>\n",
       "      <td>2018-11-30</td>\n",
       "      <td>0.0</td>\n",
       "      <td>S</td>\n",
       "      <td>XERESA</td>\n",
       "      <td>INMman</td>\n",
       "      <td>740848.0</td>\n",
       "      <td>4321455.0</td>\n",
       "      <td>25.0</td>\n",
       "      <td>V</td>\n",
       "      <td>1.0</td>\n",
       "      <td>NaN</td>\n",
       "      <td>NaN</td>\n",
       "      <td>NaN</td>\n",
       "      <td>NaN</td>\n",
       "      <td>2018</td>\n",
       "      <td>11</td>\n",
       "      <td>30</td>\n",
       "    </tr>\n",
       "  </tbody>\n",
       "</table>\n",
       "</div>"
      ],
      "text/plain": [
       "         CodigoEst       Fecha  Precipitacion ValidPP Estacion    Tipo  \\\n",
       "10444025      8073  2018-11-26            0.0       S   XERESA  INMman   \n",
       "10444010      8073  2018-11-27            0.0       S   XERESA  INMman   \n",
       "10443995      8073  2018-11-28            0.0       S   XERESA  INMman   \n",
       "10443981      8073  2018-11-29            0.0       S   XERESA  INMman   \n",
       "10443967      8073  2018-11-30            0.0       S   XERESA  INMman   \n",
       "\n",
       "              Xutm       Yutm  Altura Provincia  Umbral_20_40_km_costa  \\\n",
       "10444025  740848.0  4321455.0    25.0         V                    1.0   \n",
       "10444010  740848.0  4321455.0    25.0         V                    1.0   \n",
       "10443995  740848.0  4321455.0    25.0         V                    1.0   \n",
       "10443981  740848.0  4321455.0    25.0         V                    1.0   \n",
       "10443967  740848.0  4321455.0    25.0         V                    1.0   \n",
       "\n",
       "          Tmaxima ValidTmax  Tminima ValidTmin  Year Month Day  \n",
       "10444025      NaN       NaN      NaN       NaN  2018    11  26  \n",
       "10444010      NaN       NaN      NaN       NaN  2018    11  27  \n",
       "10443995      NaN       NaN      NaN       NaN  2018    11  28  \n",
       "10443981      NaN       NaN      NaN       NaN  2018    11  29  \n",
       "10443967      NaN       NaN      NaN       NaN  2018    11  30  "
      ]
     },
     "execution_count": 84,
     "metadata": {},
     "output_type": "execute_result"
    }
   ],
   "source": [
    "#adding Year Month Day columns\n",
    "\n",
    "data_halfraw['Year']=[d.split('-')[0] for d in data_halfraw.Fecha]\n",
    "data_halfraw['Month']=[d.split('-')[1] for d in data_halfraw.Fecha]\n",
    "data_halfraw['Day']=[d.split('-')[2] for d in data_halfraw.Fecha]\n",
    "\n",
    "data_halfraw.tail(5)"
   ]
  },
  {
   "cell_type": "markdown",
   "metadata": {},
   "source": [
    "### Añadir distancia estación-costa"
   ]
  },
  {
   "cell_type": "code",
   "execution_count": 85,
   "metadata": {
    "ExecuteTime": {
     "end_time": "2019-10-22T14:30:10.541576Z",
     "start_time": "2019-10-22T14:30:10.538584Z"
    }
   },
   "outputs": [],
   "source": [
    "path4 = r'C:/CicloHidrico/Datos'      # directorio de los datos\n",
    "os.chdir(path4)"
   ]
  },
  {
   "cell_type": "code",
   "execution_count": 86,
   "metadata": {
    "ExecuteTime": {
     "end_time": "2019-10-22T14:30:17.466395Z",
     "start_time": "2019-10-22T14:30:10.920817Z"
    }
   },
   "outputs": [],
   "source": [
    "# estaciones con datos en la CHJ\n",
    "est_CHJ = data_halfraw.drop_duplicates(['CodigoEst'])"
   ]
  },
  {
   "cell_type": "code",
   "execution_count": 87,
   "metadata": {
    "ExecuteTime": {
     "end_time": "2019-10-22T14:30:34.659938Z",
     "start_time": "2019-10-22T14:30:34.057676Z"
    }
   },
   "outputs": [],
   "source": [
    "# en csv, para cálculo de dist_costa (Hassane)\n",
    "est_CHJ.to_csv('est_CHJ.csv')"
   ]
  },
  {
   "cell_type": "code",
   "execution_count": 88,
   "metadata": {
    "ExecuteTime": {
     "end_time": "2019-10-22T14:37:03.383508Z",
     "start_time": "2019-10-22T14:37:02.926447Z"
    }
   },
   "outputs": [],
   "source": [
    "est = pd.read_excel(\"EstacionesCHJ09_2019.xlsx\",index_col=0)  # con las dist_costa"
   ]
  },
  {
   "cell_type": "code",
   "execution_count": 89,
   "metadata": {
    "ExecuteTime": {
     "end_time": "2019-10-22T14:37:03.660197Z",
     "start_time": "2019-10-22T14:37:03.657176Z"
    }
   },
   "outputs": [],
   "source": [
    "est.CodigoEst = est.CodigoEst.astype('str')"
   ]
  },
  {
   "cell_type": "code",
   "execution_count": 90,
   "metadata": {
    "ExecuteTime": {
     "end_time": "2019-10-22T14:37:18.149005Z",
     "start_time": "2019-10-22T14:37:03.840686Z"
    }
   },
   "outputs": [],
   "source": [
    "# merge distance to coast to the last column\n",
    "data_halfraw = data_halfraw.merge(est[['CodigoEst','dist_costa']],on='CodigoEst',how='left')"
   ]
  },
  {
   "cell_type": "code",
   "execution_count": 91,
   "metadata": {
    "ExecuteTime": {
     "end_time": "2019-10-22T14:37:18.996528Z",
     "start_time": "2019-10-22T14:37:18.727217Z"
    }
   },
   "outputs": [
    {
     "data": {
      "text/plain": [
       "9814483"
      ]
     },
     "execution_count": 91,
     "metadata": {},
     "output_type": "execute_result"
    }
   ],
   "source": [
    "data_halfraw.dist_costa.count()"
   ]
  },
  {
   "cell_type": "markdown",
   "metadata": {},
   "source": [
    "# To Excel"
   ]
  },
  {
   "cell_type": "code",
   "execution_count": 92,
   "metadata": {
    "ExecuteTime": {
     "end_time": "2019-10-22T14:38:09.476198Z",
     "start_time": "2019-10-22T14:38:09.473205Z"
    }
   },
   "outputs": [],
   "source": [
    "meteodata = data_halfraw\n",
    "del data_halfraw"
   ]
  },
  {
   "cell_type": "code",
   "execution_count": 116,
   "metadata": {
    "ExecuteTime": {
     "end_time": "2019-09-02T11:05:36.152132Z",
     "start_time": "2019-09-02T11:05:36.148159Z"
    }
   },
   "outputs": [],
   "source": [
    "# reset index per a que estiga ordenat de 0 a X\n",
    "# meteodata.reset_index(drop=True, inplace=True)"
   ]
  },
  {
   "cell_type": "code",
   "execution_count": 93,
   "metadata": {
    "ExecuteTime": {
     "end_time": "2019-10-22T14:39:32.532950Z",
     "start_time": "2019-10-22T14:38:11.072262Z"
    }
   },
   "outputs": [],
   "source": [
    "meteodata.to_csv('meteodata.csv')"
   ]
  },
  {
   "cell_type": "code",
   "execution_count": null,
   "metadata": {},
   "outputs": [],
   "source": []
  },
  {
   "cell_type": "code",
   "execution_count": null,
   "metadata": {
    "ExecuteTime": {
     "end_time": "2019-10-22T15:10:58.766352Z",
     "start_time": "2019-10-22T15:10:58.725464Z"
    },
    "scrolled": true
   },
   "outputs": [],
   "source": [
    "meteodata[(meteodata.Precipitacion > 400)]"
   ]
  },
  {
   "cell_type": "code",
   "execution_count": 96,
   "metadata": {
    "ExecuteTime": {
     "end_time": "2019-10-22T14:44:47.980543Z",
     "start_time": "2019-10-22T14:44:35.440082Z"
    },
    "collapsed": true
   },
   "outputs": [
    {
     "data": {
      "text/html": [
       "<div>\n",
       "<style scoped>\n",
       "    .dataframe tbody tr th:only-of-type {\n",
       "        vertical-align: middle;\n",
       "    }\n",
       "\n",
       "    .dataframe tbody tr th {\n",
       "        vertical-align: top;\n",
       "    }\n",
       "\n",
       "    .dataframe thead th {\n",
       "        text-align: right;\n",
       "    }\n",
       "</style>\n",
       "<table border=\"1\" class=\"dataframe\">\n",
       "  <thead>\n",
       "    <tr style=\"text-align: right;\">\n",
       "      <th></th>\n",
       "      <th>CodigoEst</th>\n",
       "      <th>Fecha</th>\n",
       "      <th>Precipitacion</th>\n",
       "      <th>ValidPP</th>\n",
       "      <th>Estacion</th>\n",
       "      <th>Tipo</th>\n",
       "      <th>Xutm</th>\n",
       "      <th>Yutm</th>\n",
       "      <th>Altura</th>\n",
       "      <th>Provincia</th>\n",
       "      <th>Umbral_20_40_km_costa</th>\n",
       "      <th>Tmaxima</th>\n",
       "      <th>ValidTmax</th>\n",
       "      <th>Tminima</th>\n",
       "      <th>ValidTmin</th>\n",
       "      <th>Year</th>\n",
       "      <th>Month</th>\n",
       "      <th>Day</th>\n",
       "      <th>dist_costa</th>\n",
       "    </tr>\n",
       "  </thead>\n",
       "  <tbody>\n",
       "    <tr>\n",
       "      <th>count</th>\n",
       "      <td>9814483</td>\n",
       "      <td>9814483</td>\n",
       "      <td>9.814483e+06</td>\n",
       "      <td>9814483</td>\n",
       "      <td>9814483</td>\n",
       "      <td>9814483</td>\n",
       "      <td>9.814483e+06</td>\n",
       "      <td>9.814483e+06</td>\n",
       "      <td>9.814483e+06</td>\n",
       "      <td>9814483</td>\n",
       "      <td>9.814483e+06</td>\n",
       "      <td>3.554167e+06</td>\n",
       "      <td>3694386</td>\n",
       "      <td>3.562843e+06</td>\n",
       "      <td>3692830</td>\n",
       "      <td>9814483</td>\n",
       "      <td>9814483</td>\n",
       "      <td>9814483</td>\n",
       "      <td>9.814483e+06</td>\n",
       "    </tr>\n",
       "    <tr>\n",
       "      <th>unique</th>\n",
       "      <td>862</td>\n",
       "      <td>39118</td>\n",
       "      <td>NaN</td>\n",
       "      <td>3</td>\n",
       "      <td>853</td>\n",
       "      <td>4</td>\n",
       "      <td>NaN</td>\n",
       "      <td>NaN</td>\n",
       "      <td>NaN</td>\n",
       "      <td>7</td>\n",
       "      <td>NaN</td>\n",
       "      <td>NaN</td>\n",
       "      <td>2</td>\n",
       "      <td>NaN</td>\n",
       "      <td>2</td>\n",
       "      <td>108</td>\n",
       "      <td>12</td>\n",
       "      <td>31</td>\n",
       "      <td>NaN</td>\n",
       "    </tr>\n",
       "    <tr>\n",
       "      <th>top</th>\n",
       "      <td>7102</td>\n",
       "      <td>2003-04-10</td>\n",
       "      <td>NaN</td>\n",
       "      <td>S</td>\n",
       "      <td>ONTUR GRUPO ESCOLAR</td>\n",
       "      <td>INMman</td>\n",
       "      <td>NaN</td>\n",
       "      <td>NaN</td>\n",
       "      <td>NaN</td>\n",
       "      <td>V</td>\n",
       "      <td>NaN</td>\n",
       "      <td>NaN</td>\n",
       "      <td>S</td>\n",
       "      <td>NaN</td>\n",
       "      <td>S</td>\n",
       "      <td>2003</td>\n",
       "      <td>05</td>\n",
       "      <td>11</td>\n",
       "      <td>NaN</td>\n",
       "    </tr>\n",
       "    <tr>\n",
       "      <th>freq</th>\n",
       "      <td>34009</td>\n",
       "      <td>531</td>\n",
       "      <td>NaN</td>\n",
       "      <td>9770922</td>\n",
       "      <td>34009</td>\n",
       "      <td>9657591</td>\n",
       "      <td>NaN</td>\n",
       "      <td>NaN</td>\n",
       "      <td>NaN</td>\n",
       "      <td>2594822</td>\n",
       "      <td>NaN</td>\n",
       "      <td>NaN</td>\n",
       "      <td>3554167</td>\n",
       "      <td>NaN</td>\n",
       "      <td>3562843</td>\n",
       "      <td>187472</td>\n",
       "      <td>841875</td>\n",
       "      <td>322639</td>\n",
       "      <td>NaN</td>\n",
       "    </tr>\n",
       "    <tr>\n",
       "      <th>mean</th>\n",
       "      <td>NaN</td>\n",
       "      <td>NaN</td>\n",
       "      <td>1.328469e+00</td>\n",
       "      <td>NaN</td>\n",
       "      <td>NaN</td>\n",
       "      <td>NaN</td>\n",
       "      <td>6.737372e+05</td>\n",
       "      <td>4.347105e+06</td>\n",
       "      <td>5.290456e+02</td>\n",
       "      <td>NaN</td>\n",
       "      <td>2.233426e+00</td>\n",
       "      <td>2.137944e+01</td>\n",
       "      <td>NaN</td>\n",
       "      <td>1.004954e+01</td>\n",
       "      <td>NaN</td>\n",
       "      <td>NaN</td>\n",
       "      <td>NaN</td>\n",
       "      <td>NaN</td>\n",
       "      <td>5.974007e+01</td>\n",
       "    </tr>\n",
       "    <tr>\n",
       "      <th>std</th>\n",
       "      <td>NaN</td>\n",
       "      <td>NaN</td>\n",
       "      <td>6.246974e+00</td>\n",
       "      <td>NaN</td>\n",
       "      <td>NaN</td>\n",
       "      <td>NaN</td>\n",
       "      <td>6.161864e+04</td>\n",
       "      <td>9.142099e+04</td>\n",
       "      <td>4.147087e+02</td>\n",
       "      <td>NaN</td>\n",
       "      <td>8.588786e-01</td>\n",
       "      <td>7.809340e+00</td>\n",
       "      <td>NaN</td>\n",
       "      <td>6.800974e+00</td>\n",
       "      <td>NaN</td>\n",
       "      <td>NaN</td>\n",
       "      <td>NaN</td>\n",
       "      <td>NaN</td>\n",
       "      <td>5.360077e+01</td>\n",
       "    </tr>\n",
       "    <tr>\n",
       "      <th>min</th>\n",
       "      <td>NaN</td>\n",
       "      <td>NaN</td>\n",
       "      <td>0.000000e+00</td>\n",
       "      <td>NaN</td>\n",
       "      <td>NaN</td>\n",
       "      <td>NaN</td>\n",
       "      <td>5.370000e+05</td>\n",
       "      <td>4.141490e+06</td>\n",
       "      <td>1.000000e+00</td>\n",
       "      <td>NaN</td>\n",
       "      <td>1.000000e+00</td>\n",
       "      <td>-1.500000e+01</td>\n",
       "      <td>NaN</td>\n",
       "      <td>-2.700000e+01</td>\n",
       "      <td>NaN</td>\n",
       "      <td>NaN</td>\n",
       "      <td>NaN</td>\n",
       "      <td>NaN</td>\n",
       "      <td>-1.000000e+01</td>\n",
       "    </tr>\n",
       "    <tr>\n",
       "      <th>25%</th>\n",
       "      <td>NaN</td>\n",
       "      <td>NaN</td>\n",
       "      <td>0.000000e+00</td>\n",
       "      <td>NaN</td>\n",
       "      <td>NaN</td>\n",
       "      <td>NaN</td>\n",
       "      <td>6.284940e+05</td>\n",
       "      <td>4.275126e+06</td>\n",
       "      <td>1.000000e+02</td>\n",
       "      <td>NaN</td>\n",
       "      <td>1.000000e+00</td>\n",
       "      <td>1.550000e+01</td>\n",
       "      <td>NaN</td>\n",
       "      <td>5.000000e+00</td>\n",
       "      <td>NaN</td>\n",
       "      <td>NaN</td>\n",
       "      <td>NaN</td>\n",
       "      <td>NaN</td>\n",
       "      <td>1.552000e+01</td>\n",
       "    </tr>\n",
       "    <tr>\n",
       "      <th>50%</th>\n",
       "      <td>NaN</td>\n",
       "      <td>NaN</td>\n",
       "      <td>0.000000e+00</td>\n",
       "      <td>NaN</td>\n",
       "      <td>NaN</td>\n",
       "      <td>NaN</td>\n",
       "      <td>6.865970e+05</td>\n",
       "      <td>4.355969e+06</td>\n",
       "      <td>5.150000e+02</td>\n",
       "      <td>NaN</td>\n",
       "      <td>3.000000e+00</td>\n",
       "      <td>2.100000e+01</td>\n",
       "      <td>NaN</td>\n",
       "      <td>1.000000e+01</td>\n",
       "      <td>NaN</td>\n",
       "      <td>NaN</td>\n",
       "      <td>NaN</td>\n",
       "      <td>NaN</td>\n",
       "      <td>4.118000e+01</td>\n",
       "    </tr>\n",
       "    <tr>\n",
       "      <th>75%</th>\n",
       "      <td>NaN</td>\n",
       "      <td>NaN</td>\n",
       "      <td>0.000000e+00</td>\n",
       "      <td>NaN</td>\n",
       "      <td>NaN</td>\n",
       "      <td>NaN</td>\n",
       "      <td>7.205340e+05</td>\n",
       "      <td>4.422256e+06</td>\n",
       "      <td>8.680000e+02</td>\n",
       "      <td>NaN</td>\n",
       "      <td>3.000000e+00</td>\n",
       "      <td>2.770000e+01</td>\n",
       "      <td>NaN</td>\n",
       "      <td>1.500000e+01</td>\n",
       "      <td>NaN</td>\n",
       "      <td>NaN</td>\n",
       "      <td>NaN</td>\n",
       "      <td>NaN</td>\n",
       "      <td>9.596000e+01</td>\n",
       "    </tr>\n",
       "    <tr>\n",
       "      <th>max</th>\n",
       "      <td>NaN</td>\n",
       "      <td>NaN</td>\n",
       "      <td>8.780000e+02</td>\n",
       "      <td>NaN</td>\n",
       "      <td>NaN</td>\n",
       "      <td>NaN</td>\n",
       "      <td>8.150770e+05</td>\n",
       "      <td>4.538584e+06</td>\n",
       "      <td>1.955000e+03</td>\n",
       "      <td>NaN</td>\n",
       "      <td>3.000000e+00</td>\n",
       "      <td>4.900000e+01</td>\n",
       "      <td>NaN</td>\n",
       "      <td>3.500000e+01</td>\n",
       "      <td>NaN</td>\n",
       "      <td>NaN</td>\n",
       "      <td>NaN</td>\n",
       "      <td>NaN</td>\n",
       "      <td>1.972800e+02</td>\n",
       "    </tr>\n",
       "  </tbody>\n",
       "</table>\n",
       "</div>"
      ],
      "text/plain": [
       "       CodigoEst       Fecha  Precipitacion  ValidPP             Estacion  \\\n",
       "count    9814483     9814483   9.814483e+06  9814483              9814483   \n",
       "unique       862       39118            NaN        3                  853   \n",
       "top         7102  2003-04-10            NaN        S  ONTUR GRUPO ESCOLAR   \n",
       "freq       34009         531            NaN  9770922                34009   \n",
       "mean         NaN         NaN   1.328469e+00      NaN                  NaN   \n",
       "std          NaN         NaN   6.246974e+00      NaN                  NaN   \n",
       "min          NaN         NaN   0.000000e+00      NaN                  NaN   \n",
       "25%          NaN         NaN   0.000000e+00      NaN                  NaN   \n",
       "50%          NaN         NaN   0.000000e+00      NaN                  NaN   \n",
       "75%          NaN         NaN   0.000000e+00      NaN                  NaN   \n",
       "max          NaN         NaN   8.780000e+02      NaN                  NaN   \n",
       "\n",
       "           Tipo          Xutm          Yutm        Altura Provincia  \\\n",
       "count   9814483  9.814483e+06  9.814483e+06  9.814483e+06   9814483   \n",
       "unique        4           NaN           NaN           NaN         7   \n",
       "top      INMman           NaN           NaN           NaN         V   \n",
       "freq    9657591           NaN           NaN           NaN   2594822   \n",
       "mean        NaN  6.737372e+05  4.347105e+06  5.290456e+02       NaN   \n",
       "std         NaN  6.161864e+04  9.142099e+04  4.147087e+02       NaN   \n",
       "min         NaN  5.370000e+05  4.141490e+06  1.000000e+00       NaN   \n",
       "25%         NaN  6.284940e+05  4.275126e+06  1.000000e+02       NaN   \n",
       "50%         NaN  6.865970e+05  4.355969e+06  5.150000e+02       NaN   \n",
       "75%         NaN  7.205340e+05  4.422256e+06  8.680000e+02       NaN   \n",
       "max         NaN  8.150770e+05  4.538584e+06  1.955000e+03       NaN   \n",
       "\n",
       "        Umbral_20_40_km_costa       Tmaxima ValidTmax       Tminima ValidTmin  \\\n",
       "count            9.814483e+06  3.554167e+06   3694386  3.562843e+06   3692830   \n",
       "unique                    NaN           NaN         2           NaN         2   \n",
       "top                       NaN           NaN         S           NaN         S   \n",
       "freq                      NaN           NaN   3554167           NaN   3562843   \n",
       "mean             2.233426e+00  2.137944e+01       NaN  1.004954e+01       NaN   \n",
       "std              8.588786e-01  7.809340e+00       NaN  6.800974e+00       NaN   \n",
       "min              1.000000e+00 -1.500000e+01       NaN -2.700000e+01       NaN   \n",
       "25%              1.000000e+00  1.550000e+01       NaN  5.000000e+00       NaN   \n",
       "50%              3.000000e+00  2.100000e+01       NaN  1.000000e+01       NaN   \n",
       "75%              3.000000e+00  2.770000e+01       NaN  1.500000e+01       NaN   \n",
       "max              3.000000e+00  4.900000e+01       NaN  3.500000e+01       NaN   \n",
       "\n",
       "           Year    Month      Day    dist_costa  \n",
       "count   9814483  9814483  9814483  9.814483e+06  \n",
       "unique      108       12       31           NaN  \n",
       "top        2003       05       11           NaN  \n",
       "freq     187472   841875   322639           NaN  \n",
       "mean        NaN      NaN      NaN  5.974007e+01  \n",
       "std         NaN      NaN      NaN  5.360077e+01  \n",
       "min         NaN      NaN      NaN -1.000000e+01  \n",
       "25%         NaN      NaN      NaN  1.552000e+01  \n",
       "50%         NaN      NaN      NaN  4.118000e+01  \n",
       "75%         NaN      NaN      NaN  9.596000e+01  \n",
       "max         NaN      NaN      NaN  1.972800e+02  "
      ]
     },
     "execution_count": 96,
     "metadata": {},
     "output_type": "execute_result"
    }
   ],
   "source": [
    "meteodata.describe(include='all')"
   ]
  },
  {
   "cell_type": "code",
   "execution_count": null,
   "metadata": {},
   "outputs": [],
   "source": []
  }
 ],
 "metadata": {
  "hide_input": false,
  "kernelspec": {
   "display_name": "Python 3",
   "language": "python",
   "name": "python3"
  },
  "language_info": {
   "codemirror_mode": {
    "name": "ipython",
    "version": 3
   },
   "file_extension": ".py",
   "mimetype": "text/x-python",
   "name": "python",
   "nbconvert_exporter": "python",
   "pygments_lexer": "ipython3",
   "version": "3.7.4"
  },
  "toc": {
   "base_numbering": 1,
   "nav_menu": {},
   "number_sections": true,
   "sideBar": true,
   "skip_h1_title": false,
   "title_cell": "Table of Contents",
   "title_sidebar": "Contents",
   "toc_cell": false,
   "toc_position": {
    "height": "calc(100% - 180px)",
    "left": "10px",
    "top": "150px",
    "width": "384px"
   },
   "toc_section_display": true,
   "toc_window_display": true
  },
  "varInspector": {
   "cols": {
    "lenName": 16,
    "lenType": 16,
    "lenVar": 40
   },
   "kernels_config": {
    "python": {
     "delete_cmd_postfix": "",
     "delete_cmd_prefix": "del ",
     "library": "var_list.py",
     "varRefreshCmd": "print(var_dic_list())"
    },
    "r": {
     "delete_cmd_postfix": ") ",
     "delete_cmd_prefix": "rm(",
     "library": "var_list.r",
     "varRefreshCmd": "cat(var_dic_list()) "
    }
   },
   "position": {
    "height": "759px",
    "left": "1551px",
    "right": "20px",
    "top": "116px",
    "width": "350px"
   },
   "types_to_exclude": [
    "module",
    "function",
    "builtin_function_or_method",
    "instance",
    "_Feature"
   ],
   "window_display": true
  }
 },
 "nbformat": 4,
 "nbformat_minor": 2
}
