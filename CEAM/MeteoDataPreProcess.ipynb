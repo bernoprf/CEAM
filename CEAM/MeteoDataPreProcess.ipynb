{
 "cells": [
  {
   "cell_type": "markdown",
   "metadata": {},
   "source": [
    "Pre processing meteorological data"
   ]
  },
  {
   "cell_type": "markdown",
   "metadata": {},
   "source": [
    "# Intro"
   ]
  },
  {
   "cell_type": "markdown",
   "metadata": {},
   "source": [
    "## Libraries"
   ]
  },
  {
   "cell_type": "code",
   "execution_count": 1,
   "metadata": {
    "ExecuteTime": {
     "end_time": "2019-08-01T07:50:12.088751Z",
     "start_time": "2019-08-01T07:49:55.641510Z"
    }
   },
   "outputs": [],
   "source": [
    "import os\n",
    "import glob\n",
    "from datetime import datetime\n",
    "\n",
    "import pandas as pd\n",
    "import numpy as np\n",
    "from decimal import Decimal\n",
    "import collections\n",
    "import time\n",
    "\n",
    "from sklearn import datasets, linear_model\n",
    "import matplotlib\n",
    "import matplotlib.pyplot as plt\n",
    "import matplotlib.gridspec as gridspec\n",
    "%matplotlib inline\n",
    "\n",
    "import statsmodels.formula.api as sm\n",
    "from statsmodels.sandbox.regression.predstd import wls_prediction_std\n",
    "from brokenaxes import brokenaxes\n",
    "\n",
    "from scipy.stats import ttest_ind, ttest_ind_from_stats\n",
    "from scipy.special import stdtr\n",
    "\n",
    "from functools import reduce\n",
    "\n",
    "# from co2mpas.datasync import _get_interp_method"
   ]
  },
  {
   "cell_type": "markdown",
   "metadata": {},
   "source": [
    "## Input files"
   ]
  },
  {
   "cell_type": "code",
   "execution_count": 2,
   "metadata": {
    "ExecuteTime": {
     "end_time": "2019-07-22T07:19:59.803263Z",
     "start_time": "2019-07-22T07:19:59.180779Z"
    },
    "scrolled": true
   },
   "outputs": [],
   "source": [
    "# ESTACIONES\n",
    "\n",
    "path1 = r'C:/CicloHidrico/'         # directorio de las estaciones\n",
    "os.chdir(path1)\n",
    "\n",
    "estID = pd.read_csv(\"estaciones.csv\", sep=';', engine='python', index_col=0)                   # estaciones con ID number\n",
    "estRang = pd.read_excel(\"EstacionesTermoPluvio.xlsx\", header=1, sep=';', usecols=range(1, 10)) # estaciones con rango de fecha\n",
    "\n",
    "# print(os.getcwd())\n",
    "# # Display all of the files found in your current working directory\n",
    "# print(os.listdir(os.getcwd()))"
   ]
  },
  {
   "cell_type": "code",
   "execution_count": 7,
   "metadata": {
    "ExecuteTime": {
     "end_time": "2019-07-22T08:15:49.988908Z",
     "start_time": "2019-07-22T08:15:18.289299Z"
    }
   },
   "outputs": [],
   "source": [
    "# DATOS PRECIPITACIÓN PRINCIPALES\n",
    "\n",
    "path2 = r'C:/CicloHidrico/Datos'      # directorio de los datos\n",
    "os.chdir(path2)\n",
    "\n",
    "precipitacion = pd.read_csv(\"precipitacion.csv\", sep=';',\n",
    "                            engine='python', index_col=0)   # precipitacion total diaria DB"
   ]
  },
  {
   "cell_type": "code",
   "execution_count": 8,
   "metadata": {
    "ExecuteTime": {
     "end_time": "2019-07-22T08:15:53.737872Z",
     "start_time": "2019-07-22T08:15:50.394029Z"
    }
   },
   "outputs": [
    {
     "data": {
      "text/html": [
       "<div>\n",
       "<style scoped>\n",
       "    .dataframe tbody tr th:only-of-type {\n",
       "        vertical-align: middle;\n",
       "    }\n",
       "\n",
       "    .dataframe tbody tr th {\n",
       "        vertical-align: top;\n",
       "    }\n",
       "\n",
       "    .dataframe thead th {\n",
       "        text-align: right;\n",
       "    }\n",
       "</style>\n",
       "<table border=\"1\" class=\"dataframe\">\n",
       "  <thead>\n",
       "    <tr style=\"text-align: right;\">\n",
       "      <th></th>\n",
       "      <th>Tmaxima</th>\n",
       "    </tr>\n",
       "  </thead>\n",
       "  <tbody>\n",
       "    <tr>\n",
       "      <th>count</th>\n",
       "      <td>3.508029e+06</td>\n",
       "    </tr>\n",
       "    <tr>\n",
       "      <th>mean</th>\n",
       "      <td>2.059618e+01</td>\n",
       "    </tr>\n",
       "    <tr>\n",
       "      <th>std</th>\n",
       "      <td>8.680685e+00</td>\n",
       "    </tr>\n",
       "    <tr>\n",
       "      <th>min</th>\n",
       "      <td>-9.900000e+01</td>\n",
       "    </tr>\n",
       "    <tr>\n",
       "      <th>25%</th>\n",
       "      <td>1.500000e+01</td>\n",
       "    </tr>\n",
       "    <tr>\n",
       "      <th>50%</th>\n",
       "      <td>2.100000e+01</td>\n",
       "    </tr>\n",
       "    <tr>\n",
       "      <th>75%</th>\n",
       "      <td>2.710000e+01</td>\n",
       "    </tr>\n",
       "    <tr>\n",
       "      <th>max</th>\n",
       "      <td>5.270000e+01</td>\n",
       "    </tr>\n",
       "  </tbody>\n",
       "</table>\n",
       "</div>"
      ],
      "text/plain": [
       "            Tmaxima\n",
       "count  3.508029e+06\n",
       "mean   2.059618e+01\n",
       "std    8.680685e+00\n",
       "min   -9.900000e+01\n",
       "25%    1.500000e+01\n",
       "50%    2.100000e+01\n",
       "75%    2.710000e+01\n",
       "max    5.270000e+01"
      ]
     },
     "execution_count": 8,
     "metadata": {},
     "output_type": "execute_result"
    }
   ],
   "source": [
    "t_max = pd.read_csv(\"temperatura_max.csv\", sep=';', index_col=0)      # temperaturas màximas diarias\n",
    "t_max.describe()"
   ]
  },
  {
   "cell_type": "code",
   "execution_count": 9,
   "metadata": {
    "ExecuteTime": {
     "end_time": "2019-07-22T08:15:55.834152Z",
     "start_time": "2019-07-22T08:15:53.889689Z"
    }
   },
   "outputs": [
    {
     "data": {
      "text/html": [
       "<div>\n",
       "<style scoped>\n",
       "    .dataframe tbody tr th:only-of-type {\n",
       "        vertical-align: middle;\n",
       "    }\n",
       "\n",
       "    .dataframe tbody tr th {\n",
       "        vertical-align: top;\n",
       "    }\n",
       "\n",
       "    .dataframe thead th {\n",
       "        text-align: right;\n",
       "    }\n",
       "</style>\n",
       "<table border=\"1\" class=\"dataframe\">\n",
       "  <thead>\n",
       "    <tr style=\"text-align: right;\">\n",
       "      <th></th>\n",
       "      <th>Tminima</th>\n",
       "    </tr>\n",
       "  </thead>\n",
       "  <tbody>\n",
       "    <tr>\n",
       "      <th>count</th>\n",
       "      <td>3.507394e+06</td>\n",
       "    </tr>\n",
       "    <tr>\n",
       "      <th>mean</th>\n",
       "      <td>9.963253e+00</td>\n",
       "    </tr>\n",
       "    <tr>\n",
       "      <th>std</th>\n",
       "      <td>6.859695e+00</td>\n",
       "    </tr>\n",
       "    <tr>\n",
       "      <th>min</th>\n",
       "      <td>-9.900000e+01</td>\n",
       "    </tr>\n",
       "    <tr>\n",
       "      <th>25%</th>\n",
       "      <td>5.000000e+00</td>\n",
       "    </tr>\n",
       "    <tr>\n",
       "      <th>50%</th>\n",
       "      <td>1.000000e+01</td>\n",
       "    </tr>\n",
       "    <tr>\n",
       "      <th>75%</th>\n",
       "      <td>1.500000e+01</td>\n",
       "    </tr>\n",
       "    <tr>\n",
       "      <th>max</th>\n",
       "      <td>3.900000e+01</td>\n",
       "    </tr>\n",
       "  </tbody>\n",
       "</table>\n",
       "</div>"
      ],
      "text/plain": [
       "            Tminima\n",
       "count  3.507394e+06\n",
       "mean   9.963253e+00\n",
       "std    6.859695e+00\n",
       "min   -9.900000e+01\n",
       "25%    5.000000e+00\n",
       "50%    1.000000e+01\n",
       "75%    1.500000e+01\n",
       "max    3.900000e+01"
      ]
     },
     "execution_count": 9,
     "metadata": {},
     "output_type": "execute_result"
    }
   ],
   "source": [
    "t_min = pd.read_csv(\"temperatura_min.csv\", sep=';', index_col=0)      # temperaturas màximas diarias\n",
    "t_min.describe()"
   ]
  },
  {
   "cell_type": "code",
   "execution_count": null,
   "metadata": {},
   "outputs": [],
   "source": []
  },
  {
   "cell_type": "code",
   "execution_count": 10,
   "metadata": {
    "ExecuteTime": {
     "end_time": "2019-07-22T08:22:52.751668Z",
     "start_time": "2019-07-22T08:22:50.593639Z"
    }
   },
   "outputs": [],
   "source": [
    "# DATOS PRECIPITACIÓN 2 (actualización/últimos datos) - CU, AB, TE de los últimos años\n",
    "\n",
    "path3 = r'C:/CicloHidrico/AemetBernat'      # directorio de los datos\n",
    "os.chdir(path3)\n",
    "\n",
    "pp2 = pd.read_csv(\"PrecipitacionDiaria.csv\", sep=';',\n",
    "                            engine='python', index_col=0)   # precipitacion total diaria DB"
   ]
  },
  {
   "cell_type": "code",
   "execution_count": 11,
   "metadata": {
    "ExecuteTime": {
     "end_time": "2019-07-22T08:22:53.325264Z",
     "start_time": "2019-07-22T08:22:52.994992Z"
    }
   },
   "outputs": [
    {
     "data": {
      "text/html": [
       "<div>\n",
       "<style scoped>\n",
       "    .dataframe tbody tr th:only-of-type {\n",
       "        vertical-align: middle;\n",
       "    }\n",
       "\n",
       "    .dataframe tbody tr th {\n",
       "        vertical-align: top;\n",
       "    }\n",
       "\n",
       "    .dataframe thead th {\n",
       "        text-align: right;\n",
       "    }\n",
       "</style>\n",
       "<table border=\"1\" class=\"dataframe\">\n",
       "  <thead>\n",
       "    <tr style=\"text-align: right;\">\n",
       "      <th></th>\n",
       "      <th>AÑO</th>\n",
       "      <th>MES</th>\n",
       "      <th>NOMBRE</th>\n",
       "      <th>ALTITUD</th>\n",
       "      <th>NOM_PROV</th>\n",
       "      <th>LONGITUD</th>\n",
       "      <th>LATITUD</th>\n",
       "      <th>DATUM</th>\n",
       "      <th>P1</th>\n",
       "      <th>P2</th>\n",
       "      <th>...</th>\n",
       "      <th>P22</th>\n",
       "      <th>P23</th>\n",
       "      <th>P24</th>\n",
       "      <th>P25</th>\n",
       "      <th>P26</th>\n",
       "      <th>P27</th>\n",
       "      <th>P28</th>\n",
       "      <th>P29</th>\n",
       "      <th>P30</th>\n",
       "      <th>P31</th>\n",
       "    </tr>\n",
       "  </thead>\n",
       "  <tbody>\n",
       "    <tr>\n",
       "      <th>count</th>\n",
       "      <td>82732.000000</td>\n",
       "      <td>82732.000000</td>\n",
       "      <td>82732</td>\n",
       "      <td>82732.000000</td>\n",
       "      <td>82732</td>\n",
       "      <td>82732.000000</td>\n",
       "      <td>82732.000000</td>\n",
       "      <td>82732</td>\n",
       "      <td>82350.000000</td>\n",
       "      <td>82385.000000</td>\n",
       "      <td>...</td>\n",
       "      <td>82403.000000</td>\n",
       "      <td>82397.000000</td>\n",
       "      <td>82374.000000</td>\n",
       "      <td>82377.000000</td>\n",
       "      <td>82368.000000</td>\n",
       "      <td>82398.000000</td>\n",
       "      <td>82351.000000</td>\n",
       "      <td>77112.000000</td>\n",
       "      <td>75332.000000</td>\n",
       "      <td>47873.000000</td>\n",
       "    </tr>\n",
       "    <tr>\n",
       "      <th>unique</th>\n",
       "      <td>NaN</td>\n",
       "      <td>NaN</td>\n",
       "      <td>144</td>\n",
       "      <td>NaN</td>\n",
       "      <td>3</td>\n",
       "      <td>NaN</td>\n",
       "      <td>NaN</td>\n",
       "      <td>1</td>\n",
       "      <td>NaN</td>\n",
       "      <td>NaN</td>\n",
       "      <td>...</td>\n",
       "      <td>NaN</td>\n",
       "      <td>NaN</td>\n",
       "      <td>NaN</td>\n",
       "      <td>NaN</td>\n",
       "      <td>NaN</td>\n",
       "      <td>NaN</td>\n",
       "      <td>NaN</td>\n",
       "      <td>NaN</td>\n",
       "      <td>NaN</td>\n",
       "      <td>NaN</td>\n",
       "    </tr>\n",
       "    <tr>\n",
       "      <th>top</th>\n",
       "      <td>NaN</td>\n",
       "      <td>NaN</td>\n",
       "      <td>ONTUR GRUPO ESCOLAR</td>\n",
       "      <td>NaN</td>\n",
       "      <td>CUENCA</td>\n",
       "      <td>NaN</td>\n",
       "      <td>NaN</td>\n",
       "      <td>ETRS89</td>\n",
       "      <td>NaN</td>\n",
       "      <td>NaN</td>\n",
       "      <td>...</td>\n",
       "      <td>NaN</td>\n",
       "      <td>NaN</td>\n",
       "      <td>NaN</td>\n",
       "      <td>NaN</td>\n",
       "      <td>NaN</td>\n",
       "      <td>NaN</td>\n",
       "      <td>NaN</td>\n",
       "      <td>NaN</td>\n",
       "      <td>NaN</td>\n",
       "      <td>NaN</td>\n",
       "    </tr>\n",
       "    <tr>\n",
       "      <th>freq</th>\n",
       "      <td>NaN</td>\n",
       "      <td>NaN</td>\n",
       "      <td>1124</td>\n",
       "      <td>NaN</td>\n",
       "      <td>41661</td>\n",
       "      <td>NaN</td>\n",
       "      <td>NaN</td>\n",
       "      <td>82732</td>\n",
       "      <td>NaN</td>\n",
       "      <td>NaN</td>\n",
       "      <td>...</td>\n",
       "      <td>NaN</td>\n",
       "      <td>NaN</td>\n",
       "      <td>NaN</td>\n",
       "      <td>NaN</td>\n",
       "      <td>NaN</td>\n",
       "      <td>NaN</td>\n",
       "      <td>NaN</td>\n",
       "      <td>NaN</td>\n",
       "      <td>NaN</td>\n",
       "      <td>NaN</td>\n",
       "    </tr>\n",
       "    <tr>\n",
       "      <th>mean</th>\n",
       "      <td>1984.692284</td>\n",
       "      <td>6.479367</td>\n",
       "      <td>NaN</td>\n",
       "      <td>988.529916</td>\n",
       "      <td>NaN</td>\n",
       "      <td>154242.784219</td>\n",
       "      <td>395487.459447</td>\n",
       "      <td>NaN</td>\n",
       "      <td>12.227747</td>\n",
       "      <td>15.139965</td>\n",
       "      <td>...</td>\n",
       "      <td>14.818211</td>\n",
       "      <td>12.976201</td>\n",
       "      <td>13.054617</td>\n",
       "      <td>13.918691</td>\n",
       "      <td>13.160014</td>\n",
       "      <td>15.235188</td>\n",
       "      <td>16.744083</td>\n",
       "      <td>16.155475</td>\n",
       "      <td>14.283492</td>\n",
       "      <td>14.791323</td>\n",
       "    </tr>\n",
       "    <tr>\n",
       "      <th>std</th>\n",
       "      <td>21.450645</td>\n",
       "      <td>3.454660</td>\n",
       "      <td>NaN</td>\n",
       "      <td>242.295165</td>\n",
       "      <td>NaN</td>\n",
       "      <td>58286.888399</td>\n",
       "      <td>7251.467824</td>\n",
       "      <td>NaN</td>\n",
       "      <td>45.468356</td>\n",
       "      <td>50.736757</td>\n",
       "      <td>...</td>\n",
       "      <td>51.905483</td>\n",
       "      <td>47.893030</td>\n",
       "      <td>47.416207</td>\n",
       "      <td>49.597009</td>\n",
       "      <td>45.637562</td>\n",
       "      <td>52.003338</td>\n",
       "      <td>55.761471</td>\n",
       "      <td>53.634729</td>\n",
       "      <td>51.017687</td>\n",
       "      <td>52.275781</td>\n",
       "    </tr>\n",
       "    <tr>\n",
       "      <th>min</th>\n",
       "      <td>1912.000000</td>\n",
       "      <td>1.000000</td>\n",
       "      <td>NaN</td>\n",
       "      <td>397.000000</td>\n",
       "      <td>NaN</td>\n",
       "      <td>8471.000000</td>\n",
       "      <td>380516.000000</td>\n",
       "      <td>NaN</td>\n",
       "      <td>-4.000000</td>\n",
       "      <td>-4.000000</td>\n",
       "      <td>...</td>\n",
       "      <td>-4.000000</td>\n",
       "      <td>-4.000000</td>\n",
       "      <td>-4.000000</td>\n",
       "      <td>-4.000000</td>\n",
       "      <td>-4.000000</td>\n",
       "      <td>-4.000000</td>\n",
       "      <td>-4.000000</td>\n",
       "      <td>-4.000000</td>\n",
       "      <td>-4.000000</td>\n",
       "      <td>-3.000000</td>\n",
       "    </tr>\n",
       "    <tr>\n",
       "      <th>25%</th>\n",
       "      <td>1970.000000</td>\n",
       "      <td>3.000000</td>\n",
       "      <td>NaN</td>\n",
       "      <td>831.000000</td>\n",
       "      <td>NaN</td>\n",
       "      <td>125212.000000</td>\n",
       "      <td>391926.000000</td>\n",
       "      <td>NaN</td>\n",
       "      <td>0.000000</td>\n",
       "      <td>0.000000</td>\n",
       "      <td>...</td>\n",
       "      <td>0.000000</td>\n",
       "      <td>0.000000</td>\n",
       "      <td>0.000000</td>\n",
       "      <td>0.000000</td>\n",
       "      <td>0.000000</td>\n",
       "      <td>0.000000</td>\n",
       "      <td>0.000000</td>\n",
       "      <td>0.000000</td>\n",
       "      <td>0.000000</td>\n",
       "      <td>0.000000</td>\n",
       "    </tr>\n",
       "    <tr>\n",
       "      <th>50%</th>\n",
       "      <td>1987.000000</td>\n",
       "      <td>6.000000</td>\n",
       "      <td>NaN</td>\n",
       "      <td>959.000000</td>\n",
       "      <td>NaN</td>\n",
       "      <td>151112.000000</td>\n",
       "      <td>395846.000000</td>\n",
       "      <td>NaN</td>\n",
       "      <td>0.000000</td>\n",
       "      <td>0.000000</td>\n",
       "      <td>...</td>\n",
       "      <td>0.000000</td>\n",
       "      <td>0.000000</td>\n",
       "      <td>0.000000</td>\n",
       "      <td>0.000000</td>\n",
       "      <td>0.000000</td>\n",
       "      <td>0.000000</td>\n",
       "      <td>0.000000</td>\n",
       "      <td>0.000000</td>\n",
       "      <td>0.000000</td>\n",
       "      <td>0.000000</td>\n",
       "    </tr>\n",
       "    <tr>\n",
       "      <th>75%</th>\n",
       "      <td>2002.000000</td>\n",
       "      <td>9.000000</td>\n",
       "      <td>NaN</td>\n",
       "      <td>1150.000000</td>\n",
       "      <td>NaN</td>\n",
       "      <td>212262.000000</td>\n",
       "      <td>401555.000000</td>\n",
       "      <td>NaN</td>\n",
       "      <td>0.000000</td>\n",
       "      <td>0.000000</td>\n",
       "      <td>...</td>\n",
       "      <td>0.000000</td>\n",
       "      <td>0.000000</td>\n",
       "      <td>0.000000</td>\n",
       "      <td>0.000000</td>\n",
       "      <td>0.000000</td>\n",
       "      <td>0.000000</td>\n",
       "      <td>0.000000</td>\n",
       "      <td>0.000000</td>\n",
       "      <td>0.000000</td>\n",
       "      <td>0.000000</td>\n",
       "    </tr>\n",
       "    <tr>\n",
       "      <th>max</th>\n",
       "      <td>2019.000000</td>\n",
       "      <td>12.000000</td>\n",
       "      <td>NaN</td>\n",
       "      <td>1955.000000</td>\n",
       "      <td>NaN</td>\n",
       "      <td>232312.000000</td>\n",
       "      <td>405903.000000</td>\n",
       "      <td>NaN</td>\n",
       "      <td>1130.000000</td>\n",
       "      <td>1830.000000</td>\n",
       "      <td>...</td>\n",
       "      <td>2250.000000</td>\n",
       "      <td>2010.000000</td>\n",
       "      <td>2638.000000</td>\n",
       "      <td>1911.000000</td>\n",
       "      <td>2180.000000</td>\n",
       "      <td>1048.000000</td>\n",
       "      <td>1100.000000</td>\n",
       "      <td>1470.000000</td>\n",
       "      <td>2000.000000</td>\n",
       "      <td>1450.000000</td>\n",
       "    </tr>\n",
       "  </tbody>\n",
       "</table>\n",
       "<p>11 rows × 39 columns</p>\n",
       "</div>"
      ],
      "text/plain": [
       "                 AÑO           MES               NOMBRE       ALTITUD  \\\n",
       "count   82732.000000  82732.000000                82732  82732.000000   \n",
       "unique           NaN           NaN                  144           NaN   \n",
       "top              NaN           NaN  ONTUR GRUPO ESCOLAR           NaN   \n",
       "freq             NaN           NaN                 1124           NaN   \n",
       "mean     1984.692284      6.479367                  NaN    988.529916   \n",
       "std        21.450645      3.454660                  NaN    242.295165   \n",
       "min      1912.000000      1.000000                  NaN    397.000000   \n",
       "25%      1970.000000      3.000000                  NaN    831.000000   \n",
       "50%      1987.000000      6.000000                  NaN    959.000000   \n",
       "75%      2002.000000      9.000000                  NaN   1150.000000   \n",
       "max      2019.000000     12.000000                  NaN   1955.000000   \n",
       "\n",
       "       NOM_PROV       LONGITUD        LATITUD   DATUM            P1  \\\n",
       "count     82732   82732.000000   82732.000000   82732  82350.000000   \n",
       "unique        3            NaN            NaN       1           NaN   \n",
       "top      CUENCA            NaN            NaN  ETRS89           NaN   \n",
       "freq      41661            NaN            NaN   82732           NaN   \n",
       "mean        NaN  154242.784219  395487.459447     NaN     12.227747   \n",
       "std         NaN   58286.888399    7251.467824     NaN     45.468356   \n",
       "min         NaN    8471.000000  380516.000000     NaN     -4.000000   \n",
       "25%         NaN  125212.000000  391926.000000     NaN      0.000000   \n",
       "50%         NaN  151112.000000  395846.000000     NaN      0.000000   \n",
       "75%         NaN  212262.000000  401555.000000     NaN      0.000000   \n",
       "max         NaN  232312.000000  405903.000000     NaN   1130.000000   \n",
       "\n",
       "                  P2  ...           P22           P23           P24  \\\n",
       "count   82385.000000  ...  82403.000000  82397.000000  82374.000000   \n",
       "unique           NaN  ...           NaN           NaN           NaN   \n",
       "top              NaN  ...           NaN           NaN           NaN   \n",
       "freq             NaN  ...           NaN           NaN           NaN   \n",
       "mean       15.139965  ...     14.818211     12.976201     13.054617   \n",
       "std        50.736757  ...     51.905483     47.893030     47.416207   \n",
       "min        -4.000000  ...     -4.000000     -4.000000     -4.000000   \n",
       "25%         0.000000  ...      0.000000      0.000000      0.000000   \n",
       "50%         0.000000  ...      0.000000      0.000000      0.000000   \n",
       "75%         0.000000  ...      0.000000      0.000000      0.000000   \n",
       "max      1830.000000  ...   2250.000000   2010.000000   2638.000000   \n",
       "\n",
       "                 P25           P26           P27           P28           P29  \\\n",
       "count   82377.000000  82368.000000  82398.000000  82351.000000  77112.000000   \n",
       "unique           NaN           NaN           NaN           NaN           NaN   \n",
       "top              NaN           NaN           NaN           NaN           NaN   \n",
       "freq             NaN           NaN           NaN           NaN           NaN   \n",
       "mean       13.918691     13.160014     15.235188     16.744083     16.155475   \n",
       "std        49.597009     45.637562     52.003338     55.761471     53.634729   \n",
       "min        -4.000000     -4.000000     -4.000000     -4.000000     -4.000000   \n",
       "25%         0.000000      0.000000      0.000000      0.000000      0.000000   \n",
       "50%         0.000000      0.000000      0.000000      0.000000      0.000000   \n",
       "75%         0.000000      0.000000      0.000000      0.000000      0.000000   \n",
       "max      1911.000000   2180.000000   1048.000000   1100.000000   1470.000000   \n",
       "\n",
       "                 P30           P31  \n",
       "count   75332.000000  47873.000000  \n",
       "unique           NaN           NaN  \n",
       "top              NaN           NaN  \n",
       "freq             NaN           NaN  \n",
       "mean       14.283492     14.791323  \n",
       "std        51.017687     52.275781  \n",
       "min        -4.000000     -3.000000  \n",
       "25%         0.000000      0.000000  \n",
       "50%         0.000000      0.000000  \n",
       "75%         0.000000      0.000000  \n",
       "max      2000.000000   1450.000000  \n",
       "\n",
       "[11 rows x 39 columns]"
      ]
     },
     "execution_count": 11,
     "metadata": {},
     "output_type": "execute_result"
    }
   ],
   "source": [
    "pp2.describe(include='all')   "
   ]
  },
  {
   "cell_type": "markdown",
   "metadata": {},
   "source": [
    "# Pre processing"
   ]
  },
  {
   "cell_type": "markdown",
   "metadata": {},
   "source": [
    "## Cambio formato datos PP2"
   ]
  },
  {
   "cell_type": "code",
   "execution_count": 14,
   "metadata": {
    "ExecuteTime": {
     "end_time": "2019-07-22T08:38:39.543467Z",
     "start_time": "2019-07-22T08:38:39.420268Z"
    }
   },
   "outputs": [
    {
     "data": {
      "text/plain": [
       "Index(['3010', '3042', '3051', '3058', '3059', '3070', '3076', '4002', '4070',\n",
       "       '4070Y',\n",
       "       ...\n",
       "       '9380', '9386A', '9531X', '9531Y', '9556', '9556U', '9557B', '9559',\n",
       "       '9927', '9935A'],\n",
       "      dtype='object', name='INDICATIVO', length=148)"
      ]
     },
     "execution_count": 14,
     "metadata": {},
     "output_type": "execute_result"
    }
   ],
   "source": [
    "pp2.index.unique()"
   ]
  },
  {
   "cell_type": "code",
   "execution_count": null,
   "metadata": {},
   "outputs": [],
   "source": []
  },
  {
   "cell_type": "markdown",
   "metadata": {},
   "source": [
    "## Datos de las estaciones"
   ]
  },
  {
   "cell_type": "markdown",
   "metadata": {
    "heading_collapsed": true
   },
   "source": [
    "### Datos duplicados"
   ]
  },
  {
   "cell_type": "code",
   "execution_count": 8,
   "metadata": {
    "ExecuteTime": {
     "end_time": "2019-06-13T06:46:01.896253Z",
     "start_time": "2019-06-13T06:46:01.739338Z"
    },
    "hidden": true,
    "hide_input": false,
    "scrolled": true
   },
   "outputs": [
    {
     "name": "stdout",
     "output_type": "stream",
     "text": [
      "Duplicate Rows except first occurrence based on geographic coordinates are :\n",
      "260                            XABIA\n",
      "263    XABIA, AJUNTAMENT, AUTOMATICA\n",
      "306                       GANDIA, HE\n",
      "307                           GANDIA\n",
      "507            BUNYOL, C.P. SAN LUIS\n",
      "513                      CARLET, SMN\n",
      "552              ALDAIA, HORT NOTARI\n",
      "613              CHELVA, EL CALVARIO\n",
      "666                 MASSAMAGRELL, HS\n",
      "683             SEGORBE, LA ARTELINA\n",
      "711                  NULES, PIUS XII\n",
      "723        VILA-REAL, CENTRO C. AGR.\n",
      "832          CASTELLFORT, AUTOMATICA\n",
      "Name: Estacion, dtype: object\n"
     ]
    }
   ],
   "source": [
    "\"\"\"\n",
    "Estaciones con el nombre repetido, con el Código repetido o con las coordenadas geográficas repetidas\n",
    "\"\"\"\n",
    "# duplicateRowsDF = estID.Estacion[estID.duplicated(['Estacion'])==True]\n",
    "# duplicateRowsDF = estID.Estacion[estID.duplicated(['CodigoEst'])==True]\n",
    "\n",
    "duplicateRowsDF = estID.Estacion[estID.duplicated(['Altitud','Xutm','Yutm'])==True] \n",
    "print(\"Duplicate Rows except first occurrence based on geographic coordinates are :\")\n",
    "print(duplicateRowsDF)"
   ]
  },
  {
   "cell_type": "markdown",
   "metadata": {},
   "source": [
    "### Unir DB estaciones"
   ]
  },
  {
   "cell_type": "code",
   "execution_count": 7,
   "metadata": {
    "ExecuteTime": {
     "end_time": "2019-06-14T12:14:24.888235Z",
     "start_time": "2019-06-14T12:14:24.808449Z"
    }
   },
   "outputs": [
    {
     "data": {
      "text/html": [
       "<div>\n",
       "<style scoped>\n",
       "    .dataframe tbody tr th:only-of-type {\n",
       "        vertical-align: middle;\n",
       "    }\n",
       "\n",
       "    .dataframe tbody tr th {\n",
       "        vertical-align: top;\n",
       "    }\n",
       "\n",
       "    .dataframe thead th {\n",
       "        text-align: right;\n",
       "    }\n",
       "</style>\n",
       "<table border=\"1\" class=\"dataframe\">\n",
       "  <thead>\n",
       "    <tr style=\"text-align: right;\">\n",
       "      <th></th>\n",
       "      <th>CodigoEst</th>\n",
       "      <th>Estacion</th>\n",
       "      <th>Tipo</th>\n",
       "      <th>Longitud</th>\n",
       "      <th>Latitud</th>\n",
       "      <th>Altitud</th>\n",
       "      <th>Xutm</th>\n",
       "      <th>Yutm</th>\n",
       "      <th>Provincia</th>\n",
       "      <th>Umbral_20_40_km_costa</th>\n",
       "      <th>ESTACIÓN</th>\n",
       "      <th>Long</th>\n",
       "      <th>Lat</th>\n",
       "      <th>Altura</th>\n",
       "      <th>Prov</th>\n",
       "      <th>Cobertura Temperatura</th>\n",
       "      <th>Cobertura Precipitación</th>\n",
       "      <th>Temp</th>\n",
       "      <th>Pluv</th>\n",
       "    </tr>\n",
       "  </thead>\n",
       "  <tbody>\n",
       "    <tr>\n",
       "      <th>0</th>\n",
       "      <td>1387</td>\n",
       "      <td>A CORUNYA (ESTACION COMPLETA)</td>\n",
       "      <td>INMman</td>\n",
       "      <td>#¡CAMPO!</td>\n",
       "      <td>43.37</td>\n",
       "      <td>58</td>\n",
       "      <td>59149</td>\n",
       "      <td>4791283</td>\n",
       "      <td>AC</td>\n",
       "      <td>1</td>\n",
       "      <td>A CORUNYA (ESTACION COMPLETA)</td>\n",
       "      <td>-8.42</td>\n",
       "      <td>43.37</td>\n",
       "      <td>58</td>\n",
       "      <td>AC</td>\n",
       "      <td>&lt;-&gt;</td>\n",
       "      <td>1930-10-01&lt;-&gt;2010-10-31</td>\n",
       "      <td>NO</td>\n",
       "      <td>SI</td>\n",
       "    </tr>\n",
       "    <tr>\n",
       "      <th>1</th>\n",
       "      <td>8359</td>\n",
       "      <td>ABABUJ</td>\n",
       "      <td>INMman</td>\n",
       "      <td>#¡CAMPO!</td>\n",
       "      <td>40.56</td>\n",
       "      <td>1368</td>\n",
       "      <td>686597</td>\n",
       "      <td>4491216</td>\n",
       "      <td>TE</td>\n",
       "      <td>3</td>\n",
       "      <td>ABABUJ</td>\n",
       "      <td>-1.28</td>\n",
       "      <td>40.56</td>\n",
       "      <td>1368</td>\n",
       "      <td>TE</td>\n",
       "      <td>&lt;-&gt;</td>\n",
       "      <td>&lt;-&gt;</td>\n",
       "      <td>NO</td>\n",
       "      <td>NO</td>\n",
       "    </tr>\n",
       "    <tr>\n",
       "      <th>2</th>\n",
       "      <td>7250</td>\n",
       "      <td>ABANILLA, CHS</td>\n",
       "      <td>INMman</td>\n",
       "      <td>#¡CAMPO!</td>\n",
       "      <td>38.20</td>\n",
       "      <td>222</td>\n",
       "      <td>672506</td>\n",
       "      <td>4229911</td>\n",
       "      <td>MU</td>\n",
       "      <td>2</td>\n",
       "      <td>ABANILLA, CHS</td>\n",
       "      <td>-1.03</td>\n",
       "      <td>38.20</td>\n",
       "      <td>222</td>\n",
       "      <td>MU</td>\n",
       "      <td>1958-01-01&lt;-&gt;2010-10-31</td>\n",
       "      <td>1958-01-01&lt;-&gt;2010-10-31</td>\n",
       "      <td>SI</td>\n",
       "      <td>SI</td>\n",
       "    </tr>\n",
       "    <tr>\n",
       "      <th>3</th>\n",
       "      <td>7150</td>\n",
       "      <td>ABARAN (SIERRA DE LA PILA)</td>\n",
       "      <td>INMman</td>\n",
       "      <td>#¡CAMPO!</td>\n",
       "      <td>38.25</td>\n",
       "      <td>300</td>\n",
       "      <td>646400</td>\n",
       "      <td>4235009</td>\n",
       "      <td>MU</td>\n",
       "      <td>3</td>\n",
       "      <td>ABARAN (SIERRA DE LA PILA)</td>\n",
       "      <td>-1.32</td>\n",
       "      <td>38.25</td>\n",
       "      <td>300</td>\n",
       "      <td>MU</td>\n",
       "      <td>2007-10-01&lt;-&gt;2010-10-31</td>\n",
       "      <td>1961-04-01&lt;-&gt;2010-10-31</td>\n",
       "      <td>SI</td>\n",
       "      <td>SI</td>\n",
       "    </tr>\n",
       "    <tr>\n",
       "      <th>4</th>\n",
       "      <td>7151</td>\n",
       "      <td>ABARAN (SIERRA DEL ORO)</td>\n",
       "      <td>INMman</td>\n",
       "      <td>#¡CAMPO!</td>\n",
       "      <td>38.18</td>\n",
       "      <td>400</td>\n",
       "      <td>638133</td>\n",
       "      <td>4227865</td>\n",
       "      <td>MU</td>\n",
       "      <td>3</td>\n",
       "      <td>ABARAN (SIERRA DEL ORO)</td>\n",
       "      <td>-1.42</td>\n",
       "      <td>38.18</td>\n",
       "      <td>400</td>\n",
       "      <td>MU</td>\n",
       "      <td>2007-10-01&lt;-&gt;2010-10-31</td>\n",
       "      <td>1957-04-01&lt;-&gt;2010-10-31</td>\n",
       "      <td>SI</td>\n",
       "      <td>SI</td>\n",
       "    </tr>\n",
       "  </tbody>\n",
       "</table>\n",
       "</div>"
      ],
      "text/plain": [
       "  CodigoEst                       Estacion    Tipo  Longitud  Latitud  \\\n",
       "0      1387  A CORUNYA (ESTACION COMPLETA)  INMman  #¡CAMPO!    43.37   \n",
       "1      8359                         ABABUJ  INMman  #¡CAMPO!    40.56   \n",
       "2      7250                  ABANILLA, CHS  INMman  #¡CAMPO!    38.20   \n",
       "3      7150     ABARAN (SIERRA DE LA PILA)  INMman  #¡CAMPO!    38.25   \n",
       "4      7151        ABARAN (SIERRA DEL ORO)  INMman  #¡CAMPO!    38.18   \n",
       "\n",
       "   Altitud    Xutm     Yutm Provincia  Umbral_20_40_km_costa  \\\n",
       "0       58   59149  4791283        AC                      1   \n",
       "1     1368  686597  4491216        TE                      3   \n",
       "2      222  672506  4229911        MU                      2   \n",
       "3      300  646400  4235009        MU                      3   \n",
       "4      400  638133  4227865        MU                      3   \n",
       "\n",
       "                        ESTACIÓN  Long    Lat  Altura Prov  \\\n",
       "0  A CORUNYA (ESTACION COMPLETA) -8.42  43.37      58   AC   \n",
       "1                         ABABUJ -1.28  40.56    1368   TE   \n",
       "2                  ABANILLA, CHS -1.03  38.20     222   MU   \n",
       "3     ABARAN (SIERRA DE LA PILA) -1.32  38.25     300   MU   \n",
       "4        ABARAN (SIERRA DEL ORO) -1.42  38.18     400   MU   \n",
       "\n",
       "     Cobertura Temperatura  Cobertura Precipitación Temp Pluv  \n",
       "0                      <->  1930-10-01<->2010-10-31   NO   SI  \n",
       "1                      <->                      <->   NO   NO  \n",
       "2  1958-01-01<->2010-10-31  1958-01-01<->2010-10-31   SI   SI  \n",
       "3  2007-10-01<->2010-10-31  1961-04-01<->2010-10-31   SI   SI  \n",
       "4  2007-10-01<->2010-10-31  1957-04-01<->2010-10-31   SI   SI  "
      ]
     },
     "execution_count": 7,
     "metadata": {},
     "output_type": "execute_result"
    }
   ],
   "source": [
    "estIDabc=estID.sort_values('Estacion').reset_index(drop=True)                              # ordena estaciones alfabéticamente\n",
    "\n",
    "estRang = estRang.rename(columns={'Longitud': 'Long', 'Latitud': 'Lat', 'Provincia':'Prov'}) # evita columnas con mismo nombre\n",
    "estaciones = estIDabc.join(estRang)                                                            # concatena DFs\n",
    "\n",
    "estaciones.head()"
   ]
  },
  {
   "cell_type": "markdown",
   "metadata": {},
   "source": [
    "## Merge DB"
   ]
  },
  {
   "cell_type": "code",
   "execution_count": 8,
   "metadata": {
    "ExecuteTime": {
     "end_time": "2019-06-14T12:17:17.130385Z",
     "start_time": "2019-06-14T12:17:06.503117Z"
    },
    "collapsed": true
   },
   "outputs": [
    {
     "data": {
      "text/html": [
       "<div>\n",
       "<style scoped>\n",
       "    .dataframe tbody tr th:only-of-type {\n",
       "        vertical-align: middle;\n",
       "    }\n",
       "\n",
       "    .dataframe tbody tr th {\n",
       "        vertical-align: top;\n",
       "    }\n",
       "\n",
       "    .dataframe thead th {\n",
       "        text-align: right;\n",
       "    }\n",
       "</style>\n",
       "<table border=\"1\" class=\"dataframe\">\n",
       "  <thead>\n",
       "    <tr style=\"text-align: right;\">\n",
       "      <th></th>\n",
       "      <th>CodigoEst</th>\n",
       "      <th>Fecha</th>\n",
       "      <th>Precipitacion</th>\n",
       "      <th>ValidPP</th>\n",
       "      <th>Estacion</th>\n",
       "      <th>Tipo</th>\n",
       "      <th>Xutm</th>\n",
       "      <th>Yutm</th>\n",
       "      <th>Altura</th>\n",
       "      <th>Provincia</th>\n",
       "      <th>Umbral_20_40_km_costa</th>\n",
       "    </tr>\n",
       "  </thead>\n",
       "  <tbody>\n",
       "    <tr>\n",
       "      <th>count</th>\n",
       "      <td>9895905</td>\n",
       "      <td>9895905</td>\n",
       "      <td>9.895905e+06</td>\n",
       "      <td>9895905</td>\n",
       "      <td>9895905</td>\n",
       "      <td>9895905</td>\n",
       "      <td>9.895905e+06</td>\n",
       "      <td>9.895905e+06</td>\n",
       "      <td>9.895905e+06</td>\n",
       "      <td>9895905</td>\n",
       "      <td>9.895905e+06</td>\n",
       "    </tr>\n",
       "    <tr>\n",
       "      <th>unique</th>\n",
       "      <td>840</td>\n",
       "      <td>41641</td>\n",
       "      <td>NaN</td>\n",
       "      <td>3</td>\n",
       "      <td>835</td>\n",
       "      <td>4</td>\n",
       "      <td>NaN</td>\n",
       "      <td>NaN</td>\n",
       "      <td>NaN</td>\n",
       "      <td>29</td>\n",
       "      <td>NaN</td>\n",
       "    </tr>\n",
       "    <tr>\n",
       "      <th>top</th>\n",
       "      <td>9981A</td>\n",
       "      <td>1994-04-23</td>\n",
       "      <td>NaN</td>\n",
       "      <td>S</td>\n",
       "      <td>TORTOSA, OBSER. DEL EBRO</td>\n",
       "      <td>INMman</td>\n",
       "      <td>NaN</td>\n",
       "      <td>NaN</td>\n",
       "      <td>NaN</td>\n",
       "      <td>V</td>\n",
       "      <td>NaN</td>\n",
       "    </tr>\n",
       "    <tr>\n",
       "      <th>freq</th>\n",
       "      <td>36012</td>\n",
       "      <td>507</td>\n",
       "      <td>NaN</td>\n",
       "      <td>9389160</td>\n",
       "      <td>36012</td>\n",
       "      <td>9734857</td>\n",
       "      <td>NaN</td>\n",
       "      <td>NaN</td>\n",
       "      <td>NaN</td>\n",
       "      <td>2717440</td>\n",
       "      <td>NaN</td>\n",
       "    </tr>\n",
       "    <tr>\n",
       "      <th>mean</th>\n",
       "      <td>NaN</td>\n",
       "      <td>NaN</td>\n",
       "      <td>-3.226154e+00</td>\n",
       "      <td>NaN</td>\n",
       "      <td>NaN</td>\n",
       "      <td>NaN</td>\n",
       "      <td>6.568422e+05</td>\n",
       "      <td>4.349168e+06</td>\n",
       "      <td>4.853115e+02</td>\n",
       "      <td>NaN</td>\n",
       "      <td>2.170715e+00</td>\n",
       "    </tr>\n",
       "    <tr>\n",
       "      <th>std</th>\n",
       "      <td>NaN</td>\n",
       "      <td>NaN</td>\n",
       "      <td>2.210382e+01</td>\n",
       "      <td>NaN</td>\n",
       "      <td>NaN</td>\n",
       "      <td>NaN</td>\n",
       "      <td>1.123354e+05</td>\n",
       "      <td>1.112732e+05</td>\n",
       "      <td>3.946691e+02</td>\n",
       "      <td>NaN</td>\n",
       "      <td>8.670858e-01</td>\n",
       "    </tr>\n",
       "    <tr>\n",
       "      <th>min</th>\n",
       "      <td>NaN</td>\n",
       "      <td>NaN</td>\n",
       "      <td>-9.990000e+01</td>\n",
       "      <td>NaN</td>\n",
       "      <td>NaN</td>\n",
       "      <td>NaN</td>\n",
       "      <td>3.344300e+04</td>\n",
       "      <td>4.075366e+06</td>\n",
       "      <td>1.000000e+00</td>\n",
       "      <td>NaN</td>\n",
       "      <td>1.000000e+00</td>\n",
       "    </tr>\n",
       "    <tr>\n",
       "      <th>25%</th>\n",
       "      <td>NaN</td>\n",
       "      <td>NaN</td>\n",
       "      <td>0.000000e+00</td>\n",
       "      <td>NaN</td>\n",
       "      <td>NaN</td>\n",
       "      <td>NaN</td>\n",
       "      <td>6.209690e+05</td>\n",
       "      <td>4.270236e+06</td>\n",
       "      <td>8.600000e+01</td>\n",
       "      <td>NaN</td>\n",
       "      <td>1.000000e+00</td>\n",
       "    </tr>\n",
       "    <tr>\n",
       "      <th>50%</th>\n",
       "      <td>NaN</td>\n",
       "      <td>NaN</td>\n",
       "      <td>0.000000e+00</td>\n",
       "      <td>NaN</td>\n",
       "      <td>NaN</td>\n",
       "      <td>NaN</td>\n",
       "      <td>6.913740e+05</td>\n",
       "      <td>4.343742e+06</td>\n",
       "      <td>4.190000e+02</td>\n",
       "      <td>NaN</td>\n",
       "      <td>2.000000e+00</td>\n",
       "    </tr>\n",
       "    <tr>\n",
       "      <th>75%</th>\n",
       "      <td>NaN</td>\n",
       "      <td>NaN</td>\n",
       "      <td>0.000000e+00</td>\n",
       "      <td>NaN</td>\n",
       "      <td>NaN</td>\n",
       "      <td>NaN</td>\n",
       "      <td>7.226450e+05</td>\n",
       "      <td>4.418167e+06</td>\n",
       "      <td>8.100000e+02</td>\n",
       "      <td>NaN</td>\n",
       "      <td>3.000000e+00</td>\n",
       "    </tr>\n",
       "    <tr>\n",
       "      <th>max</th>\n",
       "      <td>NaN</td>\n",
       "      <td>NaN</td>\n",
       "      <td>8.780000e+02</td>\n",
       "      <td>NaN</td>\n",
       "      <td>NaN</td>\n",
       "      <td>NaN</td>\n",
       "      <td>8.150770e+05</td>\n",
       "      <td>4.828087e+06</td>\n",
       "      <td>1.890000e+03</td>\n",
       "      <td>NaN</td>\n",
       "      <td>3.000000e+00</td>\n",
       "    </tr>\n",
       "  </tbody>\n",
       "</table>\n",
       "</div>"
      ],
      "text/plain": [
       "       CodigoEst       Fecha  Precipitacion  ValidPP  \\\n",
       "count    9895905     9895905   9.895905e+06  9895905   \n",
       "unique       840       41641            NaN        3   \n",
       "top        9981A  1994-04-23            NaN        S   \n",
       "freq       36012         507            NaN  9389160   \n",
       "mean         NaN         NaN  -3.226154e+00      NaN   \n",
       "std          NaN         NaN   2.210382e+01      NaN   \n",
       "min          NaN         NaN  -9.990000e+01      NaN   \n",
       "25%          NaN         NaN   0.000000e+00      NaN   \n",
       "50%          NaN         NaN   0.000000e+00      NaN   \n",
       "75%          NaN         NaN   0.000000e+00      NaN   \n",
       "max          NaN         NaN   8.780000e+02      NaN   \n",
       "\n",
       "                        Estacion     Tipo          Xutm          Yutm  \\\n",
       "count                    9895905  9895905  9.895905e+06  9.895905e+06   \n",
       "unique                       835        4           NaN           NaN   \n",
       "top     TORTOSA, OBSER. DEL EBRO   INMman           NaN           NaN   \n",
       "freq                       36012  9734857           NaN           NaN   \n",
       "mean                         NaN      NaN  6.568422e+05  4.349168e+06   \n",
       "std                          NaN      NaN  1.123354e+05  1.112732e+05   \n",
       "min                          NaN      NaN  3.344300e+04  4.075366e+06   \n",
       "25%                          NaN      NaN  6.209690e+05  4.270236e+06   \n",
       "50%                          NaN      NaN  6.913740e+05  4.343742e+06   \n",
       "75%                          NaN      NaN  7.226450e+05  4.418167e+06   \n",
       "max                          NaN      NaN  8.150770e+05  4.828087e+06   \n",
       "\n",
       "              Altura Provincia  Umbral_20_40_km_costa  \n",
       "count   9.895905e+06   9895905           9.895905e+06  \n",
       "unique           NaN        29                    NaN  \n",
       "top              NaN         V                    NaN  \n",
       "freq             NaN   2717440                    NaN  \n",
       "mean    4.853115e+02       NaN           2.170715e+00  \n",
       "std     3.946691e+02       NaN           8.670858e-01  \n",
       "min     1.000000e+00       NaN           1.000000e+00  \n",
       "25%     8.600000e+01       NaN           1.000000e+00  \n",
       "50%     4.190000e+02       NaN           2.000000e+00  \n",
       "75%     8.100000e+02       NaN           3.000000e+00  \n",
       "max     1.890000e+03       NaN           3.000000e+00  "
      ]
     },
     "execution_count": 8,
     "metadata": {},
     "output_type": "execute_result"
    }
   ],
   "source": [
    "# une datos de las estaciones a la DB de precipitacion\n",
    "dataPP = pd.merge(precipitacion,\n",
    "                estaciones[['Estacion','CodigoEst','Tipo','Xutm','Yutm','Altura','Provincia','Umbral_20_40_km_costa']],\n",
    "                on='CodigoEst')\n",
    "dataPP.describe(include='all')"
   ]
  },
  {
   "cell_type": "code",
   "execution_count": 13,
   "metadata": {
    "ExecuteTime": {
     "end_time": "2019-06-14T12:19:50.903018Z",
     "start_time": "2019-06-14T12:19:38.245071Z"
    }
   },
   "outputs": [],
   "source": [
    "# une las temperaturas máx y mín a la DB precipitaciones\n",
    "\n",
    "from functools import reduce\n",
    "\n",
    "data_raw = reduce(lambda x,y: pd.merge(x,y, on=['CodigoEst','Fecha'], how='outer'), [dataPP, t_max, t_min])"
   ]
  },
  {
   "cell_type": "code",
   "execution_count": 41,
   "metadata": {
    "ExecuteTime": {
     "end_time": "2019-06-14T12:35:52.389820Z",
     "start_time": "2019-06-14T12:35:42.941656Z"
    },
    "scrolled": true
   },
   "outputs": [
    {
     "data": {
      "text/html": [
       "<div>\n",
       "<style scoped>\n",
       "    .dataframe tbody tr th:only-of-type {\n",
       "        vertical-align: middle;\n",
       "    }\n",
       "\n",
       "    .dataframe tbody tr th {\n",
       "        vertical-align: top;\n",
       "    }\n",
       "\n",
       "    .dataframe thead th {\n",
       "        text-align: right;\n",
       "    }\n",
       "</style>\n",
       "<table border=\"1\" class=\"dataframe\">\n",
       "  <thead>\n",
       "    <tr style=\"text-align: right;\">\n",
       "      <th></th>\n",
       "      <th>CodigoEst</th>\n",
       "      <th>Fecha</th>\n",
       "      <th>Precipitacion</th>\n",
       "      <th>ValidPP</th>\n",
       "      <th>Estacion</th>\n",
       "      <th>Tipo</th>\n",
       "      <th>Xutm</th>\n",
       "      <th>Yutm</th>\n",
       "      <th>Altura</th>\n",
       "      <th>Provincia</th>\n",
       "      <th>Umbral_20_40_km_costa</th>\n",
       "      <th>Tmaxima</th>\n",
       "      <th>ValidTmax</th>\n",
       "      <th>Tminima</th>\n",
       "      <th>ValidTmin</th>\n",
       "    </tr>\n",
       "  </thead>\n",
       "  <tbody>\n",
       "    <tr>\n",
       "      <th>count</th>\n",
       "      <td>10046338</td>\n",
       "      <td>10046338</td>\n",
       "      <td>9.895905e+06</td>\n",
       "      <td>9895905</td>\n",
       "      <td>9895905</td>\n",
       "      <td>9895905</td>\n",
       "      <td>9.895905e+06</td>\n",
       "      <td>9.895905e+06</td>\n",
       "      <td>9.895905e+06</td>\n",
       "      <td>9895905</td>\n",
       "      <td>9.895905e+06</td>\n",
       "      <td>3.508029e+06</td>\n",
       "      <td>3508029</td>\n",
       "      <td>3.507394e+06</td>\n",
       "      <td>3507394</td>\n",
       "    </tr>\n",
       "    <tr>\n",
       "      <th>unique</th>\n",
       "      <td>844</td>\n",
       "      <td>47603</td>\n",
       "      <td>NaN</td>\n",
       "      <td>3</td>\n",
       "      <td>835</td>\n",
       "      <td>4</td>\n",
       "      <td>NaN</td>\n",
       "      <td>NaN</td>\n",
       "      <td>NaN</td>\n",
       "      <td>29</td>\n",
       "      <td>NaN</td>\n",
       "      <td>NaN</td>\n",
       "      <td>2</td>\n",
       "      <td>NaN</td>\n",
       "      <td>2</td>\n",
       "    </tr>\n",
       "    <tr>\n",
       "      <th>top</th>\n",
       "      <td>3195</td>\n",
       "      <td>1994-09-16</td>\n",
       "      <td>NaN</td>\n",
       "      <td>S</td>\n",
       "      <td>TORTOSA, OBSER. DEL EBRO</td>\n",
       "      <td>INMman</td>\n",
       "      <td>NaN</td>\n",
       "      <td>NaN</td>\n",
       "      <td>NaN</td>\n",
       "      <td>V</td>\n",
       "      <td>NaN</td>\n",
       "      <td>NaN</td>\n",
       "      <td>S</td>\n",
       "      <td>NaN</td>\n",
       "      <td>S</td>\n",
       "    </tr>\n",
       "    <tr>\n",
       "      <th>freq</th>\n",
       "      <td>42958</td>\n",
       "      <td>511</td>\n",
       "      <td>NaN</td>\n",
       "      <td>9389160</td>\n",
       "      <td>36012</td>\n",
       "      <td>9734857</td>\n",
       "      <td>NaN</td>\n",
       "      <td>NaN</td>\n",
       "      <td>NaN</td>\n",
       "      <td>2717440</td>\n",
       "      <td>NaN</td>\n",
       "      <td>NaN</td>\n",
       "      <td>3293416</td>\n",
       "      <td>NaN</td>\n",
       "      <td>3306807</td>\n",
       "    </tr>\n",
       "    <tr>\n",
       "      <th>mean</th>\n",
       "      <td>NaN</td>\n",
       "      <td>NaN</td>\n",
       "      <td>-3.226154e+00</td>\n",
       "      <td>NaN</td>\n",
       "      <td>NaN</td>\n",
       "      <td>NaN</td>\n",
       "      <td>6.568422e+05</td>\n",
       "      <td>4.349168e+06</td>\n",
       "      <td>4.853115e+02</td>\n",
       "      <td>NaN</td>\n",
       "      <td>2.170715e+00</td>\n",
       "      <td>2.059618e+01</td>\n",
       "      <td>NaN</td>\n",
       "      <td>9.963253e+00</td>\n",
       "      <td>NaN</td>\n",
       "    </tr>\n",
       "    <tr>\n",
       "      <th>std</th>\n",
       "      <td>NaN</td>\n",
       "      <td>NaN</td>\n",
       "      <td>2.210382e+01</td>\n",
       "      <td>NaN</td>\n",
       "      <td>NaN</td>\n",
       "      <td>NaN</td>\n",
       "      <td>1.123354e+05</td>\n",
       "      <td>1.112732e+05</td>\n",
       "      <td>3.946691e+02</td>\n",
       "      <td>NaN</td>\n",
       "      <td>8.670858e-01</td>\n",
       "      <td>8.680685e+00</td>\n",
       "      <td>NaN</td>\n",
       "      <td>6.859695e+00</td>\n",
       "      <td>NaN</td>\n",
       "    </tr>\n",
       "    <tr>\n",
       "      <th>min</th>\n",
       "      <td>NaN</td>\n",
       "      <td>NaN</td>\n",
       "      <td>-9.990000e+01</td>\n",
       "      <td>NaN</td>\n",
       "      <td>NaN</td>\n",
       "      <td>NaN</td>\n",
       "      <td>3.344300e+04</td>\n",
       "      <td>4.075366e+06</td>\n",
       "      <td>1.000000e+00</td>\n",
       "      <td>NaN</td>\n",
       "      <td>1.000000e+00</td>\n",
       "      <td>-9.900000e+01</td>\n",
       "      <td>NaN</td>\n",
       "      <td>-9.900000e+01</td>\n",
       "      <td>NaN</td>\n",
       "    </tr>\n",
       "    <tr>\n",
       "      <th>25%</th>\n",
       "      <td>NaN</td>\n",
       "      <td>NaN</td>\n",
       "      <td>0.000000e+00</td>\n",
       "      <td>NaN</td>\n",
       "      <td>NaN</td>\n",
       "      <td>NaN</td>\n",
       "      <td>6.209690e+05</td>\n",
       "      <td>4.270236e+06</td>\n",
       "      <td>8.600000e+01</td>\n",
       "      <td>NaN</td>\n",
       "      <td>1.000000e+00</td>\n",
       "      <td>1.500000e+01</td>\n",
       "      <td>NaN</td>\n",
       "      <td>5.000000e+00</td>\n",
       "      <td>NaN</td>\n",
       "    </tr>\n",
       "    <tr>\n",
       "      <th>50%</th>\n",
       "      <td>NaN</td>\n",
       "      <td>NaN</td>\n",
       "      <td>0.000000e+00</td>\n",
       "      <td>NaN</td>\n",
       "      <td>NaN</td>\n",
       "      <td>NaN</td>\n",
       "      <td>6.913740e+05</td>\n",
       "      <td>4.343742e+06</td>\n",
       "      <td>4.190000e+02</td>\n",
       "      <td>NaN</td>\n",
       "      <td>2.000000e+00</td>\n",
       "      <td>2.100000e+01</td>\n",
       "      <td>NaN</td>\n",
       "      <td>1.000000e+01</td>\n",
       "      <td>NaN</td>\n",
       "    </tr>\n",
       "    <tr>\n",
       "      <th>75%</th>\n",
       "      <td>NaN</td>\n",
       "      <td>NaN</td>\n",
       "      <td>0.000000e+00</td>\n",
       "      <td>NaN</td>\n",
       "      <td>NaN</td>\n",
       "      <td>NaN</td>\n",
       "      <td>7.226450e+05</td>\n",
       "      <td>4.418167e+06</td>\n",
       "      <td>8.100000e+02</td>\n",
       "      <td>NaN</td>\n",
       "      <td>3.000000e+00</td>\n",
       "      <td>2.710000e+01</td>\n",
       "      <td>NaN</td>\n",
       "      <td>1.500000e+01</td>\n",
       "      <td>NaN</td>\n",
       "    </tr>\n",
       "    <tr>\n",
       "      <th>max</th>\n",
       "      <td>NaN</td>\n",
       "      <td>NaN</td>\n",
       "      <td>8.780000e+02</td>\n",
       "      <td>NaN</td>\n",
       "      <td>NaN</td>\n",
       "      <td>NaN</td>\n",
       "      <td>8.150770e+05</td>\n",
       "      <td>4.828087e+06</td>\n",
       "      <td>1.890000e+03</td>\n",
       "      <td>NaN</td>\n",
       "      <td>3.000000e+00</td>\n",
       "      <td>5.270000e+01</td>\n",
       "      <td>NaN</td>\n",
       "      <td>3.900000e+01</td>\n",
       "      <td>NaN</td>\n",
       "    </tr>\n",
       "  </tbody>\n",
       "</table>\n",
       "</div>"
      ],
      "text/plain": [
       "       CodigoEst       Fecha  Precipitacion  ValidPP  \\\n",
       "count   10046338    10046338   9.895905e+06  9895905   \n",
       "unique       844       47603            NaN        3   \n",
       "top         3195  1994-09-16            NaN        S   \n",
       "freq       42958         511            NaN  9389160   \n",
       "mean         NaN         NaN  -3.226154e+00      NaN   \n",
       "std          NaN         NaN   2.210382e+01      NaN   \n",
       "min          NaN         NaN  -9.990000e+01      NaN   \n",
       "25%          NaN         NaN   0.000000e+00      NaN   \n",
       "50%          NaN         NaN   0.000000e+00      NaN   \n",
       "75%          NaN         NaN   0.000000e+00      NaN   \n",
       "max          NaN         NaN   8.780000e+02      NaN   \n",
       "\n",
       "                        Estacion     Tipo          Xutm          Yutm  \\\n",
       "count                    9895905  9895905  9.895905e+06  9.895905e+06   \n",
       "unique                       835        4           NaN           NaN   \n",
       "top     TORTOSA, OBSER. DEL EBRO   INMman           NaN           NaN   \n",
       "freq                       36012  9734857           NaN           NaN   \n",
       "mean                         NaN      NaN  6.568422e+05  4.349168e+06   \n",
       "std                          NaN      NaN  1.123354e+05  1.112732e+05   \n",
       "min                          NaN      NaN  3.344300e+04  4.075366e+06   \n",
       "25%                          NaN      NaN  6.209690e+05  4.270236e+06   \n",
       "50%                          NaN      NaN  6.913740e+05  4.343742e+06   \n",
       "75%                          NaN      NaN  7.226450e+05  4.418167e+06   \n",
       "max                          NaN      NaN  8.150770e+05  4.828087e+06   \n",
       "\n",
       "              Altura Provincia  Umbral_20_40_km_costa       Tmaxima ValidTmax  \\\n",
       "count   9.895905e+06   9895905           9.895905e+06  3.508029e+06   3508029   \n",
       "unique           NaN        29                    NaN           NaN         2   \n",
       "top              NaN         V                    NaN           NaN         S   \n",
       "freq             NaN   2717440                    NaN           NaN   3293416   \n",
       "mean    4.853115e+02       NaN           2.170715e+00  2.059618e+01       NaN   \n",
       "std     3.946691e+02       NaN           8.670858e-01  8.680685e+00       NaN   \n",
       "min     1.000000e+00       NaN           1.000000e+00 -9.900000e+01       NaN   \n",
       "25%     8.600000e+01       NaN           1.000000e+00  1.500000e+01       NaN   \n",
       "50%     4.190000e+02       NaN           2.000000e+00  2.100000e+01       NaN   \n",
       "75%     8.100000e+02       NaN           3.000000e+00  2.710000e+01       NaN   \n",
       "max     1.890000e+03       NaN           3.000000e+00  5.270000e+01       NaN   \n",
       "\n",
       "             Tminima ValidTmin  \n",
       "count   3.507394e+06   3507394  \n",
       "unique           NaN         2  \n",
       "top              NaN         S  \n",
       "freq             NaN   3306807  \n",
       "mean    9.963253e+00       NaN  \n",
       "std     6.859695e+00       NaN  \n",
       "min    -9.900000e+01       NaN  \n",
       "25%     5.000000e+00       NaN  \n",
       "50%     1.000000e+01       NaN  \n",
       "75%     1.500000e+01       NaN  \n",
       "max     3.900000e+01       NaN  "
      ]
     },
     "execution_count": 41,
     "metadata": {},
     "output_type": "execute_result"
    }
   ],
   "source": [
    "data_raw.describe(include='all')"
   ]
  },
  {
   "cell_type": "markdown",
   "metadata": {
    "ExecuteTime": {
     "end_time": "2019-06-10T14:50:55.189281Z",
     "start_time": "2019-06-10T14:50:55.119702Z"
    }
   },
   "source": [
    "## Limpieza de datos"
   ]
  },
  {
   "cell_type": "markdown",
   "metadata": {},
   "source": [
    "### Días sin precipitación"
   ]
  },
  {
   "cell_type": "code",
   "execution_count": 42,
   "metadata": {
    "ExecuteTime": {
     "end_time": "2019-06-14T12:36:14.309136Z",
     "start_time": "2019-06-14T12:36:10.196538Z"
    },
    "scrolled": true
   },
   "outputs": [
    {
     "data": {
      "text/html": [
       "<div>\n",
       "<style scoped>\n",
       "    .dataframe tbody tr th:only-of-type {\n",
       "        vertical-align: middle;\n",
       "    }\n",
       "\n",
       "    .dataframe tbody tr th {\n",
       "        vertical-align: top;\n",
       "    }\n",
       "\n",
       "    .dataframe thead th {\n",
       "        text-align: right;\n",
       "    }\n",
       "</style>\n",
       "<table border=\"1\" class=\"dataframe\">\n",
       "  <thead>\n",
       "    <tr style=\"text-align: right;\">\n",
       "      <th></th>\n",
       "      <th>Precipitacion</th>\n",
       "      <th>Xutm</th>\n",
       "      <th>Yutm</th>\n",
       "      <th>Altura</th>\n",
       "      <th>Umbral_20_40_km_costa</th>\n",
       "      <th>Tmaxima</th>\n",
       "      <th>Tminima</th>\n",
       "    </tr>\n",
       "  </thead>\n",
       "  <tbody>\n",
       "    <tr>\n",
       "      <th>count</th>\n",
       "      <td>9.895905e+06</td>\n",
       "      <td>9.895905e+06</td>\n",
       "      <td>9.895905e+06</td>\n",
       "      <td>9.895905e+06</td>\n",
       "      <td>9.895905e+06</td>\n",
       "      <td>3.357939e+06</td>\n",
       "      <td>3.357324e+06</td>\n",
       "    </tr>\n",
       "    <tr>\n",
       "      <th>mean</th>\n",
       "      <td>-3.226154e+00</td>\n",
       "      <td>6.568422e+05</td>\n",
       "      <td>4.349168e+06</td>\n",
       "      <td>4.853115e+02</td>\n",
       "      <td>2.170715e+00</td>\n",
       "      <td>2.061929e+01</td>\n",
       "      <td>1.000101e+01</td>\n",
       "    </tr>\n",
       "    <tr>\n",
       "      <th>std</th>\n",
       "      <td>2.210382e+01</td>\n",
       "      <td>1.123354e+05</td>\n",
       "      <td>1.112732e+05</td>\n",
       "      <td>3.946691e+02</td>\n",
       "      <td>8.670858e-01</td>\n",
       "      <td>8.653267e+00</td>\n",
       "      <td>6.855328e+00</td>\n",
       "    </tr>\n",
       "    <tr>\n",
       "      <th>min</th>\n",
       "      <td>-9.990000e+01</td>\n",
       "      <td>3.344300e+04</td>\n",
       "      <td>4.075366e+06</td>\n",
       "      <td>1.000000e+00</td>\n",
       "      <td>1.000000e+00</td>\n",
       "      <td>-9.900000e+01</td>\n",
       "      <td>-9.900000e+01</td>\n",
       "    </tr>\n",
       "    <tr>\n",
       "      <th>25%</th>\n",
       "      <td>0.000000e+00</td>\n",
       "      <td>6.209690e+05</td>\n",
       "      <td>4.270236e+06</td>\n",
       "      <td>8.600000e+01</td>\n",
       "      <td>1.000000e+00</td>\n",
       "      <td>1.500000e+01</td>\n",
       "      <td>5.000000e+00</td>\n",
       "    </tr>\n",
       "    <tr>\n",
       "      <th>50%</th>\n",
       "      <td>0.000000e+00</td>\n",
       "      <td>6.913740e+05</td>\n",
       "      <td>4.343742e+06</td>\n",
       "      <td>4.190000e+02</td>\n",
       "      <td>2.000000e+00</td>\n",
       "      <td>2.100000e+01</td>\n",
       "      <td>1.000000e+01</td>\n",
       "    </tr>\n",
       "    <tr>\n",
       "      <th>75%</th>\n",
       "      <td>0.000000e+00</td>\n",
       "      <td>7.226450e+05</td>\n",
       "      <td>4.418167e+06</td>\n",
       "      <td>8.100000e+02</td>\n",
       "      <td>3.000000e+00</td>\n",
       "      <td>2.710000e+01</td>\n",
       "      <td>1.510000e+01</td>\n",
       "    </tr>\n",
       "    <tr>\n",
       "      <th>max</th>\n",
       "      <td>8.780000e+02</td>\n",
       "      <td>8.150770e+05</td>\n",
       "      <td>4.828087e+06</td>\n",
       "      <td>1.890000e+03</td>\n",
       "      <td>3.000000e+00</td>\n",
       "      <td>5.270000e+01</td>\n",
       "      <td>3.810000e+01</td>\n",
       "    </tr>\n",
       "  </tbody>\n",
       "</table>\n",
       "</div>"
      ],
      "text/plain": [
       "       Precipitacion          Xutm          Yutm        Altura  \\\n",
       "count   9.895905e+06  9.895905e+06  9.895905e+06  9.895905e+06   \n",
       "mean   -3.226154e+00  6.568422e+05  4.349168e+06  4.853115e+02   \n",
       "std     2.210382e+01  1.123354e+05  1.112732e+05  3.946691e+02   \n",
       "min    -9.990000e+01  3.344300e+04  4.075366e+06  1.000000e+00   \n",
       "25%     0.000000e+00  6.209690e+05  4.270236e+06  8.600000e+01   \n",
       "50%     0.000000e+00  6.913740e+05  4.343742e+06  4.190000e+02   \n",
       "75%     0.000000e+00  7.226450e+05  4.418167e+06  8.100000e+02   \n",
       "max     8.780000e+02  8.150770e+05  4.828087e+06  1.890000e+03   \n",
       "\n",
       "       Umbral_20_40_km_costa       Tmaxima       Tminima  \n",
       "count           9.895905e+06  3.357939e+06  3.357324e+06  \n",
       "mean            2.170715e+00  2.061929e+01  1.000101e+01  \n",
       "std             8.670858e-01  8.653267e+00  6.855328e+00  \n",
       "min             1.000000e+00 -9.900000e+01 -9.900000e+01  \n",
       "25%             1.000000e+00  1.500000e+01  5.000000e+00  \n",
       "50%             2.000000e+00  2.100000e+01  1.000000e+01  \n",
       "75%             3.000000e+00  2.710000e+01  1.510000e+01  \n",
       "max             3.000000e+00  5.270000e+01  3.810000e+01  "
      ]
     },
     "execution_count": 42,
     "metadata": {},
     "output_type": "execute_result"
    }
   ],
   "source": [
    "data_halfraw = data_raw.dropna(subset=['Precipitacion','ValidPP']) # elimina las filas que no tienen datos de precipitacion\n",
    "data_halfraw.describe()"
   ]
  },
  {
   "cell_type": "markdown",
   "metadata": {},
   "source": [
    "### Datos de precipitación NO válidos"
   ]
  },
  {
   "cell_type": "code",
   "execution_count": 43,
   "metadata": {
    "ExecuteTime": {
     "end_time": "2019-06-14T12:36:28.982593Z",
     "start_time": "2019-06-14T12:36:25.620002Z"
    }
   },
   "outputs": [
    {
     "data": {
      "text/plain": [
       "CodigoEst                      0\n",
       "Fecha                          0\n",
       "Precipitacion                  0\n",
       "ValidPP                        0\n",
       "Estacion                       0\n",
       "Tipo                           0\n",
       "Xutm                           0\n",
       "Yutm                           0\n",
       "Altura                         0\n",
       "Provincia                      0\n",
       "Umbral_20_40_km_costa          0\n",
       "Tmaxima                  6537966\n",
       "ValidTmax                6537966\n",
       "Tminima                  6538581\n",
       "ValidTmin                6538581\n",
       "dtype: int64"
      ]
     },
     "execution_count": 43,
     "metadata": {},
     "output_type": "execute_result"
    }
   ],
   "source": [
    "data_halfraw.isnull().sum()    # no NaN data in Precipitacion, only in Temperatures"
   ]
  },
  {
   "cell_type": "code",
   "execution_count": 51,
   "metadata": {
    "ExecuteTime": {
     "end_time": "2019-06-14T12:39:35.062440Z",
     "start_time": "2019-06-14T12:39:34.819114Z"
    }
   },
   "outputs": [
    {
     "data": {
      "text/plain": [
       "array(['S', 'N', 'A'], dtype=object)"
      ]
     },
     "execution_count": 51,
     "metadata": {},
     "output_type": "execute_result"
    }
   ],
   "source": [
    "data_halfraw.ValidPP.unique()                              # dice que en ValidPP, a parte de S y N, hay un campo A..."
   ]
  },
  {
   "cell_type": "code",
   "execution_count": 55,
   "metadata": {
    "ExecuteTime": {
     "end_time": "2019-06-14T13:22:40.706100Z",
     "start_time": "2019-06-14T13:22:35.122681Z"
    },
    "hide_input": true,
    "scrolled": false
   },
   "outputs": [
    {
     "name": "stdout",
     "output_type": "stream",
     "text": [
      "--- Validez de la precipitación ---\n",
      "\n",
      "\n",
      "Hay 0 casos con validez N , de los cuales 0 tienen precipitacion > 0\n",
      "    Cuando la validez es N y la cantidad es -99.9 mm, hay 0 casos\n",
      "    Cuando la validez es N y la cantidad es -0.4 mm, hay 0 casos\n",
      "    Cuando la validez es N y la cantidad es -0.3 mm, hay 0 casos\n",
      "    Cuando la validez es N y la cantidad es 0 mm, hay 0 casos\n",
      "\n",
      "\n",
      "Hay 8020 casos con validez A , de los cuales 6613 tienen precipitacion > 0\n",
      "    Cuando la validez es A y la cantidad es -99.9 mm, hay 0 casos\n",
      "    Cuando la validez es A y la cantidad es -0.4 mm, hay 1033 casos\n",
      "    Cuando la validez es A y la cantidad es -0.3 mm, hay 3 casos\n",
      "    Cuando la validez es A y la cantidad es 0 mm, hay 371 casos\n",
      "\n",
      "\n"
     ]
    }
   ],
   "source": [
    "# Input\n",
    "ValidPP = ['N', 'A']          # casos con validez diferente a 'S'\n",
    "value = [-99.9, -0.4,-0.3, 0] # valores concretos con precipitación menor que 0\n",
    "\n",
    "print ('--- Validez de la precipitación ---')\n",
    "print(\"\\n\")\n",
    "\n",
    "for each1 in ValidPP:\n",
    "    lentot = len(data_halfraw[(data_halfraw.ValidPP == each1)])\n",
    "    lenpos = len(data_halfraw[(data_halfraw.ValidPP == each1) & (data_halfraw.Precipitacion > 0)])\n",
    "    print ('Hay '+str(lentot)+' casos con validez '+ each1+' , de los cuales '+str(lenpos) +' tienen precipitacion > 0')\n",
    "    for each2 in value:\n",
    "        lenneg = len(data_halfraw[(data_halfraw.ValidPP == each1) & (data_halfraw.Precipitacion == each2)])\n",
    "        print('    Cuando la validez es '+ each1 +' y la cantidad es ' + str(each2)+' mm, hay '+ str(lenneg) +' casos' )\n",
    "    print(\"\\n\")"
   ]
  },
  {
   "cell_type": "code",
   "execution_count": 56,
   "metadata": {
    "ExecuteTime": {
     "end_time": "2019-06-14T13:22:48.221912Z",
     "start_time": "2019-06-14T13:22:45.897594Z"
    }
   },
   "outputs": [
    {
     "data": {
      "text/plain": [
       "649158"
      ]
     },
     "execution_count": 56,
     "metadata": {},
     "output_type": "execute_result"
    }
   ],
   "source": [
    "# elimina validez N (linea 1) y elimina validez A solo en el caso que pp = -99.9 mm \n",
    "\n",
    "data_halfraw = data_halfraw.drop(data_halfraw[(data_halfraw['ValidPP'] == 'N') |    \n",
    "                                (data_halfraw['ValidPP'] == 'A') & (data_halfraw.Precipitacion == (-99.9))].index)\n",
    "len(data_raw)-len(data_halfraw)"
   ]
  },
  {
   "cell_type": "markdown",
   "metadata": {},
   "source": [
    "### Datos de temperatura NO válidos"
   ]
  },
  {
   "cell_type": "code",
   "execution_count": 20,
   "metadata": {
    "ExecuteTime": {
     "end_time": "2019-06-14T12:21:13.976209Z",
     "start_time": "2019-06-14T12:21:11.278199Z"
    }
   },
   "outputs": [
    {
     "name": "stderr",
     "output_type": "stream",
     "text": [
      "C:\\Users\\ceam\\Anaconda3\\lib\\site-packages\\ipykernel_launcher.py:3: SettingWithCopyWarning: \n",
      "A value is trying to be set on a copy of a slice from a DataFrame\n",
      "\n",
      "See the caveats in the documentation: http://pandas.pydata.org/pandas-docs/stable/indexing.html#indexing-view-versus-copy\n",
      "  This is separate from the ipykernel package so we can avoid doing imports until\n",
      "C:\\Users\\ceam\\Anaconda3\\lib\\site-packages\\ipykernel_launcher.py:4: SettingWithCopyWarning: \n",
      "A value is trying to be set on a copy of a slice from a DataFrame\n",
      "\n",
      "See the caveats in the documentation: http://pandas.pydata.org/pandas-docs/stable/indexing.html#indexing-view-versus-copy\n",
      "  after removing the cwd from sys.path.\n"
     ]
    }
   ],
   "source": [
    "# elimina SOLO las temperaturas cuando el dato no es válido, deja el resto de la fila\n",
    "\n",
    "data_halfraw.Tmaxima[data_halfraw['ValidTmax'] == 'N'] = np.nan\n",
    "data_halfraw.Tminima[data_halfraw['ValidTmin'] == 'N'] = np.nan"
   ]
  },
  {
   "cell_type": "markdown",
   "metadata": {},
   "source": [
    "### Datos de fecha fuera de rango"
   ]
  },
  {
   "cell_type": "code",
   "execution_count": 21,
   "metadata": {
    "ExecuteTime": {
     "end_time": "2019-06-14T12:21:32.751171Z",
     "start_time": "2019-06-14T12:21:31.308571Z"
    }
   },
   "outputs": [
    {
     "data": {
      "text/plain": [
       "0"
      ]
     },
     "execution_count": 21,
     "metadata": {},
     "output_type": "execute_result"
    }
   ],
   "source": [
    "# con la anterior limpieza (por ValidPP), ha desaparecido también los errores de fecha (out of range)\n",
    "\n",
    "len(data_halfraw[data_halfraw.Fecha>'2018-12-31'])                     # datos en 2019: 1805, todos de enero\n",
    "len(data_halfraw.CodigoEst[data_halfraw.Fecha>'2018-12-31'].unique())  # número de estaciones con datos en 2019: 60\n",
    "\n",
    "len(data_halfraw[(data_halfraw.Fecha<'1900-01-01') & (data_halfraw.Fecha>'2019-06-01')]) # no data out of range"
   ]
  },
  {
   "cell_type": "code",
   "execution_count": 58,
   "metadata": {
    "ExecuteTime": {
     "end_time": "2019-06-14T13:24:19.085154Z",
     "start_time": "2019-06-14T13:24:18.537010Z"
    }
   },
   "outputs": [
    {
     "data": {
      "text/plain": [
       "array(['7028I', '7138A', '8008A', '8096', '8325C'], dtype=object)"
      ]
     },
     "execution_count": 58,
     "metadata": {},
     "output_type": "execute_result"
    }
   ],
   "source": [
    "# número de estaciones cuyos datos fueron todos eliminados por validez de precipitación\n",
    "\n",
    "a = data_halfraw.CodigoEst.unique() # estaciones con datos válidos\n",
    "b = data_raw.CodigoEst.unique()     # estaciones con datos\n",
    "\n",
    "main_list = np.setdiff1d(b,a)\n",
    "main_list                            # lista de estaciones sin datos válidos (8096 = Cuenca)\n",
    "\n",
    "#len(b)-len(a)                     #  número estaciones sin datos válidos"
   ]
  },
  {
   "cell_type": "markdown",
   "metadata": {},
   "source": [
    "### Formatos uniformes"
   ]
  },
  {
   "cell_type": "code",
   "execution_count": 61,
   "metadata": {
    "ExecuteTime": {
     "end_time": "2019-06-14T13:25:07.830184Z",
     "start_time": "2019-06-14T13:25:05.161015Z"
    }
   },
   "outputs": [
    {
     "data": {
      "text/plain": [
       "count    9397180.0\n",
       "mean          10.0\n",
       "std            0.0\n",
       "min           10.0\n",
       "25%           10.0\n",
       "50%           10.0\n",
       "75%           10.0\n",
       "max           10.0\n",
       "Name: Fecha, dtype: float64"
      ]
     },
     "execution_count": 61,
     "metadata": {},
     "output_type": "execute_result"
    }
   ],
   "source": [
    "# longitud de cada uno de los items de una Serie (columna). para saber si uniforme, usar mean() o mejor, describe()\n",
    "\n",
    "data_halfraw.Fecha.str.len().describe()"
   ]
  },
  {
   "cell_type": "code",
   "execution_count": 74,
   "metadata": {
    "ExecuteTime": {
     "end_time": "2019-06-14T13:30:26.700348Z",
     "start_time": "2019-06-14T13:30:21.817515Z"
    }
   },
   "outputs": [
    {
     "data": {
      "text/plain": [
       "count    8661698.0\n",
       "mean           8.0\n",
       "std            0.0\n",
       "min            8.0\n",
       "25%            8.0\n",
       "50%            8.0\n",
       "75%            8.0\n",
       "max            8.0\n",
       "Name: Xutm, dtype: float64"
      ]
     },
     "execution_count": 74,
     "metadata": {},
     "output_type": "execute_result"
    }
   ],
   "source": [
    "data_halfraw.Xutm.astype('str').str.len().describe()    # num de dígitos en Xutm"
   ]
  },
  {
   "cell_type": "code",
   "execution_count": 63,
   "metadata": {
    "ExecuteTime": {
     "end_time": "2019-06-14T13:25:28.421030Z",
     "start_time": "2019-06-14T13:25:22.873356Z"
    }
   },
   "outputs": [
    {
     "data": {
      "text/plain": [
       "count    9397180.0\n",
       "mean           9.0\n",
       "std            0.0\n",
       "min            9.0\n",
       "25%            9.0\n",
       "50%            9.0\n",
       "75%            9.0\n",
       "max            9.0\n",
       "Name: Yutm, dtype: float64"
      ]
     },
     "execution_count": 63,
     "metadata": {},
     "output_type": "execute_result"
    }
   ],
   "source": [
    "data_halfraw.Yutm.astype('str').str.len().describe()    # num de dígitos en Yutm"
   ]
  },
  {
   "cell_type": "code",
   "execution_count": 76,
   "metadata": {
    "ExecuteTime": {
     "end_time": "2019-06-14T13:31:13.623098Z",
     "start_time": "2019-06-14T13:31:13.610132Z"
    }
   },
   "outputs": [
    {
     "data": {
      "text/html": [
       "<div>\n",
       "<style scoped>\n",
       "    .dataframe tbody tr th:only-of-type {\n",
       "        vertical-align: middle;\n",
       "    }\n",
       "\n",
       "    .dataframe tbody tr th {\n",
       "        vertical-align: top;\n",
       "    }\n",
       "\n",
       "    .dataframe thead th {\n",
       "        text-align: right;\n",
       "    }\n",
       "</style>\n",
       "<table border=\"1\" class=\"dataframe\">\n",
       "  <thead>\n",
       "    <tr style=\"text-align: right;\">\n",
       "      <th></th>\n",
       "      <th>CodigoEst</th>\n",
       "      <th>Fecha</th>\n",
       "      <th>Precipitacion</th>\n",
       "      <th>ValidPP</th>\n",
       "      <th>Estacion</th>\n",
       "      <th>Tipo</th>\n",
       "      <th>Xutm</th>\n",
       "      <th>Yutm</th>\n",
       "      <th>Altura</th>\n",
       "      <th>Provincia</th>\n",
       "      <th>Umbral_20_40_km_costa</th>\n",
       "      <th>Tmaxima</th>\n",
       "      <th>ValidTmax</th>\n",
       "      <th>Tminima</th>\n",
       "      <th>ValidTmin</th>\n",
       "    </tr>\n",
       "  </thead>\n",
       "  <tbody>\n",
       "    <tr>\n",
       "      <th>3562254</th>\n",
       "      <td>8073</td>\n",
       "      <td>2018-11-26</td>\n",
       "      <td>0.0</td>\n",
       "      <td>S</td>\n",
       "      <td>XERESA</td>\n",
       "      <td>INMman</td>\n",
       "      <td>740848.0</td>\n",
       "      <td>4321455.0</td>\n",
       "      <td>25.0</td>\n",
       "      <td>V</td>\n",
       "      <td>1.0</td>\n",
       "      <td>NaN</td>\n",
       "      <td>NaN</td>\n",
       "      <td>NaN</td>\n",
       "      <td>NaN</td>\n",
       "    </tr>\n",
       "    <tr>\n",
       "      <th>3562239</th>\n",
       "      <td>8073</td>\n",
       "      <td>2018-11-27</td>\n",
       "      <td>0.0</td>\n",
       "      <td>S</td>\n",
       "      <td>XERESA</td>\n",
       "      <td>INMman</td>\n",
       "      <td>740848.0</td>\n",
       "      <td>4321455.0</td>\n",
       "      <td>25.0</td>\n",
       "      <td>V</td>\n",
       "      <td>1.0</td>\n",
       "      <td>NaN</td>\n",
       "      <td>NaN</td>\n",
       "      <td>NaN</td>\n",
       "      <td>NaN</td>\n",
       "    </tr>\n",
       "    <tr>\n",
       "      <th>3562224</th>\n",
       "      <td>8073</td>\n",
       "      <td>2018-11-28</td>\n",
       "      <td>0.0</td>\n",
       "      <td>S</td>\n",
       "      <td>XERESA</td>\n",
       "      <td>INMman</td>\n",
       "      <td>740848.0</td>\n",
       "      <td>4321455.0</td>\n",
       "      <td>25.0</td>\n",
       "      <td>V</td>\n",
       "      <td>1.0</td>\n",
       "      <td>NaN</td>\n",
       "      <td>NaN</td>\n",
       "      <td>NaN</td>\n",
       "      <td>NaN</td>\n",
       "    </tr>\n",
       "    <tr>\n",
       "      <th>3562210</th>\n",
       "      <td>8073</td>\n",
       "      <td>2018-11-29</td>\n",
       "      <td>0.0</td>\n",
       "      <td>S</td>\n",
       "      <td>XERESA</td>\n",
       "      <td>INMman</td>\n",
       "      <td>740848.0</td>\n",
       "      <td>4321455.0</td>\n",
       "      <td>25.0</td>\n",
       "      <td>V</td>\n",
       "      <td>1.0</td>\n",
       "      <td>NaN</td>\n",
       "      <td>NaN</td>\n",
       "      <td>NaN</td>\n",
       "      <td>NaN</td>\n",
       "    </tr>\n",
       "    <tr>\n",
       "      <th>3562196</th>\n",
       "      <td>8073</td>\n",
       "      <td>2018-11-30</td>\n",
       "      <td>0.0</td>\n",
       "      <td>S</td>\n",
       "      <td>XERESA</td>\n",
       "      <td>INMman</td>\n",
       "      <td>740848.0</td>\n",
       "      <td>4321455.0</td>\n",
       "      <td>25.0</td>\n",
       "      <td>V</td>\n",
       "      <td>1.0</td>\n",
       "      <td>NaN</td>\n",
       "      <td>NaN</td>\n",
       "      <td>NaN</td>\n",
       "      <td>NaN</td>\n",
       "    </tr>\n",
       "  </tbody>\n",
       "</table>\n",
       "</div>"
      ],
      "text/plain": [
       "        CodigoEst       Fecha  Precipitacion ValidPP Estacion    Tipo  \\\n",
       "3562254      8073  2018-11-26            0.0       S   XERESA  INMman   \n",
       "3562239      8073  2018-11-27            0.0       S   XERESA  INMman   \n",
       "3562224      8073  2018-11-28            0.0       S   XERESA  INMman   \n",
       "3562210      8073  2018-11-29            0.0       S   XERESA  INMman   \n",
       "3562196      8073  2018-11-30            0.0       S   XERESA  INMman   \n",
       "\n",
       "             Xutm       Yutm  Altura Provincia  Umbral_20_40_km_costa  \\\n",
       "3562254  740848.0  4321455.0    25.0         V                    1.0   \n",
       "3562239  740848.0  4321455.0    25.0         V                    1.0   \n",
       "3562224  740848.0  4321455.0    25.0         V                    1.0   \n",
       "3562210  740848.0  4321455.0    25.0         V                    1.0   \n",
       "3562196  740848.0  4321455.0    25.0         V                    1.0   \n",
       "\n",
       "         Tmaxima ValidTmax  Tminima ValidTmin  \n",
       "3562254      NaN       NaN      NaN       NaN  \n",
       "3562239      NaN       NaN      NaN       NaN  \n",
       "3562224      NaN       NaN      NaN       NaN  \n",
       "3562210      NaN       NaN      NaN       NaN  \n",
       "3562196      NaN       NaN      NaN       NaN  "
      ]
     },
     "execution_count": 76,
     "metadata": {},
     "output_type": "execute_result"
    }
   ],
   "source": [
    "data_halfraw.tail()"
   ]
  },
  {
   "cell_type": "code",
   "execution_count": 77,
   "metadata": {
    "ExecuteTime": {
     "end_time": "2019-06-14T13:31:21.456117Z",
     "start_time": "2019-06-14T13:31:21.449107Z"
    }
   },
   "outputs": [
    {
     "data": {
      "text/plain": [
       "CodigoEst                 object\n",
       "Fecha                     object\n",
       "Precipitacion            float64\n",
       "ValidPP                   object\n",
       "Estacion                  object\n",
       "Tipo                      object\n",
       "Xutm                     float64\n",
       "Yutm                     float64\n",
       "Altura                   float64\n",
       "Provincia                 object\n",
       "Umbral_20_40_km_costa    float64\n",
       "Tmaxima                  float64\n",
       "ValidTmax                 object\n",
       "Tminima                  float64\n",
       "ValidTmin                 object\n",
       "dtype: object"
      ]
     },
     "execution_count": 77,
     "metadata": {},
     "output_type": "execute_result"
    }
   ],
   "source": [
    "data_halfraw.dtypes                                     # formato de las columnas de mi DB"
   ]
  },
  {
   "cell_type": "markdown",
   "metadata": {},
   "source": [
    "### Estaciones fuera de rango geogràfico"
   ]
  },
  {
   "cell_type": "code",
   "execution_count": 65,
   "metadata": {
    "ExecuteTime": {
     "end_time": "2019-06-14T13:25:53.510438Z",
     "start_time": "2019-06-14T13:25:52.481697Z"
    },
    "scrolled": true
   },
   "outputs": [],
   "source": [
    "# Eliminar datos de estaciones que no sean C, V, A, MU, AB, CU, TE\n",
    "\n",
    "data_halfraw = data_halfraw[data_halfraw.Provincia.isin(['CU', 'AB','MU','TE','C','V','A'])]"
   ]
  },
  {
   "cell_type": "markdown",
   "metadata": {},
   "source": [
    "### Ordenar"
   ]
  },
  {
   "cell_type": "code",
   "execution_count": 78,
   "metadata": {
    "ExecuteTime": {
     "end_time": "2019-06-14T13:31:33.470253Z",
     "start_time": "2019-06-14T13:31:29.416684Z"
    }
   },
   "outputs": [],
   "source": [
    "### La jerarquía es: 1. Provincia, 2. Nombre de estación, 3. Fecha\n",
    "\n",
    "data_halfraw.sort_values(by=['Provincia','Estacion','Fecha'], inplace=True)"
   ]
  },
  {
   "cell_type": "code",
   "execution_count": 79,
   "metadata": {
    "ExecuteTime": {
     "end_time": "2019-06-14T13:31:34.327064Z",
     "start_time": "2019-06-14T13:31:34.314128Z"
    }
   },
   "outputs": [
    {
     "data": {
      "text/html": [
       "<div>\n",
       "<style scoped>\n",
       "    .dataframe tbody tr th:only-of-type {\n",
       "        vertical-align: middle;\n",
       "    }\n",
       "\n",
       "    .dataframe tbody tr th {\n",
       "        vertical-align: top;\n",
       "    }\n",
       "\n",
       "    .dataframe thead th {\n",
       "        text-align: right;\n",
       "    }\n",
       "</style>\n",
       "<table border=\"1\" class=\"dataframe\">\n",
       "  <thead>\n",
       "    <tr style=\"text-align: right;\">\n",
       "      <th></th>\n",
       "      <th>CodigoEst</th>\n",
       "      <th>Fecha</th>\n",
       "      <th>Precipitacion</th>\n",
       "      <th>ValidPP</th>\n",
       "      <th>Estacion</th>\n",
       "      <th>Tipo</th>\n",
       "      <th>Xutm</th>\n",
       "      <th>Yutm</th>\n",
       "      <th>Altura</th>\n",
       "      <th>Provincia</th>\n",
       "      <th>Umbral_20_40_km_costa</th>\n",
       "      <th>Tmaxima</th>\n",
       "      <th>ValidTmax</th>\n",
       "      <th>Tminima</th>\n",
       "      <th>ValidTmin</th>\n",
       "    </tr>\n",
       "  </thead>\n",
       "  <tbody>\n",
       "    <tr>\n",
       "      <th>979498</th>\n",
       "      <td>8021A</td>\n",
       "      <td>1975-05-01</td>\n",
       "      <td>0.0</td>\n",
       "      <td>S</td>\n",
       "      <td>AGOST, ESCOLA</td>\n",
       "      <td>INMman</td>\n",
       "      <td>705962.0</td>\n",
       "      <td>4257098.0</td>\n",
       "      <td>376.0</td>\n",
       "      <td>A</td>\n",
       "      <td>1.0</td>\n",
       "      <td>NaN</td>\n",
       "      <td>NaN</td>\n",
       "      <td>NaN</td>\n",
       "      <td>NaN</td>\n",
       "    </tr>\n",
       "    <tr>\n",
       "      <th>979499</th>\n",
       "      <td>8021A</td>\n",
       "      <td>1975-05-02</td>\n",
       "      <td>0.0</td>\n",
       "      <td>S</td>\n",
       "      <td>AGOST, ESCOLA</td>\n",
       "      <td>INMman</td>\n",
       "      <td>705962.0</td>\n",
       "      <td>4257098.0</td>\n",
       "      <td>376.0</td>\n",
       "      <td>A</td>\n",
       "      <td>1.0</td>\n",
       "      <td>NaN</td>\n",
       "      <td>NaN</td>\n",
       "      <td>NaN</td>\n",
       "      <td>NaN</td>\n",
       "    </tr>\n",
       "    <tr>\n",
       "      <th>979500</th>\n",
       "      <td>8021A</td>\n",
       "      <td>1975-05-03</td>\n",
       "      <td>0.0</td>\n",
       "      <td>S</td>\n",
       "      <td>AGOST, ESCOLA</td>\n",
       "      <td>INMman</td>\n",
       "      <td>705962.0</td>\n",
       "      <td>4257098.0</td>\n",
       "      <td>376.0</td>\n",
       "      <td>A</td>\n",
       "      <td>1.0</td>\n",
       "      <td>NaN</td>\n",
       "      <td>NaN</td>\n",
       "      <td>NaN</td>\n",
       "      <td>NaN</td>\n",
       "    </tr>\n",
       "    <tr>\n",
       "      <th>979501</th>\n",
       "      <td>8021A</td>\n",
       "      <td>1975-05-04</td>\n",
       "      <td>2.8</td>\n",
       "      <td>S</td>\n",
       "      <td>AGOST, ESCOLA</td>\n",
       "      <td>INMman</td>\n",
       "      <td>705962.0</td>\n",
       "      <td>4257098.0</td>\n",
       "      <td>376.0</td>\n",
       "      <td>A</td>\n",
       "      <td>1.0</td>\n",
       "      <td>NaN</td>\n",
       "      <td>NaN</td>\n",
       "      <td>NaN</td>\n",
       "      <td>NaN</td>\n",
       "    </tr>\n",
       "    <tr>\n",
       "      <th>979502</th>\n",
       "      <td>8021A</td>\n",
       "      <td>1975-05-05</td>\n",
       "      <td>15.9</td>\n",
       "      <td>S</td>\n",
       "      <td>AGOST, ESCOLA</td>\n",
       "      <td>INMman</td>\n",
       "      <td>705962.0</td>\n",
       "      <td>4257098.0</td>\n",
       "      <td>376.0</td>\n",
       "      <td>A</td>\n",
       "      <td>1.0</td>\n",
       "      <td>NaN</td>\n",
       "      <td>NaN</td>\n",
       "      <td>NaN</td>\n",
       "      <td>NaN</td>\n",
       "    </tr>\n",
       "  </tbody>\n",
       "</table>\n",
       "</div>"
      ],
      "text/plain": [
       "       CodigoEst       Fecha  Precipitacion ValidPP       Estacion    Tipo  \\\n",
       "979498     8021A  1975-05-01            0.0       S  AGOST, ESCOLA  INMman   \n",
       "979499     8021A  1975-05-02            0.0       S  AGOST, ESCOLA  INMman   \n",
       "979500     8021A  1975-05-03            0.0       S  AGOST, ESCOLA  INMman   \n",
       "979501     8021A  1975-05-04            2.8       S  AGOST, ESCOLA  INMman   \n",
       "979502     8021A  1975-05-05           15.9       S  AGOST, ESCOLA  INMman   \n",
       "\n",
       "            Xutm       Yutm  Altura Provincia  Umbral_20_40_km_costa  Tmaxima  \\\n",
       "979498  705962.0  4257098.0   376.0         A                    1.0      NaN   \n",
       "979499  705962.0  4257098.0   376.0         A                    1.0      NaN   \n",
       "979500  705962.0  4257098.0   376.0         A                    1.0      NaN   \n",
       "979501  705962.0  4257098.0   376.0         A                    1.0      NaN   \n",
       "979502  705962.0  4257098.0   376.0         A                    1.0      NaN   \n",
       "\n",
       "       ValidTmax  Tminima ValidTmin  \n",
       "979498       NaN      NaN       NaN  \n",
       "979499       NaN      NaN       NaN  \n",
       "979500       NaN      NaN       NaN  \n",
       "979501       NaN      NaN       NaN  \n",
       "979502       NaN      NaN       NaN  "
      ]
     },
     "execution_count": 79,
     "metadata": {},
     "output_type": "execute_result"
    }
   ],
   "source": [
    "data_halfraw.head()"
   ]
  },
  {
   "cell_type": "markdown",
   "metadata": {},
   "source": [
    "# To Excel"
   ]
  },
  {
   "cell_type": "code",
   "execution_count": 80,
   "metadata": {
    "ExecuteTime": {
     "end_time": "2019-06-14T13:32:52.208310Z",
     "start_time": "2019-06-14T13:32:52.193351Z"
    }
   },
   "outputs": [],
   "source": [
    "meteodata = data_halfraw\n",
    "del data_halfraw"
   ]
  },
  {
   "cell_type": "code",
   "execution_count": 81,
   "metadata": {
    "ExecuteTime": {
     "end_time": "2019-06-14T13:33:00.261238Z",
     "start_time": "2019-06-14T13:33:00.257249Z"
    }
   },
   "outputs": [],
   "source": [
    "# reset index per a que estiga ordenat de 0 a X\n",
    "meteodata.reset_index(drop=True, inplace=True)"
   ]
  },
  {
   "cell_type": "code",
   "execution_count": 83,
   "metadata": {
    "ExecuteTime": {
     "end_time": "2019-06-14T13:35:17.190645Z",
     "start_time": "2019-06-14T13:34:16.416553Z"
    }
   },
   "outputs": [],
   "source": [
    "meteodata.to_csv('meteodata.csv')"
   ]
  },
  {
   "cell_type": "code",
   "execution_count": null,
   "metadata": {},
   "outputs": [],
   "source": []
  },
  {
   "cell_type": "markdown",
   "metadata": {},
   "source": [
    "## Other preprocessing"
   ]
  },
  {
   "cell_type": "code",
   "execution_count": 3,
   "metadata": {
    "ExecuteTime": {
     "end_time": "2019-07-03T10:21:56.941182Z",
     "start_time": "2019-07-03T10:21:56.938160Z"
    }
   },
   "outputs": [],
   "source": [
    "path2 = r'C:/CicloHidrico/Datos'      # directorio de los datos\n",
    "os.chdir(path2)"
   ]
  },
  {
   "cell_type": "code",
   "execution_count": 4,
   "metadata": {
    "ExecuteTime": {
     "end_time": "2019-07-03T10:22:10.985549Z",
     "start_time": "2019-07-03T10:21:57.257182Z"
    }
   },
   "outputs": [
    {
     "name": "stderr",
     "output_type": "stream",
     "text": [
      "C:\\Users\\ceam\\Anaconda3\\lib\\site-packages\\IPython\\core\\interactiveshell.py:3049: DtypeWarning: Columns (1,13,15) have mixed types. Specify dtype option on import or set low_memory=False.\n",
      "  interactivity=interactivity, compiler=compiler, result=result)\n",
      "C:\\Users\\ceam\\Anaconda3\\lib\\site-packages\\numpy\\lib\\arraysetops.py:569: FutureWarning: elementwise comparison failed; returning scalar instead, but in the future will perform elementwise comparison\n",
      "  mask |= (ar1 == a)\n"
     ]
    }
   ],
   "source": [
    "data = pd.read_csv(\"meteodata.csv\", index_col=0) "
   ]
  },
  {
   "cell_type": "code",
   "execution_count": 5,
   "metadata": {
    "ExecuteTime": {
     "end_time": "2019-07-03T10:22:52.861956Z",
     "start_time": "2019-07-03T10:22:43.361345Z"
    }
   },
   "outputs": [
    {
     "data": {
      "text/html": [
       "<div>\n",
       "<style scoped>\n",
       "    .dataframe tbody tr th:only-of-type {\n",
       "        vertical-align: middle;\n",
       "    }\n",
       "\n",
       "    .dataframe tbody tr th {\n",
       "        vertical-align: top;\n",
       "    }\n",
       "\n",
       "    .dataframe thead th {\n",
       "        text-align: right;\n",
       "    }\n",
       "</style>\n",
       "<table border=\"1\" class=\"dataframe\">\n",
       "  <thead>\n",
       "    <tr style=\"text-align: right;\">\n",
       "      <th></th>\n",
       "      <th>CodigoEst</th>\n",
       "      <th>Fecha</th>\n",
       "      <th>Precipitacion</th>\n",
       "      <th>ValidPP</th>\n",
       "      <th>Estacion</th>\n",
       "      <th>Tipo</th>\n",
       "      <th>Xutm</th>\n",
       "      <th>Yutm</th>\n",
       "      <th>Altura</th>\n",
       "      <th>Provincia</th>\n",
       "      <th>Umbral_20_40_km_costa</th>\n",
       "      <th>Tmaxima</th>\n",
       "      <th>ValidTmax</th>\n",
       "      <th>Tminima</th>\n",
       "      <th>ValidTmin</th>\n",
       "      <th>Year</th>\n",
       "      <th>Month</th>\n",
       "      <th>Day</th>\n",
       "    </tr>\n",
       "  </thead>\n",
       "  <tbody>\n",
       "    <tr>\n",
       "      <th>8661693</th>\n",
       "      <td>8073</td>\n",
       "      <td>2018-11-26</td>\n",
       "      <td>0.0</td>\n",
       "      <td>S</td>\n",
       "      <td>XERESA</td>\n",
       "      <td>INMman</td>\n",
       "      <td>740848.0</td>\n",
       "      <td>4321455.0</td>\n",
       "      <td>25.0</td>\n",
       "      <td>V</td>\n",
       "      <td>1.0</td>\n",
       "      <td>NaN</td>\n",
       "      <td>NaN</td>\n",
       "      <td>NaN</td>\n",
       "      <td>NaN</td>\n",
       "      <td>2018</td>\n",
       "      <td>11</td>\n",
       "      <td>26</td>\n",
       "    </tr>\n",
       "    <tr>\n",
       "      <th>8661694</th>\n",
       "      <td>8073</td>\n",
       "      <td>2018-11-27</td>\n",
       "      <td>0.0</td>\n",
       "      <td>S</td>\n",
       "      <td>XERESA</td>\n",
       "      <td>INMman</td>\n",
       "      <td>740848.0</td>\n",
       "      <td>4321455.0</td>\n",
       "      <td>25.0</td>\n",
       "      <td>V</td>\n",
       "      <td>1.0</td>\n",
       "      <td>NaN</td>\n",
       "      <td>NaN</td>\n",
       "      <td>NaN</td>\n",
       "      <td>NaN</td>\n",
       "      <td>2018</td>\n",
       "      <td>11</td>\n",
       "      <td>27</td>\n",
       "    </tr>\n",
       "    <tr>\n",
       "      <th>8661695</th>\n",
       "      <td>8073</td>\n",
       "      <td>2018-11-28</td>\n",
       "      <td>0.0</td>\n",
       "      <td>S</td>\n",
       "      <td>XERESA</td>\n",
       "      <td>INMman</td>\n",
       "      <td>740848.0</td>\n",
       "      <td>4321455.0</td>\n",
       "      <td>25.0</td>\n",
       "      <td>V</td>\n",
       "      <td>1.0</td>\n",
       "      <td>NaN</td>\n",
       "      <td>NaN</td>\n",
       "      <td>NaN</td>\n",
       "      <td>NaN</td>\n",
       "      <td>2018</td>\n",
       "      <td>11</td>\n",
       "      <td>28</td>\n",
       "    </tr>\n",
       "    <tr>\n",
       "      <th>8661696</th>\n",
       "      <td>8073</td>\n",
       "      <td>2018-11-29</td>\n",
       "      <td>0.0</td>\n",
       "      <td>S</td>\n",
       "      <td>XERESA</td>\n",
       "      <td>INMman</td>\n",
       "      <td>740848.0</td>\n",
       "      <td>4321455.0</td>\n",
       "      <td>25.0</td>\n",
       "      <td>V</td>\n",
       "      <td>1.0</td>\n",
       "      <td>NaN</td>\n",
       "      <td>NaN</td>\n",
       "      <td>NaN</td>\n",
       "      <td>NaN</td>\n",
       "      <td>2018</td>\n",
       "      <td>11</td>\n",
       "      <td>29</td>\n",
       "    </tr>\n",
       "    <tr>\n",
       "      <th>8661697</th>\n",
       "      <td>8073</td>\n",
       "      <td>2018-11-30</td>\n",
       "      <td>0.0</td>\n",
       "      <td>S</td>\n",
       "      <td>XERESA</td>\n",
       "      <td>INMman</td>\n",
       "      <td>740848.0</td>\n",
       "      <td>4321455.0</td>\n",
       "      <td>25.0</td>\n",
       "      <td>V</td>\n",
       "      <td>1.0</td>\n",
       "      <td>NaN</td>\n",
       "      <td>NaN</td>\n",
       "      <td>NaN</td>\n",
       "      <td>NaN</td>\n",
       "      <td>2018</td>\n",
       "      <td>11</td>\n",
       "      <td>30</td>\n",
       "    </tr>\n",
       "  </tbody>\n",
       "</table>\n",
       "</div>"
      ],
      "text/plain": [
       "        CodigoEst       Fecha  Precipitacion ValidPP Estacion    Tipo  \\\n",
       "8661693      8073  2018-11-26            0.0       S   XERESA  INMman   \n",
       "8661694      8073  2018-11-27            0.0       S   XERESA  INMman   \n",
       "8661695      8073  2018-11-28            0.0       S   XERESA  INMman   \n",
       "8661696      8073  2018-11-29            0.0       S   XERESA  INMman   \n",
       "8661697      8073  2018-11-30            0.0       S   XERESA  INMman   \n",
       "\n",
       "             Xutm       Yutm  Altura Provincia  Umbral_20_40_km_costa  \\\n",
       "8661693  740848.0  4321455.0    25.0         V                    1.0   \n",
       "8661694  740848.0  4321455.0    25.0         V                    1.0   \n",
       "8661695  740848.0  4321455.0    25.0         V                    1.0   \n",
       "8661696  740848.0  4321455.0    25.0         V                    1.0   \n",
       "8661697  740848.0  4321455.0    25.0         V                    1.0   \n",
       "\n",
       "         Tmaxima ValidTmax  Tminima ValidTmin  Year Month Day  \n",
       "8661693      NaN       NaN      NaN       NaN  2018    11  26  \n",
       "8661694      NaN       NaN      NaN       NaN  2018    11  27  \n",
       "8661695      NaN       NaN      NaN       NaN  2018    11  28  \n",
       "8661696      NaN       NaN      NaN       NaN  2018    11  29  \n",
       "8661697      NaN       NaN      NaN       NaN  2018    11  30  "
      ]
     },
     "execution_count": 5,
     "metadata": {},
     "output_type": "execute_result"
    }
   ],
   "source": [
    "#adding Year Month Day columns\n",
    "\n",
    "data['Year']=[d.split('-')[0] for d in data.Fecha]\n",
    "data['Month']=[d.split('-')[1] for d in data.Fecha]\n",
    "data['Day']=[d.split('-')[2] for d in data.Fecha]\n",
    "\n",
    "data.tail(5)"
   ]
  },
  {
   "cell_type": "code",
   "execution_count": 6,
   "metadata": {
    "ExecuteTime": {
     "end_time": "2019-07-03T10:23:11.164905Z",
     "start_time": "2019-07-03T10:23:10.753971Z"
    }
   },
   "outputs": [],
   "source": [
    "data.CodigoEst = data.CodigoEst.astype('str')"
   ]
  },
  {
   "cell_type": "code",
   "execution_count": 7,
   "metadata": {
    "ExecuteTime": {
     "end_time": "2019-07-03T10:23:20.558721Z",
     "start_time": "2019-07-03T10:23:20.313381Z"
    }
   },
   "outputs": [
    {
     "data": {
      "text/plain": [
       "803"
      ]
     },
     "execution_count": 7,
     "metadata": {},
     "output_type": "execute_result"
    }
   ],
   "source": [
    "len(data.CodigoEst.unique())"
   ]
  },
  {
   "cell_type": "code",
   "execution_count": 8,
   "metadata": {
    "ExecuteTime": {
     "end_time": "2019-07-03T10:24:44.557452Z",
     "start_time": "2019-07-03T10:24:43.649679Z"
    }
   },
   "outputs": [],
   "source": [
    "est = pd.read_excel(\"estCHjuc.xlsx\",index_col=0)  # con las dist_costa"
   ]
  },
  {
   "cell_type": "code",
   "execution_count": 9,
   "metadata": {
    "ExecuteTime": {
     "end_time": "2019-07-03T10:24:49.606017Z",
     "start_time": "2019-07-03T10:24:49.603047Z"
    }
   },
   "outputs": [
    {
     "data": {
      "text/plain": [
       "803"
      ]
     },
     "execution_count": 9,
     "metadata": {},
     "output_type": "execute_result"
    }
   ],
   "source": [
    "len(est)"
   ]
  },
  {
   "cell_type": "code",
   "execution_count": 10,
   "metadata": {
    "ExecuteTime": {
     "end_time": "2019-07-03T10:26:07.298279Z",
     "start_time": "2019-07-03T10:25:10.433103Z"
    }
   },
   "outputs": [],
   "source": [
    "data = data.merge(est[['CodigoEst','dist_costa']],on='CodigoEst',how='left').reset_index(drop=True).drop_duplicates()"
   ]
  },
  {
   "cell_type": "code",
   "execution_count": 11,
   "metadata": {
    "ExecuteTime": {
     "end_time": "2019-07-03T10:26:11.129448Z",
     "start_time": "2019-07-03T10:26:10.904603Z"
    }
   },
   "outputs": [
    {
     "data": {
      "text/plain": [
       "8661698"
      ]
     },
     "execution_count": 11,
     "metadata": {},
     "output_type": "execute_result"
    }
   ],
   "source": [
    "data.dist_costa.count()"
   ]
  },
  {
   "cell_type": "code",
   "execution_count": 13,
   "metadata": {
    "ExecuteTime": {
     "end_time": "2019-07-03T10:31:42.111954Z",
     "start_time": "2019-07-03T10:30:29.754031Z"
    }
   },
   "outputs": [],
   "source": [
    "data.to_csv('meteodata.csv')"
   ]
  }
 ],
 "metadata": {
  "hide_input": false,
  "kernelspec": {
   "display_name": "Python 3",
   "language": "python",
   "name": "python3"
  },
  "language_info": {
   "codemirror_mode": {
    "name": "ipython",
    "version": 3
   },
   "file_extension": ".py",
   "mimetype": "text/x-python",
   "name": "python",
   "nbconvert_exporter": "python",
   "pygments_lexer": "ipython3",
   "version": "3.7.3"
  },
  "toc": {
   "base_numbering": 1,
   "nav_menu": {},
   "number_sections": true,
   "sideBar": true,
   "skip_h1_title": false,
   "title_cell": "Table of Contents",
   "title_sidebar": "Contents",
   "toc_cell": false,
   "toc_position": {},
   "toc_section_display": true,
   "toc_window_display": true
  },
  "varInspector": {
   "cols": {
    "lenName": 16,
    "lenType": 16,
    "lenVar": 40
   },
   "kernels_config": {
    "python": {
     "delete_cmd_postfix": "",
     "delete_cmd_prefix": "del ",
     "library": "var_list.py",
     "varRefreshCmd": "print(var_dic_list())"
    },
    "r": {
     "delete_cmd_postfix": ") ",
     "delete_cmd_prefix": "rm(",
     "library": "var_list.r",
     "varRefreshCmd": "cat(var_dic_list()) "
    }
   },
   "position": {
    "height": "759px",
    "left": "1551px",
    "right": "20px",
    "top": "116px",
    "width": "350px"
   },
   "types_to_exclude": [
    "module",
    "function",
    "builtin_function_or_method",
    "instance",
    "_Feature"
   ],
   "window_display": true
  }
 },
 "nbformat": 4,
 "nbformat_minor": 2
}
